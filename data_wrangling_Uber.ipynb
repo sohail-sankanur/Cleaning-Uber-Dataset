{
 "cells": [
  {
   "cell_type": "markdown",
   "metadata": {},
   "source": [
    "# Data Wrangling of Uber Dataset\n",
    "## Name: Sohail Sankanur"
   ]
  },
  {
   "cell_type": "markdown",
   "metadata": {},
   "source": [
    "# Task1: Cleaning a Dirty Dataset"
   ]
  },
  {
   "cell_type": "markdown",
   "metadata": {},
   "source": [
    "In this assignment our main task is to clean the data file which is given to us. The data file which is given to us is in csv format and is an Uber dataset. There are mistakes in the dataset which we have to identify and correct. Data cleaning is a very important part of data analytics and in this assignment we are performing various methods of pre processing to clean the uber dataset."
   ]
  },
  {
   "cell_type": "markdown",
   "metadata": {},
   "source": [
    "##  Importing pandas and reading the dataset into a dataframe"
   ]
  },
  {
   "cell_type": "markdown",
   "metadata": {},
   "source": [
    "In this part of the code we perform the first task which is to read the dataset from the file which is given to us and store it in a dataframe for analysis and modifications. We do this task using the pandas library. As seen pandas has a method named read_csv which we use for reading contents of the csv file."
   ]
  },
  {
   "cell_type": "code",
   "execution_count": 1,
   "metadata": {},
   "outputs": [
    {
     "name": "stdout",
     "output_type": "stream",
     "text": [
      "Number of rows in the table is:  310\n"
     ]
    },
    {
     "data": {
      "text/html": [
       "<div>\n",
       "<style scoped>\n",
       "    .dataframe tbody tr th:only-of-type {\n",
       "        vertical-align: middle;\n",
       "    }\n",
       "\n",
       "    .dataframe tbody tr th {\n",
       "        vertical-align: top;\n",
       "    }\n",
       "\n",
       "    .dataframe thead th {\n",
       "        text-align: right;\n",
       "    }\n",
       "</style>\n",
       "<table border=\"1\" class=\"dataframe\">\n",
       "  <thead>\n",
       "    <tr style=\"text-align: right;\">\n",
       "      <th></th>\n",
       "      <th>Unnamed: 0</th>\n",
       "      <th>Uber Type</th>\n",
       "      <th>Origin Region</th>\n",
       "      <th>Destination Region</th>\n",
       "      <th>Origin Latitude</th>\n",
       "      <th>Origin Longitude</th>\n",
       "      <th>Destination Latitude</th>\n",
       "      <th>Destination Longitude</th>\n",
       "      <th>Journey Distance(m)</th>\n",
       "      <th>Departure Date</th>\n",
       "      <th>Departure Time</th>\n",
       "      <th>Travel Time(s)</th>\n",
       "      <th>Arrival Time</th>\n",
       "      <th>Fare$</th>\n",
       "    </tr>\n",
       "  </thead>\n",
       "  <tbody>\n",
       "    <tr>\n",
       "      <th>0</th>\n",
       "      <td>ID3926512548</td>\n",
       "      <td>1</td>\n",
       "      <td>7</td>\n",
       "      <td>2</td>\n",
       "      <td>-37.861835</td>\n",
       "      <td>144.905716</td>\n",
       "      <td>-37.824373</td>\n",
       "      <td>144.952511</td>\n",
       "      <td>8304.0</td>\n",
       "      <td>2018-02-03</td>\n",
       "      <td>17:12:43</td>\n",
       "      <td>2929.02</td>\n",
       "      <td>18:01:32</td>\n",
       "      <td>27.66</td>\n",
       "    </tr>\n",
       "    <tr>\n",
       "      <th>1</th>\n",
       "      <td>ID5632779567</td>\n",
       "      <td>2</td>\n",
       "      <td>2</td>\n",
       "      <td>1</td>\n",
       "      <td>-37.823915</td>\n",
       "      <td>144.929916</td>\n",
       "      <td>-37.813703</td>\n",
       "      <td>144.953459</td>\n",
       "      <td>3408.0</td>\n",
       "      <td>2018-01-04</td>\n",
       "      <td>19:12:05</td>\n",
       "      <td>881.64</td>\n",
       "      <td>19:26:46</td>\n",
       "      <td>106.43</td>\n",
       "    </tr>\n",
       "    <tr>\n",
       "      <th>2</th>\n",
       "      <td>ID1815008795</td>\n",
       "      <td>0</td>\n",
       "      <td>1</td>\n",
       "      <td>9</td>\n",
       "      <td>-37.812248</td>\n",
       "      <td>144.957594</td>\n",
       "      <td>-38.110916</td>\n",
       "      <td>144.654173</td>\n",
       "      <td>43128.0</td>\n",
       "      <td>2018-06-24</td>\n",
       "      <td>12:22:20</td>\n",
       "      <td>10438.14</td>\n",
       "      <td>15:16:18</td>\n",
       "      <td>19.93</td>\n",
       "    </tr>\n",
       "    <tr>\n",
       "      <th>3</th>\n",
       "      <td>ID5666968193</td>\n",
       "      <td>2</td>\n",
       "      <td>5</td>\n",
       "      <td>9</td>\n",
       "      <td>-37.804927</td>\n",
       "      <td>144.939491</td>\n",
       "      <td>-38.110916</td>\n",
       "      <td>144.654173</td>\n",
       "      <td>43455.0</td>\n",
       "      <td>2018-01-20</td>\n",
       "      <td>17:27:50</td>\n",
       "      <td>10437.48</td>\n",
       "      <td>20:21:47</td>\n",
       "      <td>1031.39</td>\n",
       "    </tr>\n",
       "    <tr>\n",
       "      <th>4</th>\n",
       "      <td>ID3141351739</td>\n",
       "      <td>1</td>\n",
       "      <td>1</td>\n",
       "      <td>7</td>\n",
       "      <td>-37.812067</td>\n",
       "      <td>144.938196</td>\n",
       "      <td>-37.861835</td>\n",
       "      <td>144.905716</td>\n",
       "      <td>10817.0</td>\n",
       "      <td>2018-01-16</td>\n",
       "      <td>17:22:34</td>\n",
       "      <td>3501.60</td>\n",
       "      <td>18:20:55</td>\n",
       "      <td>24.35</td>\n",
       "    </tr>\n",
       "  </tbody>\n",
       "</table>\n",
       "</div>"
      ],
      "text/plain": [
       "     Unnamed: 0  Uber Type  Origin Region  Destination Region  \\\n",
       "0  ID3926512548          1              7                   2   \n",
       "1  ID5632779567          2              2                   1   \n",
       "2  ID1815008795          0              1                   9   \n",
       "3  ID5666968193          2              5                   9   \n",
       "4  ID3141351739          1              1                   7   \n",
       "\n",
       "   Origin Latitude  Origin Longitude  Destination Latitude  \\\n",
       "0       -37.861835        144.905716            -37.824373   \n",
       "1       -37.823915        144.929916            -37.813703   \n",
       "2       -37.812248        144.957594            -38.110916   \n",
       "3       -37.804927        144.939491            -38.110916   \n",
       "4       -37.812067        144.938196            -37.861835   \n",
       "\n",
       "   Destination Longitude  Journey Distance(m) Departure Date Departure Time  \\\n",
       "0             144.952511               8304.0     2018-02-03       17:12:43   \n",
       "1             144.953459               3408.0     2018-01-04       19:12:05   \n",
       "2             144.654173              43128.0     2018-06-24       12:22:20   \n",
       "3             144.654173              43455.0     2018-01-20       17:27:50   \n",
       "4             144.905716              10817.0     2018-01-16       17:22:34   \n",
       "\n",
       "   Travel Time(s) Arrival Time    Fare$  \n",
       "0         2929.02     18:01:32    27.66  \n",
       "1          881.64     19:26:46   106.43  \n",
       "2        10438.14     15:16:18    19.93  \n",
       "3        10437.48     20:21:47  1031.39  \n",
       "4         3501.60     18:20:55    24.35  "
      ]
     },
     "execution_count": 1,
     "metadata": {},
     "output_type": "execute_result"
    }
   ],
   "source": [
    "#this part of the code is to read the data from the file so that we could correct it\n",
    "import pandas as pd\n",
    "df = pd.read_csv('29996368_dirty_data.csv')\n",
    "print(\"Number of rows in the table is: \",len(df))\n",
    "df.head()"
   ]
  },
  {
   "cell_type": "markdown",
   "metadata": {},
   "source": [
    "As seen we have produced an output of the total number of rows in the dataset and also 5 records have been printed as an output for obtaining a basic understanding of the dataframe. As seen there are 310 rows in the total dataframe."
   ]
  },
  {
   "cell_type": "markdown",
   "metadata": {},
   "source": [
    "## Column 1: ID"
   ]
  },
  {
   "cell_type": "markdown",
   "metadata": {},
   "source": [
    "As seen from the dataframe print we can see that the first column of the dataset is the ID of the ride which is taken. Now we check weather each ride has a unique ID as two rides cannot have the same ID's. We put all the unique ID's fromt the dataset into a list using a built in function and then we check the length of this list."
   ]
  },
  {
   "cell_type": "code",
   "execution_count": 2,
   "metadata": {},
   "outputs": [
    {
     "name": "stdout",
     "output_type": "stream",
     "text": [
      "Total number of unique ID's is:  310\n"
     ]
    }
   ],
   "source": [
    "print(\"Total number of unique ID's is: \",len(df['Unnamed: 0'].unique()))"
   ]
  },
  {
   "cell_type": "markdown",
   "metadata": {},
   "source": [
    "As seen the length of the list is 310 and there are a total of 310 records in the dataframe which means that each row would have a unique ID. Hence there is no problem in the Column 1."
   ]
  },
  {
   "cell_type": "markdown",
   "metadata": {},
   "source": [
    "## Column 2: Uber Type"
   ]
  },
  {
   "cell_type": "markdown",
   "metadata": {},
   "source": [
    "It is given that there are three types of uber rides a customer can take namely Uber Pool, UberX and Uber Luxury. Hence if we assign labels to the types of the ride we can tell that there would be three labels namely 0,1,2. Now lets check all the unique labels from the dataset."
   ]
  },
  {
   "cell_type": "code",
   "execution_count": 3,
   "metadata": {},
   "outputs": [
    {
     "name": "stdout",
     "output_type": "stream",
     "text": [
      "[1 2 0 3]\n"
     ]
    }
   ],
   "source": [
    "print(df['Uber Type'].unique())"
   ]
  },
  {
   "cell_type": "markdown",
   "metadata": {},
   "source": [
    "As seen there are four labels hence all the records with the Uber Type as 3 can be considered as faulty data. Lets see all the records with faulty Uber type."
   ]
  },
  {
   "cell_type": "code",
   "execution_count": 4,
   "metadata": {},
   "outputs": [
    {
     "data": {
      "text/html": [
       "<div>\n",
       "<style scoped>\n",
       "    .dataframe tbody tr th:only-of-type {\n",
       "        vertical-align: middle;\n",
       "    }\n",
       "\n",
       "    .dataframe tbody tr th {\n",
       "        vertical-align: top;\n",
       "    }\n",
       "\n",
       "    .dataframe thead th {\n",
       "        text-align: right;\n",
       "    }\n",
       "</style>\n",
       "<table border=\"1\" class=\"dataframe\">\n",
       "  <thead>\n",
       "    <tr style=\"text-align: right;\">\n",
       "      <th></th>\n",
       "      <th>Unnamed: 0</th>\n",
       "      <th>Uber Type</th>\n",
       "      <th>Origin Region</th>\n",
       "      <th>Destination Region</th>\n",
       "      <th>Origin Latitude</th>\n",
       "      <th>Origin Longitude</th>\n",
       "      <th>Destination Latitude</th>\n",
       "      <th>Destination Longitude</th>\n",
       "      <th>Journey Distance(m)</th>\n",
       "      <th>Departure Date</th>\n",
       "      <th>Departure Time</th>\n",
       "      <th>Travel Time(s)</th>\n",
       "      <th>Arrival Time</th>\n",
       "      <th>Fare$</th>\n",
       "    </tr>\n",
       "  </thead>\n",
       "  <tbody>\n",
       "    <tr>\n",
       "      <th>154</th>\n",
       "      <td>ID3137265781</td>\n",
       "      <td>3</td>\n",
       "      <td>1</td>\n",
       "      <td>6</td>\n",
       "      <td>-37.810793</td>\n",
       "      <td>144.944783</td>\n",
       "      <td>-37.790797</td>\n",
       "      <td>144.985865</td>\n",
       "      <td>6088.0</td>\n",
       "      <td>2018-04-03</td>\n",
       "      <td>10:39:46</td>\n",
       "      <td>1723.14</td>\n",
       "      <td>11:08:29</td>\n",
       "      <td>11.60</td>\n",
       "    </tr>\n",
       "    <tr>\n",
       "      <th>156</th>\n",
       "      <td>ID3112647128</td>\n",
       "      <td>3</td>\n",
       "      <td>9</td>\n",
       "      <td>8</td>\n",
       "      <td>-38.110916</td>\n",
       "      <td>144.654173</td>\n",
       "      <td>-37.815834</td>\n",
       "      <td>145.046450</td>\n",
       "      <td>51032.0</td>\n",
       "      <td>2018-05-21</td>\n",
       "      <td>17:12:34</td>\n",
       "      <td>12681.06</td>\n",
       "      <td>20:43:55</td>\n",
       "      <td>68.69</td>\n",
       "    </tr>\n",
       "    <tr>\n",
       "      <th>157</th>\n",
       "      <td>ID1400540044</td>\n",
       "      <td>3</td>\n",
       "      <td>7</td>\n",
       "      <td>5</td>\n",
       "      <td>-37.861835</td>\n",
       "      <td>144.905716</td>\n",
       "      <td>-37.799903</td>\n",
       "      <td>144.927629</td>\n",
       "      <td>11671.0</td>\n",
       "      <td>2018-04-03</td>\n",
       "      <td>21:15:42</td>\n",
       "      <td>3691.26</td>\n",
       "      <td>22:17:13</td>\n",
       "      <td>13.80</td>\n",
       "    </tr>\n",
       "    <tr>\n",
       "      <th>162</th>\n",
       "      <td>ID1550235666</td>\n",
       "      <td>3</td>\n",
       "      <td>3</td>\n",
       "      <td>5</td>\n",
       "      <td>-37.816808</td>\n",
       "      <td>145.007359</td>\n",
       "      <td>-37.807829</td>\n",
       "      <td>144.934073</td>\n",
       "      <td>7142.0</td>\n",
       "      <td>2018-05-24</td>\n",
       "      <td>03:46:38</td>\n",
       "      <td>1822.14</td>\n",
       "      <td>4:17:00</td>\n",
       "      <td>11.21</td>\n",
       "    </tr>\n",
       "  </tbody>\n",
       "</table>\n",
       "</div>"
      ],
      "text/plain": [
       "       Unnamed: 0  Uber Type  Origin Region  Destination Region  \\\n",
       "154  ID3137265781          3              1                   6   \n",
       "156  ID3112647128          3              9                   8   \n",
       "157  ID1400540044          3              7                   5   \n",
       "162  ID1550235666          3              3                   5   \n",
       "\n",
       "     Origin Latitude  Origin Longitude  Destination Latitude  \\\n",
       "154       -37.810793        144.944783            -37.790797   \n",
       "156       -38.110916        144.654173            -37.815834   \n",
       "157       -37.861835        144.905716            -37.799903   \n",
       "162       -37.816808        145.007359            -37.807829   \n",
       "\n",
       "     Destination Longitude  Journey Distance(m) Departure Date Departure Time  \\\n",
       "154             144.985865               6088.0     2018-04-03       10:39:46   \n",
       "156             145.046450              51032.0     2018-05-21       17:12:34   \n",
       "157             144.927629              11671.0     2018-04-03       21:15:42   \n",
       "162             144.934073               7142.0     2018-05-24       03:46:38   \n",
       "\n",
       "     Travel Time(s) Arrival Time  Fare$  \n",
       "154         1723.14     11:08:29  11.60  \n",
       "156        12681.06     20:43:55  68.69  \n",
       "157         3691.26     22:17:13  13.80  \n",
       "162         1822.14      4:17:00  11.21  "
      ]
     },
     "execution_count": 4,
     "metadata": {},
     "output_type": "execute_result"
    }
   ],
   "source": [
    "df[df['Uber Type'] == 3]"
   ]
  },
  {
   "cell_type": "markdown",
   "metadata": {},
   "source": [
    "As seen there are four records with faulty Uber type. Now we have to correct the Uber Type in the dataframe."
   ]
  },
  {
   "cell_type": "markdown",
   "metadata": {},
   "source": [
    "If we observe the dataset ID and the Uber Type we can get a relation between the two. As seen if the third character of the ID and Uber type of each ride is taken we can get a relation between them. If the character from the ID is 3 we get a Uber Type as 1 and if the character is 5 we get a Uber Type as 2 and if the Character in the ID is 1 we get Uber type as 0."
   ]
  },
  {
   "cell_type": "markdown",
   "metadata": {},
   "source": [
    "Hence we can tell that by taking the third character of the ID and by doing an integer division by 2 we would get the the value for the Uber Type."
   ]
  },
  {
   "cell_type": "code",
   "execution_count": 5,
   "metadata": {},
   "outputs": [
    {
     "name": "stderr",
     "output_type": "stream",
     "text": [
      "/anaconda3/lib/python3.6/site-packages/ipykernel_launcher.py:6: SettingWithCopyWarning: \n",
      "A value is trying to be set on a copy of a slice from a DataFrame\n",
      "\n",
      "See the caveats in the documentation: http://pandas.pydata.org/pandas-docs/stable/indexing.html#indexing-view-versus-copy\n",
      "  \n"
     ]
    }
   ],
   "source": [
    "# this part of the code is to correct the uber type in the data \n",
    "for i in range(0,len(df)):\n",
    "    if df['Uber Type'][i] == int(df['Unnamed: 0'][i][2])//2:\n",
    "        continue\n",
    "    else:\n",
    "        df['Uber Type'][i] = int(df['Unnamed: 0'][i][2])//2  # performing integer division by 2 to obtain Uber Type Value"
   ]
  },
  {
   "cell_type": "code",
   "execution_count": 6,
   "metadata": {},
   "outputs": [
    {
     "data": {
      "text/html": [
       "<div>\n",
       "<style scoped>\n",
       "    .dataframe tbody tr th:only-of-type {\n",
       "        vertical-align: middle;\n",
       "    }\n",
       "\n",
       "    .dataframe tbody tr th {\n",
       "        vertical-align: top;\n",
       "    }\n",
       "\n",
       "    .dataframe thead th {\n",
       "        text-align: right;\n",
       "    }\n",
       "</style>\n",
       "<table border=\"1\" class=\"dataframe\">\n",
       "  <thead>\n",
       "    <tr style=\"text-align: right;\">\n",
       "      <th></th>\n",
       "      <th>Unnamed: 0</th>\n",
       "      <th>Uber Type</th>\n",
       "      <th>Origin Region</th>\n",
       "      <th>Destination Region</th>\n",
       "      <th>Origin Latitude</th>\n",
       "      <th>Origin Longitude</th>\n",
       "      <th>Destination Latitude</th>\n",
       "      <th>Destination Longitude</th>\n",
       "      <th>Journey Distance(m)</th>\n",
       "      <th>Departure Date</th>\n",
       "      <th>Departure Time</th>\n",
       "      <th>Travel Time(s)</th>\n",
       "      <th>Arrival Time</th>\n",
       "      <th>Fare$</th>\n",
       "    </tr>\n",
       "  </thead>\n",
       "  <tbody>\n",
       "  </tbody>\n",
       "</table>\n",
       "</div>"
      ],
      "text/plain": [
       "Empty DataFrame\n",
       "Columns: [Unnamed: 0, Uber Type, Origin Region, Destination Region, Origin Latitude, Origin Longitude, Destination Latitude, Destination Longitude, Journey Distance(m), Departure Date, Departure Time, Travel Time(s), Arrival Time, Fare$]\n",
       "Index: []"
      ]
     },
     "execution_count": 6,
     "metadata": {},
     "output_type": "execute_result"
    }
   ],
   "source": [
    "df[df['Uber Type'] == 3]"
   ]
  },
  {
   "cell_type": "markdown",
   "metadata": {},
   "source": [
    "## Column 5 & 7: Origin and Destination Latitude"
   ]
  },
  {
   "cell_type": "markdown",
   "metadata": {},
   "source": [
    "Now we have to identify if the Origin Latitude of all the Uber rides has any kinds of errors and faults."
   ]
  },
  {
   "cell_type": "code",
   "execution_count": 7,
   "metadata": {},
   "outputs": [
    {
     "data": {
      "text/plain": [
       "count    310.000000\n",
       "mean     -36.624903\n",
       "std        9.569615\n",
       "min      -38.110916\n",
       "25%      -37.825509\n",
       "50%      -37.815549\n",
       "75%      -37.805927\n",
       "max       38.110916\n",
       "Name: Origin Latitude, dtype: float64"
      ]
     },
     "execution_count": 7,
     "metadata": {},
     "output_type": "execute_result"
    }
   ],
   "source": [
    "df['Origin Latitude'].describe()"
   ]
  },
  {
   "cell_type": "markdown",
   "metadata": {},
   "source": [
    "As seen after doing a describe on the Origin Latitude Column we can see that majorit of the values lie between the -37 nd -38 range and the mean is also in this range hence we can say that maximum of the latitudes lie in this range. However as seen the maximum value if 38 which shows us there is possibility of error in this column."
   ]
  },
  {
   "cell_type": "markdown",
   "metadata": {},
   "source": [
    "If searched online we can see that Australia has a latitude range of -25 to -40. Which meand is the latitude is around 38 then this would not be in Australia. Hence to see the rows with wrong latitude values let us print all the rows with Origin Latitudes which are not in the Australia Latitude ranges."
   ]
  },
  {
   "cell_type": "code",
   "execution_count": 8,
   "metadata": {},
   "outputs": [
    {
     "data": {
      "text/html": [
       "<div>\n",
       "<style scoped>\n",
       "    .dataframe tbody tr th:only-of-type {\n",
       "        vertical-align: middle;\n",
       "    }\n",
       "\n",
       "    .dataframe tbody tr th {\n",
       "        vertical-align: top;\n",
       "    }\n",
       "\n",
       "    .dataframe thead th {\n",
       "        text-align: right;\n",
       "    }\n",
       "</style>\n",
       "<table border=\"1\" class=\"dataframe\">\n",
       "  <thead>\n",
       "    <tr style=\"text-align: right;\">\n",
       "      <th></th>\n",
       "      <th>Unnamed: 0</th>\n",
       "      <th>Uber Type</th>\n",
       "      <th>Origin Region</th>\n",
       "      <th>Destination Region</th>\n",
       "      <th>Origin Latitude</th>\n",
       "      <th>Origin Longitude</th>\n",
       "      <th>Destination Latitude</th>\n",
       "      <th>Destination Longitude</th>\n",
       "      <th>Journey Distance(m)</th>\n",
       "      <th>Departure Date</th>\n",
       "      <th>Departure Time</th>\n",
       "      <th>Travel Time(s)</th>\n",
       "      <th>Arrival Time</th>\n",
       "      <th>Fare$</th>\n",
       "    </tr>\n",
       "  </thead>\n",
       "  <tbody>\n",
       "    <tr>\n",
       "      <th>72</th>\n",
       "      <td>ID5467028586</td>\n",
       "      <td>2</td>\n",
       "      <td>9</td>\n",
       "      <td>1</td>\n",
       "      <td>38.110916</td>\n",
       "      <td>144.654173</td>\n",
       "      <td>-37.813234</td>\n",
       "      <td>144.962719</td>\n",
       "      <td>43410.0</td>\n",
       "      <td>2018-07-16</td>\n",
       "      <td>15:34:53</td>\n",
       "      <td>10432.26</td>\n",
       "      <td>18:28:45</td>\n",
       "      <td>1024.12</td>\n",
       "    </tr>\n",
       "    <tr>\n",
       "      <th>73</th>\n",
       "      <td>ID1527674449</td>\n",
       "      <td>0</td>\n",
       "      <td>4</td>\n",
       "      <td>2</td>\n",
       "      <td>37.816631</td>\n",
       "      <td>145.007369</td>\n",
       "      <td>-37.824036</td>\n",
       "      <td>144.943603</td>\n",
       "      <td>6267.0</td>\n",
       "      <td>2018-03-04</td>\n",
       "      <td>19:03:12</td>\n",
       "      <td>1507.80</td>\n",
       "      <td>19:28:19</td>\n",
       "      <td>14.69</td>\n",
       "    </tr>\n",
       "    <tr>\n",
       "      <th>74</th>\n",
       "      <td>ID1264767453</td>\n",
       "      <td>0</td>\n",
       "      <td>5</td>\n",
       "      <td>3</td>\n",
       "      <td>37.809799</td>\n",
       "      <td>144.935966</td>\n",
       "      <td>-37.825145</td>\n",
       "      <td>144.993392</td>\n",
       "      <td>5899.0</td>\n",
       "      <td>2018-04-24</td>\n",
       "      <td>20:02:51</td>\n",
       "      <td>1506.24</td>\n",
       "      <td>20:27:57</td>\n",
       "      <td>9.26</td>\n",
       "    </tr>\n",
       "    <tr>\n",
       "      <th>75</th>\n",
       "      <td>ID1603832179</td>\n",
       "      <td>0</td>\n",
       "      <td>9</td>\n",
       "      <td>5</td>\n",
       "      <td>38.110916</td>\n",
       "      <td>144.654173</td>\n",
       "      <td>-37.802819</td>\n",
       "      <td>144.936395</td>\n",
       "      <td>43818.0</td>\n",
       "      <td>2018-01-14</td>\n",
       "      <td>02:12:24</td>\n",
       "      <td>10545.54</td>\n",
       "      <td>5:08:09</td>\n",
       "      <td>23.00</td>\n",
       "    </tr>\n",
       "    <tr>\n",
       "      <th>76</th>\n",
       "      <td>ID3122723693</td>\n",
       "      <td>1</td>\n",
       "      <td>9</td>\n",
       "      <td>2</td>\n",
       "      <td>38.110916</td>\n",
       "      <td>144.654173</td>\n",
       "      <td>-37.817250</td>\n",
       "      <td>144.934061</td>\n",
       "      <td>43041.0</td>\n",
       "      <td>2018-02-03</td>\n",
       "      <td>18:54:21</td>\n",
       "      <td>10380.66</td>\n",
       "      <td>21:47:21</td>\n",
       "      <td>61.29</td>\n",
       "    </tr>\n",
       "  </tbody>\n",
       "</table>\n",
       "</div>"
      ],
      "text/plain": [
       "      Unnamed: 0  Uber Type  Origin Region  Destination Region  \\\n",
       "72  ID5467028586          2              9                   1   \n",
       "73  ID1527674449          0              4                   2   \n",
       "74  ID1264767453          0              5                   3   \n",
       "75  ID1603832179          0              9                   5   \n",
       "76  ID3122723693          1              9                   2   \n",
       "\n",
       "    Origin Latitude  Origin Longitude  Destination Latitude  \\\n",
       "72        38.110916        144.654173            -37.813234   \n",
       "73        37.816631        145.007369            -37.824036   \n",
       "74        37.809799        144.935966            -37.825145   \n",
       "75        38.110916        144.654173            -37.802819   \n",
       "76        38.110916        144.654173            -37.817250   \n",
       "\n",
       "    Destination Longitude  Journey Distance(m) Departure Date Departure Time  \\\n",
       "72             144.962719              43410.0     2018-07-16       15:34:53   \n",
       "73             144.943603               6267.0     2018-03-04       19:03:12   \n",
       "74             144.993392               5899.0     2018-04-24       20:02:51   \n",
       "75             144.936395              43818.0     2018-01-14       02:12:24   \n",
       "76             144.934061              43041.0     2018-02-03       18:54:21   \n",
       "\n",
       "    Travel Time(s) Arrival Time    Fare$  \n",
       "72        10432.26     18:28:45  1024.12  \n",
       "73         1507.80     19:28:19    14.69  \n",
       "74         1506.24     20:27:57     9.26  \n",
       "75        10545.54      5:08:09    23.00  \n",
       "76        10380.66     21:47:21    61.29  "
      ]
     },
     "execution_count": 8,
     "metadata": {},
     "output_type": "execute_result"
    }
   ],
   "source": [
    "df[(df['Origin Latitude'] > -25) | (df['Origin Latitude'] < -40)]"
   ]
  },
  {
   "cell_type": "markdown",
   "metadata": {},
   "source": [
    "similarly by looking into the Destination Latitude using describe we get the output as follows"
   ]
  },
  {
   "cell_type": "code",
   "execution_count": 9,
   "metadata": {},
   "outputs": [
    {
     "data": {
      "text/plain": [
       "count    310.000000\n",
       "mean     -36.626845\n",
       "std        9.554914\n",
       "min      -38.110916\n",
       "25%      -37.823863\n",
       "50%      -37.813826\n",
       "75%      -37.803944\n",
       "max       38.110916\n",
       "Name: Destination Latitude, dtype: float64"
      ]
     },
     "execution_count": 9,
     "metadata": {},
     "output_type": "execute_result"
    }
   ],
   "source": [
    "df['Destination Latitude'].describe()"
   ]
  },
  {
   "cell_type": "markdown",
   "metadata": {},
   "source": [
    "As seen this is almost the same as the Arrivel Latitude now by applying the range and obtaining the false records we would get"
   ]
  },
  {
   "cell_type": "code",
   "execution_count": 10,
   "metadata": {},
   "outputs": [
    {
     "data": {
      "text/html": [
       "<div>\n",
       "<style scoped>\n",
       "    .dataframe tbody tr th:only-of-type {\n",
       "        vertical-align: middle;\n",
       "    }\n",
       "\n",
       "    .dataframe tbody tr th {\n",
       "        vertical-align: top;\n",
       "    }\n",
       "\n",
       "    .dataframe thead th {\n",
       "        text-align: right;\n",
       "    }\n",
       "</style>\n",
       "<table border=\"1\" class=\"dataframe\">\n",
       "  <thead>\n",
       "    <tr style=\"text-align: right;\">\n",
       "      <th></th>\n",
       "      <th>Unnamed: 0</th>\n",
       "      <th>Uber Type</th>\n",
       "      <th>Origin Region</th>\n",
       "      <th>Destination Region</th>\n",
       "      <th>Origin Latitude</th>\n",
       "      <th>Origin Longitude</th>\n",
       "      <th>Destination Latitude</th>\n",
       "      <th>Destination Longitude</th>\n",
       "      <th>Journey Distance(m)</th>\n",
       "      <th>Departure Date</th>\n",
       "      <th>Departure Time</th>\n",
       "      <th>Travel Time(s)</th>\n",
       "      <th>Arrival Time</th>\n",
       "      <th>Fare$</th>\n",
       "    </tr>\n",
       "  </thead>\n",
       "  <tbody>\n",
       "    <tr>\n",
       "      <th>81</th>\n",
       "      <td>ID3266663299</td>\n",
       "      <td>1</td>\n",
       "      <td>4</td>\n",
       "      <td>3</td>\n",
       "      <td>-37.808730</td>\n",
       "      <td>145.004482</td>\n",
       "      <td>37.820169</td>\n",
       "      <td>144.978938</td>\n",
       "      <td>3613.0</td>\n",
       "      <td>2018-01-08</td>\n",
       "      <td>09:13:00</td>\n",
       "      <td>911.82</td>\n",
       "      <td>9:28:11</td>\n",
       "      <td>9.10</td>\n",
       "    </tr>\n",
       "    <tr>\n",
       "      <th>85</th>\n",
       "      <td>ID3287498482</td>\n",
       "      <td>1</td>\n",
       "      <td>1</td>\n",
       "      <td>9</td>\n",
       "      <td>-37.803909</td>\n",
       "      <td>144.957357</td>\n",
       "      <td>38.110916</td>\n",
       "      <td>144.654173</td>\n",
       "      <td>47405.0</td>\n",
       "      <td>2018-02-12</td>\n",
       "      <td>00:44:05</td>\n",
       "      <td>11669.22</td>\n",
       "      <td>3:58:34</td>\n",
       "      <td>68.88</td>\n",
       "    </tr>\n",
       "    <tr>\n",
       "      <th>88</th>\n",
       "      <td>ID1142433511</td>\n",
       "      <td>0</td>\n",
       "      <td>4</td>\n",
       "      <td>5</td>\n",
       "      <td>-37.800841</td>\n",
       "      <td>145.014854</td>\n",
       "      <td>37.811435</td>\n",
       "      <td>144.935431</td>\n",
       "      <td>8182.0</td>\n",
       "      <td>2018-03-26</td>\n",
       "      <td>07:17:10</td>\n",
       "      <td>2152.56</td>\n",
       "      <td>7:53:02</td>\n",
       "      <td>4.85</td>\n",
       "    </tr>\n",
       "    <tr>\n",
       "      <th>91</th>\n",
       "      <td>ID3210440527</td>\n",
       "      <td>1</td>\n",
       "      <td>9</td>\n",
       "      <td>3</td>\n",
       "      <td>-38.110916</td>\n",
       "      <td>144.654173</td>\n",
       "      <td>37.825246</td>\n",
       "      <td>144.980613</td>\n",
       "      <td>45521.0</td>\n",
       "      <td>2018-04-28</td>\n",
       "      <td>15:00:54</td>\n",
       "      <td>10986.12</td>\n",
       "      <td>18:04:00</td>\n",
       "      <td>63.95</td>\n",
       "    </tr>\n",
       "    <tr>\n",
       "      <th>92</th>\n",
       "      <td>ID1357884483</td>\n",
       "      <td>0</td>\n",
       "      <td>7</td>\n",
       "      <td>8</td>\n",
       "      <td>-37.861835</td>\n",
       "      <td>144.905716</td>\n",
       "      <td>37.807202</td>\n",
       "      <td>145.026637</td>\n",
       "      <td>13986.0</td>\n",
       "      <td>2018-01-10</td>\n",
       "      <td>01:36:25</td>\n",
       "      <td>4292.40</td>\n",
       "      <td>2:47:57</td>\n",
       "      <td>13.25</td>\n",
       "    </tr>\n",
       "  </tbody>\n",
       "</table>\n",
       "</div>"
      ],
      "text/plain": [
       "      Unnamed: 0  Uber Type  Origin Region  Destination Region  \\\n",
       "81  ID3266663299          1              4                   3   \n",
       "85  ID3287498482          1              1                   9   \n",
       "88  ID1142433511          0              4                   5   \n",
       "91  ID3210440527          1              9                   3   \n",
       "92  ID1357884483          0              7                   8   \n",
       "\n",
       "    Origin Latitude  Origin Longitude  Destination Latitude  \\\n",
       "81       -37.808730        145.004482             37.820169   \n",
       "85       -37.803909        144.957357             38.110916   \n",
       "88       -37.800841        145.014854             37.811435   \n",
       "91       -38.110916        144.654173             37.825246   \n",
       "92       -37.861835        144.905716             37.807202   \n",
       "\n",
       "    Destination Longitude  Journey Distance(m) Departure Date Departure Time  \\\n",
       "81             144.978938               3613.0     2018-01-08       09:13:00   \n",
       "85             144.654173              47405.0     2018-02-12       00:44:05   \n",
       "88             144.935431               8182.0     2018-03-26       07:17:10   \n",
       "91             144.980613              45521.0     2018-04-28       15:00:54   \n",
       "92             145.026637              13986.0     2018-01-10       01:36:25   \n",
       "\n",
       "    Travel Time(s) Arrival Time  Fare$  \n",
       "81          911.82      9:28:11   9.10  \n",
       "85        11669.22      3:58:34  68.88  \n",
       "88         2152.56      7:53:02   4.85  \n",
       "91        10986.12     18:04:00  63.95  \n",
       "92         4292.40      2:47:57  13.25  "
      ]
     },
     "execution_count": 10,
     "metadata": {},
     "output_type": "execute_result"
    }
   ],
   "source": [
    "df[(df['Destination Latitude'] > -25) | (df['Destination Latitude'] < -40)]"
   ]
  },
  {
   "cell_type": "markdown",
   "metadata": {},
   "source": [
    "As seen from the output all the latitude values are between the range 25 and 40 which is the Australia Latitude range except it is positive. Hence we can infer from this that maybe the mistake is just the negative sign in this data for the Origin Latitude. Hence to correct this we would just multiply the Origin Latitude by -1 if they are positive."
   ]
  },
  {
   "cell_type": "code",
   "execution_count": 11,
   "metadata": {},
   "outputs": [
    {
     "name": "stderr",
     "output_type": "stream",
     "text": [
      "/anaconda3/lib/python3.6/site-packages/ipykernel_launcher.py:5: SettingWithCopyWarning: \n",
      "A value is trying to be set on a copy of a slice from a DataFrame\n",
      "\n",
      "See the caveats in the documentation: http://pandas.pydata.org/pandas-docs/stable/indexing.html#indexing-view-versus-copy\n",
      "  \"\"\"\n",
      "/anaconda3/lib/python3.6/site-packages/ipykernel_launcher.py:7: SettingWithCopyWarning: \n",
      "A value is trying to be set on a copy of a slice from a DataFrame\n",
      "\n",
      "See the caveats in the documentation: http://pandas.pydata.org/pandas-docs/stable/indexing.html#indexing-view-versus-copy\n",
      "  import sys\n"
     ]
    }
   ],
   "source": [
    "# this is to get the destination latitude and the destination longitude right\n",
    "\n",
    "for i in range(0,len(df)):\n",
    "    if df['Origin Latitude'][i] > 0:\n",
    "        df['Origin Latitude'][i] = df['Origin Latitude'][i] * -1 \n",
    "    if df['Destination Latitude'][i] > 0:\n",
    "        df['Destination Latitude'][i] = df['Destination Latitude'][i] * -1"
   ]
  },
  {
   "cell_type": "markdown",
   "metadata": {},
   "source": [
    "## Column 6 & 8: Origin and Destination Longitude"
   ]
  },
  {
   "cell_type": "markdown",
   "metadata": {},
   "source": [
    "Now using the descibe method we can see the mathematical parameters for the Origin and Destination Longitudes"
   ]
  },
  {
   "cell_type": "code",
   "execution_count": 12,
   "metadata": {},
   "outputs": [
    {
     "data": {
      "text/plain": [
       "count    310.000000\n",
       "mean     144.930691\n",
       "std        0.107409\n",
       "min      144.654173\n",
       "25%      144.918955\n",
       "50%      144.957475\n",
       "75%      144.985865\n",
       "max      145.046450\n",
       "Name: Origin Longitude, dtype: float64"
      ]
     },
     "execution_count": 12,
     "metadata": {},
     "output_type": "execute_result"
    }
   ],
   "source": [
    "df['Origin Longitude'].describe()"
   ]
  },
  {
   "cell_type": "code",
   "execution_count": 13,
   "metadata": {},
   "outputs": [
    {
     "data": {
      "text/plain": [
       "count    310.000000\n",
       "mean     144.930163\n",
       "std        0.108233\n",
       "min      144.654173\n",
       "25%      144.928059\n",
       "50%      144.953272\n",
       "75%      144.985967\n",
       "max      145.046450\n",
       "Name: Destination Longitude, dtype: float64"
      ]
     },
     "execution_count": 13,
     "metadata": {},
     "output_type": "execute_result"
    }
   ],
   "source": [
    "df['Destination Longitude'].describe()"
   ]
  },
  {
   "cell_type": "markdown",
   "metadata": {},
   "source": [
    "As seen by looking at the mathematical description of the longitudes we can see that most of the values lie in the 140 to 145 range and the in and max values also lie in this range. Thus by looking at this we can say that there is no error in the Arrival and Destination Longitudes. Also the Australia region has longitude which ranges between 140 and 150 and hence the data can be considered as correct."
   ]
  },
  {
   "cell_type": "markdown",
   "metadata": {},
   "source": [
    "## Column 10: Departure Date"
   ]
  },
  {
   "cell_type": "code",
   "execution_count": 14,
   "metadata": {},
   "outputs": [
    {
     "name": "stdout",
     "output_type": "stream",
     "text": [
      "some of the faulty dates are:\n",
      "2018-28-02\n",
      "2018-23-04\n",
      "2018-15-01\n",
      "2018-13-04\n",
      "2018-20-01\n",
      "2018-17-06\n",
      "2018-02-30\n",
      "2018-02-30\n"
     ]
    }
   ],
   "source": [
    "print(\"some of the faulty dates are:\")\n",
    "for i in range(0,len(df)):\n",
    "    dateelems = df['Departure Date'][i].split(\"-\")\n",
    "    if int(dateelems[1]) > 12 and int(dateelems[2]) < 12:\n",
    "        print(df['Departure Date'][i])\n",
    "    if int(dateelems[1])==2 and int(dateelems[2])>28:\n",
    "        print(df['Departure Date'][i])"
   ]
  },
  {
   "cell_type": "markdown",
   "metadata": {},
   "source": [
    "As seen we have some faulty dates in the dataset and these have to be corrected. "
   ]
  },
  {
   "cell_type": "markdown",
   "metadata": {},
   "source": [
    "As seen from the above data we can see that the date which should be in yyyy-mm-dd format has an interchanged format. Thus this has to be corrected by swapping of the date and the month sections. Also we can see that for february in some of the dates there is a day which is 30 which is not possible as february has only 28 days. Hence this is corrected by taking the nearest possible date."
   ]
  },
  {
   "cell_type": "code",
   "execution_count": 15,
   "metadata": {},
   "outputs": [
    {
     "name": "stderr",
     "output_type": "stream",
     "text": [
      "/anaconda3/lib/python3.6/site-packages/ipykernel_launcher.py:17: SettingWithCopyWarning: \n",
      "A value is trying to be set on a copy of a slice from a DataFrame\n",
      "\n",
      "See the caveats in the documentation: http://pandas.pydata.org/pandas-docs/stable/indexing.html#indexing-view-versus-copy\n"
     ]
    }
   ],
   "source": [
    "# this is for correction of the date in the dataframe\n",
    "for i in range(0,len(df)):\n",
    "    dateelems = df['Departure Date'][i].split(\"-\")\n",
    "    if int(dateelems[1]) > 12 and int(dateelems[2]) < 12:\n",
    "        dateelems[1],dateelems[2] = dateelems[2],dateelems[1]\n",
    "    if int(dateelems[1]) == 1 or int(dateelems[1]) == 3 or int(dateelems[1]) == 5 or int(dateelems[1]) == 7 or int(dateelems[1]) == 8 or int(dateelems[1]) == 10 or int(dateelems[1]) == 12:\n",
    "        if int(dateelems[2]) > 31:\n",
    "            dateelems[2] = str(31)\n",
    "    if int(dateelems[1]) == 4 or int(dateelems[1]) == 6 or int(dateelems[1]) == 9 or int(dateelems[1]) == 11:\n",
    "        if int(dateelems[2]) > 30:\n",
    "            dateelems[2] = str(30)\n",
    "    if int(dateelems[1]) == 2:\n",
    "        if int(dateelems[2]) > 28:\n",
    "            dateelems[2] = str(28)\n",
    "    final_date = dateelems[0]+\"-\"+dateelems[1]+\"-\"+dateelems[2]\n",
    "    if final_date != df['Departure Date'][i]:\n",
    "        df['Departure Date'][i] = final_date"
   ]
  },
  {
   "cell_type": "markdown",
   "metadata": {},
   "source": [
    "## Column 9 & 12: Journey Distance(m) and Travel Time(s)"
   ]
  },
  {
   "cell_type": "markdown",
   "metadata": {},
   "source": [
    "In the dataset which is given there are some mistakes in the Journey Distance. We find the journey distance using Dijkstra's algorithm. In this task we are provided with 2 files named nodes.csv and edges.csv. Using this files and the Dijkstra's algorithm we can find the journey distance"
   ]
  },
  {
   "cell_type": "markdown",
   "metadata": {},
   "source": [
    "Our first step is to load the two files into saperate dataframes. This is done using the pandas library"
   ]
  },
  {
   "cell_type": "code",
   "execution_count": 16,
   "metadata": {},
   "outputs": [
    {
     "data": {
      "text/html": [
       "<div>\n",
       "<style scoped>\n",
       "    .dataframe tbody tr th:only-of-type {\n",
       "        vertical-align: middle;\n",
       "    }\n",
       "\n",
       "    .dataframe tbody tr th {\n",
       "        vertical-align: top;\n",
       "    }\n",
       "\n",
       "    .dataframe thead th {\n",
       "        text-align: right;\n",
       "    }\n",
       "</style>\n",
       "<table border=\"1\" class=\"dataframe\">\n",
       "  <thead>\n",
       "    <tr style=\"text-align: right;\">\n",
       "      <th></th>\n",
       "      <th>Unnamed: 0</th>\n",
       "      <th>lat</th>\n",
       "      <th>lon</th>\n",
       "    </tr>\n",
       "  </thead>\n",
       "  <tbody>\n",
       "    <tr>\n",
       "      <th>0</th>\n",
       "      <td>711327755</td>\n",
       "      <td>-37.807675</td>\n",
       "      <td>144.955873</td>\n",
       "    </tr>\n",
       "    <tr>\n",
       "      <th>1</th>\n",
       "      <td>711327756</td>\n",
       "      <td>-37.807094</td>\n",
       "      <td>144.955978</td>\n",
       "    </tr>\n",
       "    <tr>\n",
       "      <th>2</th>\n",
       "      <td>711327759</td>\n",
       "      <td>-37.807301</td>\n",
       "      <td>144.957817</td>\n",
       "    </tr>\n",
       "    <tr>\n",
       "      <th>3</th>\n",
       "      <td>711327760</td>\n",
       "      <td>-37.807885</td>\n",
       "      <td>144.957719</td>\n",
       "    </tr>\n",
       "    <tr>\n",
       "      <th>4</th>\n",
       "      <td>777781264</td>\n",
       "      <td>-37.805221</td>\n",
       "      <td>144.952173</td>\n",
       "    </tr>\n",
       "  </tbody>\n",
       "</table>\n",
       "</div>"
      ],
      "text/plain": [
       "   Unnamed: 0        lat         lon\n",
       "0   711327755 -37.807675  144.955873\n",
       "1   711327756 -37.807094  144.955978\n",
       "2   711327759 -37.807301  144.957817\n",
       "3   711327760 -37.807885  144.957719\n",
       "4   777781264 -37.805221  144.952173"
      ]
     },
     "execution_count": 16,
     "metadata": {},
     "output_type": "execute_result"
    }
   ],
   "source": [
    "# firstly we read the nodes.csv file and the edges.csv file into python\n",
    "\n",
    "df_nodes = pd.read_csv('nodes.csv')\n",
    "df_edges = pd.read_csv('edges.csv')\n",
    "df_nodes.head()"
   ]
  },
  {
   "cell_type": "markdown",
   "metadata": {},
   "source": [
    "Now after the two files have been loaded into saperate dataframes we now have to merge the dirty_data file with the dataframe derived from nodes.csv. The join is done with the latitude and longitude of both the origin and the destination."
   ]
  },
  {
   "cell_type": "code",
   "execution_count": 17,
   "metadata": {},
   "outputs": [],
   "source": [
    "df_merge = pd.merge(df,df_nodes, how = 'left', left_on=['Origin Latitude','Origin Longitude'], right_on=['lat','lon'])"
   ]
  },
  {
   "cell_type": "code",
   "execution_count": 18,
   "metadata": {},
   "outputs": [],
   "source": [
    "df_merge = pd.merge(df_merge,df_nodes, how = 'left', left_on=['Destination Latitude','Destination Longitude'], right_on=['lat','lon'])"
   ]
  },
  {
   "cell_type": "code",
   "execution_count": 19,
   "metadata": {},
   "outputs": [
    {
     "data": {
      "text/html": [
       "<div>\n",
       "<style scoped>\n",
       "    .dataframe tbody tr th:only-of-type {\n",
       "        vertical-align: middle;\n",
       "    }\n",
       "\n",
       "    .dataframe tbody tr th {\n",
       "        vertical-align: top;\n",
       "    }\n",
       "\n",
       "    .dataframe thead th {\n",
       "        text-align: right;\n",
       "    }\n",
       "</style>\n",
       "<table border=\"1\" class=\"dataframe\">\n",
       "  <thead>\n",
       "    <tr style=\"text-align: right;\">\n",
       "      <th></th>\n",
       "      <th>Unnamed: 0_x</th>\n",
       "      <th>Uber Type</th>\n",
       "      <th>Origin Region</th>\n",
       "      <th>Destination Region</th>\n",
       "      <th>Origin Latitude</th>\n",
       "      <th>Origin Longitude</th>\n",
       "      <th>Destination Latitude</th>\n",
       "      <th>Destination Longitude</th>\n",
       "      <th>Journey Distance(m)</th>\n",
       "      <th>Departure Date</th>\n",
       "      <th>Departure Time</th>\n",
       "      <th>Travel Time(s)</th>\n",
       "      <th>Arrival Time</th>\n",
       "      <th>Fare$</th>\n",
       "      <th>Unnamed: 0_y</th>\n",
       "      <th>lat_x</th>\n",
       "      <th>lon_x</th>\n",
       "      <th>Unnamed: 0</th>\n",
       "      <th>lat_y</th>\n",
       "      <th>lon_y</th>\n",
       "    </tr>\n",
       "  </thead>\n",
       "  <tbody>\n",
       "    <tr>\n",
       "      <th>0</th>\n",
       "      <td>ID3926512548</td>\n",
       "      <td>1</td>\n",
       "      <td>7</td>\n",
       "      <td>2</td>\n",
       "      <td>-37.861835</td>\n",
       "      <td>144.905716</td>\n",
       "      <td>-37.824373</td>\n",
       "      <td>144.952511</td>\n",
       "      <td>8304.0</td>\n",
       "      <td>2018-02-03</td>\n",
       "      <td>17:12:43</td>\n",
       "      <td>2929.02</td>\n",
       "      <td>18:01:32</td>\n",
       "      <td>27.66</td>\n",
       "      <td>1390575046</td>\n",
       "      <td>-37.861835</td>\n",
       "      <td>144.905716</td>\n",
       "      <td>591233716</td>\n",
       "      <td>-37.824373</td>\n",
       "      <td>144.952511</td>\n",
       "    </tr>\n",
       "    <tr>\n",
       "      <th>1</th>\n",
       "      <td>ID5632779567</td>\n",
       "      <td>2</td>\n",
       "      <td>2</td>\n",
       "      <td>1</td>\n",
       "      <td>-37.823915</td>\n",
       "      <td>144.929916</td>\n",
       "      <td>-37.813703</td>\n",
       "      <td>144.953459</td>\n",
       "      <td>3408.0</td>\n",
       "      <td>2018-01-04</td>\n",
       "      <td>19:12:05</td>\n",
       "      <td>881.64</td>\n",
       "      <td>19:26:46</td>\n",
       "      <td>106.43</td>\n",
       "      <td>1466671807</td>\n",
       "      <td>-37.823915</td>\n",
       "      <td>144.929916</td>\n",
       "      <td>163389490</td>\n",
       "      <td>-37.813703</td>\n",
       "      <td>144.953459</td>\n",
       "    </tr>\n",
       "    <tr>\n",
       "      <th>2</th>\n",
       "      <td>ID1815008795</td>\n",
       "      <td>0</td>\n",
       "      <td>1</td>\n",
       "      <td>9</td>\n",
       "      <td>-37.812248</td>\n",
       "      <td>144.957594</td>\n",
       "      <td>-38.110916</td>\n",
       "      <td>144.654173</td>\n",
       "      <td>43128.0</td>\n",
       "      <td>2018-06-24</td>\n",
       "      <td>12:22:20</td>\n",
       "      <td>10438.14</td>\n",
       "      <td>15:16:18</td>\n",
       "      <td>19.93</td>\n",
       "      <td>6167489373</td>\n",
       "      <td>-37.812248</td>\n",
       "      <td>144.957594</td>\n",
       "      <td>5002706670</td>\n",
       "      <td>-38.110916</td>\n",
       "      <td>144.654173</td>\n",
       "    </tr>\n",
       "    <tr>\n",
       "      <th>3</th>\n",
       "      <td>ID5666968193</td>\n",
       "      <td>2</td>\n",
       "      <td>5</td>\n",
       "      <td>9</td>\n",
       "      <td>-37.804927</td>\n",
       "      <td>144.939491</td>\n",
       "      <td>-38.110916</td>\n",
       "      <td>144.654173</td>\n",
       "      <td>43455.0</td>\n",
       "      <td>2018-01-20</td>\n",
       "      <td>17:27:50</td>\n",
       "      <td>10437.48</td>\n",
       "      <td>20:21:47</td>\n",
       "      <td>1031.39</td>\n",
       "      <td>579989632</td>\n",
       "      <td>-37.804927</td>\n",
       "      <td>144.939491</td>\n",
       "      <td>5002706670</td>\n",
       "      <td>-38.110916</td>\n",
       "      <td>144.654173</td>\n",
       "    </tr>\n",
       "    <tr>\n",
       "      <th>4</th>\n",
       "      <td>ID3141351739</td>\n",
       "      <td>1</td>\n",
       "      <td>1</td>\n",
       "      <td>7</td>\n",
       "      <td>-37.812067</td>\n",
       "      <td>144.938196</td>\n",
       "      <td>-37.861835</td>\n",
       "      <td>144.905716</td>\n",
       "      <td>10817.0</td>\n",
       "      <td>2018-01-16</td>\n",
       "      <td>17:22:34</td>\n",
       "      <td>3501.60</td>\n",
       "      <td>18:20:55</td>\n",
       "      <td>24.35</td>\n",
       "      <td>634775008</td>\n",
       "      <td>-37.812067</td>\n",
       "      <td>144.938196</td>\n",
       "      <td>1390575046</td>\n",
       "      <td>-37.861835</td>\n",
       "      <td>144.905716</td>\n",
       "    </tr>\n",
       "  </tbody>\n",
       "</table>\n",
       "</div>"
      ],
      "text/plain": [
       "   Unnamed: 0_x  Uber Type  Origin Region  Destination Region  \\\n",
       "0  ID3926512548          1              7                   2   \n",
       "1  ID5632779567          2              2                   1   \n",
       "2  ID1815008795          0              1                   9   \n",
       "3  ID5666968193          2              5                   9   \n",
       "4  ID3141351739          1              1                   7   \n",
       "\n",
       "   Origin Latitude  Origin Longitude  Destination Latitude  \\\n",
       "0       -37.861835        144.905716            -37.824373   \n",
       "1       -37.823915        144.929916            -37.813703   \n",
       "2       -37.812248        144.957594            -38.110916   \n",
       "3       -37.804927        144.939491            -38.110916   \n",
       "4       -37.812067        144.938196            -37.861835   \n",
       "\n",
       "   Destination Longitude  Journey Distance(m) Departure Date Departure Time  \\\n",
       "0             144.952511               8304.0     2018-02-03       17:12:43   \n",
       "1             144.953459               3408.0     2018-01-04       19:12:05   \n",
       "2             144.654173              43128.0     2018-06-24       12:22:20   \n",
       "3             144.654173              43455.0     2018-01-20       17:27:50   \n",
       "4             144.905716              10817.0     2018-01-16       17:22:34   \n",
       "\n",
       "   Travel Time(s) Arrival Time    Fare$  Unnamed: 0_y      lat_x       lon_x  \\\n",
       "0         2929.02     18:01:32    27.66    1390575046 -37.861835  144.905716   \n",
       "1          881.64     19:26:46   106.43    1466671807 -37.823915  144.929916   \n",
       "2        10438.14     15:16:18    19.93    6167489373 -37.812248  144.957594   \n",
       "3        10437.48     20:21:47  1031.39     579989632 -37.804927  144.939491   \n",
       "4         3501.60     18:20:55    24.35     634775008 -37.812067  144.938196   \n",
       "\n",
       "   Unnamed: 0      lat_y       lon_y  \n",
       "0   591233716 -37.824373  144.952511  \n",
       "1   163389490 -37.813703  144.953459  \n",
       "2  5002706670 -38.110916  144.654173  \n",
       "3  5002706670 -38.110916  144.654173  \n",
       "4  1390575046 -37.861835  144.905716  "
      ]
     },
     "execution_count": 19,
     "metadata": {},
     "output_type": "execute_result"
    }
   ],
   "source": [
    "df_merge.head()"
   ]
  },
  {
   "cell_type": "markdown",
   "metadata": {},
   "source": [
    "After joining the tables we get the above table as the output."
   ]
  },
  {
   "cell_type": "markdown",
   "metadata": {},
   "source": [
    "Now are next step would be to create a plot using the networkx package. Using this package we create the plot of the nodes."
   ]
  },
  {
   "cell_type": "code",
   "execution_count": 20,
   "metadata": {},
   "outputs": [],
   "source": [
    "import networkx as nx\n",
    "Plot = nx.from_pandas_edgelist(df_edges,'u','v',['distance(m)'])"
   ]
  },
  {
   "cell_type": "markdown",
   "metadata": {},
   "source": [
    "After this we create a function named traveltime. This function is used for calculation of the time for travelling from one node to another"
   ]
  },
  {
   "cell_type": "code",
   "execution_count": 21,
   "metadata": {},
   "outputs": [],
   "source": [
    "def traveltime(path, edges):\n",
    "    traveltime = 0\n",
    "    for i in range(len(path)-1):\n",
    "        traveltime = traveltime + (edges[((edges.u==path[i]) & (edges.v== path[i+1])) | ((edges.v==path[i]) & (edges.u== path[i+1]))]['distance(m)'].values[0] * 1.0 * 3600) / (edges[((edges.u==path[i]) & (edges.v== path[i+1])) | ((edges.v==path[i]) & (edges.u== path[i+1]))]['speed(km/h)'].values[0] * 1000)\n",
    "\n",
    "    return traveltime"
   ]
  },
  {
   "cell_type": "markdown",
   "metadata": {},
   "source": [
    "Now we use the dijkstra's algorithm to find the shortest path between any 2 given nodes. This would give us the distance between the two points which basically means we would have the correct distance between the source and destination. Similarly for obtaining the time taken to travel between the points we would use the function traveltime."
   ]
  },
  {
   "cell_type": "code",
   "execution_count": 22,
   "metadata": {},
   "outputs": [],
   "source": [
    "distance = []\n",
    "timetravel = []\n",
    "for i in df_merge.index:\n",
    "    dist,tim = nx.single_source_dijkstra(Plot,source=df_merge['Unnamed: 0_y'][i],target=df_merge['Unnamed: 0'][i],weight='distance(m)')\n",
    "    distance.append(dist)\n",
    "    timetravel.append(traveltime(tim,df_edges))\n",
    "    \n",
    "    "
   ]
  },
  {
   "cell_type": "markdown",
   "metadata": {},
   "source": [
    "Now that we have obtained the journey distance and travel time we change the dataframe values with the correct values."
   ]
  },
  {
   "cell_type": "code",
   "execution_count": 23,
   "metadata": {},
   "outputs": [
    {
     "name": "stderr",
     "output_type": "stream",
     "text": [
      "/anaconda3/lib/python3.6/site-packages/ipykernel_launcher.py:3: SettingWithCopyWarning: \n",
      "A value is trying to be set on a copy of a slice from a DataFrame\n",
      "\n",
      "See the caveats in the documentation: http://pandas.pydata.org/pandas-docs/stable/indexing.html#indexing-view-versus-copy\n",
      "  This is separate from the ipykernel package so we can avoid doing imports until\n",
      "/anaconda3/lib/python3.6/site-packages/ipykernel_launcher.py:5: SettingWithCopyWarning: \n",
      "A value is trying to be set on a copy of a slice from a DataFrame\n",
      "\n",
      "See the caveats in the documentation: http://pandas.pydata.org/pandas-docs/stable/indexing.html#indexing-view-versus-copy\n",
      "  \"\"\"\n"
     ]
    }
   ],
   "source": [
    "for i in df.index:\n",
    "    if round(df['Journey Distance(m)'][i],3) != round(distance[i],3):\n",
    "        df['Journey Distance(m)'][i] = distance[i]\n",
    "    if round(df['Travel Time(s)'][i],3) != round(timetravel[i],3):\n",
    "        df['Travel Time(s)'][i] = timetravel[i]"
   ]
  },
  {
   "cell_type": "code",
   "execution_count": 24,
   "metadata": {},
   "outputs": [
    {
     "data": {
      "text/html": [
       "<div>\n",
       "<style scoped>\n",
       "    .dataframe tbody tr th:only-of-type {\n",
       "        vertical-align: middle;\n",
       "    }\n",
       "\n",
       "    .dataframe tbody tr th {\n",
       "        vertical-align: top;\n",
       "    }\n",
       "\n",
       "    .dataframe thead th {\n",
       "        text-align: right;\n",
       "    }\n",
       "</style>\n",
       "<table border=\"1\" class=\"dataframe\">\n",
       "  <thead>\n",
       "    <tr style=\"text-align: right;\">\n",
       "      <th></th>\n",
       "      <th>Unnamed: 0</th>\n",
       "      <th>Uber Type</th>\n",
       "      <th>Origin Region</th>\n",
       "      <th>Destination Region</th>\n",
       "      <th>Origin Latitude</th>\n",
       "      <th>Origin Longitude</th>\n",
       "      <th>Destination Latitude</th>\n",
       "      <th>Destination Longitude</th>\n",
       "      <th>Journey Distance(m)</th>\n",
       "      <th>Departure Date</th>\n",
       "      <th>Departure Time</th>\n",
       "      <th>Travel Time(s)</th>\n",
       "      <th>Arrival Time</th>\n",
       "      <th>Fare$</th>\n",
       "    </tr>\n",
       "  </thead>\n",
       "  <tbody>\n",
       "    <tr>\n",
       "      <th>0</th>\n",
       "      <td>ID3926512548</td>\n",
       "      <td>1</td>\n",
       "      <td>7</td>\n",
       "      <td>2</td>\n",
       "      <td>-37.861835</td>\n",
       "      <td>144.905716</td>\n",
       "      <td>-37.824373</td>\n",
       "      <td>144.952511</td>\n",
       "      <td>8304.0</td>\n",
       "      <td>2018-02-03</td>\n",
       "      <td>17:12:43</td>\n",
       "      <td>2929.02</td>\n",
       "      <td>18:01:32</td>\n",
       "      <td>27.66</td>\n",
       "    </tr>\n",
       "    <tr>\n",
       "      <th>1</th>\n",
       "      <td>ID5632779567</td>\n",
       "      <td>2</td>\n",
       "      <td>2</td>\n",
       "      <td>1</td>\n",
       "      <td>-37.823915</td>\n",
       "      <td>144.929916</td>\n",
       "      <td>-37.813703</td>\n",
       "      <td>144.953459</td>\n",
       "      <td>3408.0</td>\n",
       "      <td>2018-01-04</td>\n",
       "      <td>19:12:05</td>\n",
       "      <td>881.64</td>\n",
       "      <td>19:26:46</td>\n",
       "      <td>106.43</td>\n",
       "    </tr>\n",
       "    <tr>\n",
       "      <th>2</th>\n",
       "      <td>ID1815008795</td>\n",
       "      <td>0</td>\n",
       "      <td>1</td>\n",
       "      <td>9</td>\n",
       "      <td>-37.812248</td>\n",
       "      <td>144.957594</td>\n",
       "      <td>-38.110916</td>\n",
       "      <td>144.654173</td>\n",
       "      <td>43128.0</td>\n",
       "      <td>2018-06-24</td>\n",
       "      <td>12:22:20</td>\n",
       "      <td>10438.14</td>\n",
       "      <td>15:16:18</td>\n",
       "      <td>19.93</td>\n",
       "    </tr>\n",
       "    <tr>\n",
       "      <th>3</th>\n",
       "      <td>ID5666968193</td>\n",
       "      <td>2</td>\n",
       "      <td>5</td>\n",
       "      <td>9</td>\n",
       "      <td>-37.804927</td>\n",
       "      <td>144.939491</td>\n",
       "      <td>-38.110916</td>\n",
       "      <td>144.654173</td>\n",
       "      <td>43455.0</td>\n",
       "      <td>2018-01-20</td>\n",
       "      <td>17:27:50</td>\n",
       "      <td>10437.48</td>\n",
       "      <td>20:21:47</td>\n",
       "      <td>1031.39</td>\n",
       "    </tr>\n",
       "    <tr>\n",
       "      <th>4</th>\n",
       "      <td>ID3141351739</td>\n",
       "      <td>1</td>\n",
       "      <td>1</td>\n",
       "      <td>7</td>\n",
       "      <td>-37.812067</td>\n",
       "      <td>144.938196</td>\n",
       "      <td>-37.861835</td>\n",
       "      <td>144.905716</td>\n",
       "      <td>10817.0</td>\n",
       "      <td>2018-01-16</td>\n",
       "      <td>17:22:34</td>\n",
       "      <td>3501.60</td>\n",
       "      <td>18:20:55</td>\n",
       "      <td>24.35</td>\n",
       "    </tr>\n",
       "  </tbody>\n",
       "</table>\n",
       "</div>"
      ],
      "text/plain": [
       "     Unnamed: 0  Uber Type  Origin Region  Destination Region  \\\n",
       "0  ID3926512548          1              7                   2   \n",
       "1  ID5632779567          2              2                   1   \n",
       "2  ID1815008795          0              1                   9   \n",
       "3  ID5666968193          2              5                   9   \n",
       "4  ID3141351739          1              1                   7   \n",
       "\n",
       "   Origin Latitude  Origin Longitude  Destination Latitude  \\\n",
       "0       -37.861835        144.905716            -37.824373   \n",
       "1       -37.823915        144.929916            -37.813703   \n",
       "2       -37.812248        144.957594            -38.110916   \n",
       "3       -37.804927        144.939491            -38.110916   \n",
       "4       -37.812067        144.938196            -37.861835   \n",
       "\n",
       "   Destination Longitude  Journey Distance(m) Departure Date Departure Time  \\\n",
       "0             144.952511               8304.0     2018-02-03       17:12:43   \n",
       "1             144.953459               3408.0     2018-01-04       19:12:05   \n",
       "2             144.654173              43128.0     2018-06-24       12:22:20   \n",
       "3             144.654173              43455.0     2018-01-20       17:27:50   \n",
       "4             144.905716              10817.0     2018-01-16       17:22:34   \n",
       "\n",
       "   Travel Time(s) Arrival Time    Fare$  \n",
       "0         2929.02     18:01:32    27.66  \n",
       "1          881.64     19:26:46   106.43  \n",
       "2        10438.14     15:16:18    19.93  \n",
       "3        10437.48     20:21:47  1031.39  \n",
       "4         3501.60     18:20:55    24.35  "
      ]
     },
     "execution_count": 24,
     "metadata": {},
     "output_type": "execute_result"
    }
   ],
   "source": [
    "df.head()"
   ]
  },
  {
   "cell_type": "markdown",
   "metadata": {},
   "source": [
    "## Column 13: Arrival Time"
   ]
  },
  {
   "cell_type": "markdown",
   "metadata": {},
   "source": [
    "Now that we have the correct departure time and travel time with us we use this to find the Arrival Time. The rrival time can be found by addition of the departure time and the travel time. "
   ]
  },
  {
   "cell_type": "code",
   "execution_count": 25,
   "metadata": {},
   "outputs": [
    {
     "name": "stderr",
     "output_type": "stream",
     "text": [
      "/anaconda3/lib/python3.6/site-packages/ipykernel_launcher.py:18: SettingWithCopyWarning: \n",
      "A value is trying to be set on a copy of a slice from a DataFrame\n",
      "\n",
      "See the caveats in the documentation: http://pandas.pydata.org/pandas-docs/stable/indexing.html#indexing-view-versus-copy\n"
     ]
    }
   ],
   "source": [
    "import math\n",
    "for i in df.index:\n",
    "    timef = df['Departure Time'][i]\n",
    "    time = math.ceil(df['Travel Time(s)'][i])\n",
    "    addele = []\n",
    "    timefele = timef.split(\":\")\n",
    "    timefele[2] = int(timefele[2]) + time\n",
    "    addele.append(timefele[2]%60)\n",
    "    timefele[1] = int(timefele[1])+ (timefele[2]//60)\n",
    "    addele.append(timefele[1] % 60)\n",
    "    timefele[0] = int(timefele[0]) + (timefele[1]//60)\n",
    "    if timefele[0]>23:\n",
    "        addele.append(timefele[0]%12)\n",
    "    else:\n",
    "        addele.append(timefele[0])\n",
    "    final_date = str(addele[2])+\":\"+str(addele[1])+\":\"+str(addele[0])\n",
    "    if df['Arrival Time'][i] != final_date:\n",
    "        df['Arrival Time'][i] = str(addele[2])+\":\"+str(addele[1])+\":\"+str(addele[0])"
   ]
  },
  {
   "cell_type": "markdown",
   "metadata": {},
   "source": [
    "## Column 3&4: Origin Region and Destination Region"
   ]
  },
  {
   "cell_type": "markdown",
   "metadata": {},
   "source": [
    "Now that we have coorected the dirty values for all the columns we have one last task left which is correct the dirty values for the Origin and the Destination Regions. For this we first would save the dataframe to a new file and then using tableu the values for Origin and Destination Regions are corrected."
   ]
  },
  {
   "cell_type": "markdown",
   "metadata": {},
   "source": [
    "Now we have to find all the faulty values for origin and destination region and we have to change them. This is done using a visulisation tool called tableu."
   ]
  },
  {
   "cell_type": "markdown",
   "metadata": {},
   "source": [
    "We have all the columns corrected till this point. Now in this task we use tableu and plot for the origion and destination region and then we visually divide the regions and then see if one of the region would lie in another region. By using this method we can identify the error regions which are present and then correct them accordiongly."
   ]
  },
  {
   "cell_type": "markdown",
   "metadata": {},
   "source": [
    "Now using this method we first plot for the Origin Region and then find the wrong values and correct them accordingly"
   ]
  },
  {
   "attachments": {
    "origin_region.png": {
     "image/png": "[encoded data removed]"
    }
   },
   "cell_type": "markdown",
   "metadata": {},
   "source": [
    "The tableu plot for the __Origin Region__ is as follows:\n",
    "\n",
    "![origin_region.png](attachment:origin_region.png)"
   ]
  },
  {
   "cell_type": "code",
   "execution_count": 26,
   "metadata": {},
   "outputs": [],
   "source": [
    "## code to change the Origin Region\n",
    "df.loc[(df['Unnamed: 0']=='ID1834538109'),'Origin Region'] = 2\n",
    "df.loc[(df['Unnamed: 0']=='ID5139631941'),'Origin Region'] = 2\n",
    "df.loc[(df['Unnamed: 0']=='ID1317340367'),'Origin Region'] = 2\n",
    "df.loc[(df['Unnamed: 0']=='ID3141351739'),'Origin Region'] = 2\n",
    "df.loc[(df['Unnamed: 0']=='ID1278285441'),'Origin Region'] = 2\n",
    "df.loc[(df['Unnamed: 0']=='ID1747171831'),'Origin Region'] = 1\n",
    "df.loc[(df['Unnamed: 0']=='ID5365761825'),'Origin Region'] = 1\n",
    "df.loc[(df['Unnamed: 0']=='ID1650025002'),'Origin Region'] = 1\n",
    "df.loc[(df['Unnamed: 0']=='ID1168363288'),'Origin Region'] = 1\n",
    "df.loc[(df['Unnamed: 0']=='ID3877976721'),'Origin Region'] = 1\n",
    "df.loc[(df['Unnamed: 0']=='ID1961317003'),'Origin Region'] = 3\n",
    "df.loc[(df['Unnamed: 0']=='ID3122404394'),'Origin Region'] = 3\n",
    "df.loc[(df['Unnamed: 0']=='ID1416043076'),'Origin Region'] = 4\n",
    "df.loc[(df['Unnamed: 0']=='ID1475015649'),'Origin Region'] = 4\n",
    "df.loc[(df['Unnamed: 0']=='ID5414218968'),'Origin Region'] = 5"
   ]
  },
  {
   "cell_type": "markdown",
   "metadata": {},
   "source": [
    "Now we follow the same step we have done for the Origin Region and do the same for the Destination Region and we find the wrong vaues for the Destination Region and correct them accordingly."
   ]
  },
  {
   "attachments": {
    "destination_region.png": {
     "image/png": "[encoded data removed]"
    }
   },
   "cell_type": "markdown",
   "metadata": {},
   "source": [
    "The Tableu plot for the __Destination Region__ is as follows\n",
    "\n",
    "![destination_region.png](attachment:destination_region.png)"
   ]
  },
  {
   "cell_type": "code",
   "execution_count": 27,
   "metadata": {},
   "outputs": [],
   "source": [
    "## code to change the Destination Region\n",
    "df.loc[(df['Unnamed: 0']=='ID1890283662'),'Destination Region'] = 5\n",
    "df.loc[(df['Unnamed: 0']=='ID1862558846'),'Destination Region'] = 2\n",
    "df.loc[(df['Unnamed: 0']=='ID1712952978'),'Destination Region'] = 2\n",
    "df.loc[(df['Unnamed: 0']=='ID1834573345'),'Destination Region'] = 2\n",
    "df.loc[(df['Unnamed: 0']=='ID3251114902'),'Destination Region'] = 2\n",
    "df.loc[(df['Unnamed: 0']=='ID3574647240'),'Destination Region'] = 2\n",
    "df.loc[(df['Unnamed: 0']=='ID3574647240'),'Destination Region'] = 2\n",
    "df.loc[(df['Unnamed: 0']=='ID3621856361'),'Destination Region'] = 4\n",
    "df.loc[(df['Unnamed: 0']=='ID1902980383'),'Destination Region'] = 4\n",
    "df.loc[(df['Unnamed: 0']=='ID3697097085'),'Destination Region'] = 4\n",
    "df.loc[(df['Unnamed: 0']=='ID3560953687'),'Destination Region'] = 4\n",
    "df.loc[(df['Unnamed: 0']=='ID3751964934'),'Destination Region'] = 4\n",
    "df.loc[(df['Unnamed: 0']=='ID1883141120'),'Destination Region'] = 4\n",
    "df.loc[(df['Unnamed: 0']=='ID1142691882'),'Destination Region'] = 4"
   ]
  },
  {
   "cell_type": "markdown",
   "metadata": {},
   "source": [
    "Now all the dirty data has been cleaned. We now save the cleaned dataframe to a csv file. Using the same filename the to_csv function of pandas would overwrite the file which already exists. Hence the same filename is used"
   ]
  },
  {
   "cell_type": "code",
   "execution_count": 28,
   "metadata": {},
   "outputs": [],
   "source": [
    "df.to_csv('29996368_dirty_data_solution.csv')"
   ]
  },
  {
   "cell_type": "markdown",
   "metadata": {},
   "source": [
    "# Task 2: Wrangling a missing values dataset\n"
   ]
  },
  {
   "cell_type": "markdown",
   "metadata": {},
   "source": [
    "## Introduction"
   ]
  },
  {
   "cell_type": "markdown",
   "metadata": {},
   "source": [
    "In this task of the assignment we have to find the missing values and handle them accordingly. A csv file named missing_values.csv is given to us and we have to correct this data by filling in the missing values."
   ]
  },
  {
   "cell_type": "markdown",
   "metadata": {},
   "source": [
    "Our first step to solve this problem would be to import the required libraries. "
   ]
  },
  {
   "cell_type": "code",
   "execution_count": 29,
   "metadata": {},
   "outputs": [],
   "source": [
    "import pandas as pd\n",
    "import numpy as np\n",
    "import math\n",
    "import seaborn as snb"
   ]
  },
  {
   "cell_type": "markdown",
   "metadata": {},
   "source": [
    "Now we would load the dataset into a dataframe using pandas."
   ]
  },
  {
   "cell_type": "code",
   "execution_count": 30,
   "metadata": {},
   "outputs": [
    {
     "name": "stdout",
     "output_type": "stream",
     "text": [
      "<class 'pandas.core.frame.DataFrame'>\n",
      "RangeIndex: 115 entries, 0 to 114\n",
      "Data columns (total 14 columns):\n",
      "Unnamed: 0               115 non-null object\n",
      "Uber Type                94 non-null float64\n",
      "Origin Region            115 non-null int64\n",
      "Destination Region       115 non-null int64\n",
      "Origin Latitude          115 non-null float64\n",
      "Origin Longitude         115 non-null float64\n",
      "Destination Latitude     115 non-null float64\n",
      "Destination Longitude    115 non-null float64\n",
      "Journey Distance(m)      115 non-null float64\n",
      "Departure Date           115 non-null object\n",
      "Departure Time           115 non-null object\n",
      "Travel Time(s)           115 non-null float64\n",
      "Arrival Time             115 non-null object\n",
      "Fare$                    96 non-null float64\n",
      "dtypes: float64(8), int64(2), object(4)\n",
      "memory usage: 12.7+ KB\n"
     ]
    }
   ],
   "source": [
    "df_missing_values = pd.read_csv('29996368_missing_value.csv',delimiter=',',sep='\\s*,\\s*')\n",
    "df_missing_values.info()"
   ]
  },
  {
   "cell_type": "markdown",
   "metadata": {},
   "source": [
    "Now from the dataset information we can see that there are missing values in the 'Uber Type' and 'Fare\\$'. There are a total of 115 rows in the dataset and all the columns should have 115 values. However the 'Uber Type' column has only 94 values and the 'Fare\\$' column has 96 values. Thus our task now would be to fill in these missing values by finding patterns and models from the dataset."
   ]
  },
  {
   "cell_type": "markdown",
   "metadata": {},
   "source": [
    "## Case 1: Handling the missing values of Uber Type"
   ]
  },
  {
   "cell_type": "markdown",
   "metadata": {},
   "source": [
    "As seen from the dataframe information we can see that there are missing values in the 'Uber Type' column. Now we have to handle this and correct the dataframe. "
   ]
  },
  {
   "cell_type": "markdown",
   "metadata": {},
   "source": [
    "If we see the ID and Uber Type for a couple of rides we can find a pattern between this and see that there is a relation between the third character of the ride ID and the Uber Type of every ride. "
   ]
  },
  {
   "cell_type": "markdown",
   "metadata": {},
   "source": [
    "__We can see that:__\n",
    "\n",
    "- If the third character of ID is 1 then Uber Type for the ride is 0\n",
    "- If the third character of ID is 3 then Uber Type for the ride is 1\n",
    "- If the third character of ID is 5 then Uber Type for the ride is 2"
   ]
  },
  {
   "cell_type": "markdown",
   "metadata": {},
   "source": [
    "Hence we can see that by simply converting the third character of the ID to int and by performing an integer division we can find the Uber Type for the respective ride."
   ]
  },
  {
   "cell_type": "code",
   "execution_count": 31,
   "metadata": {},
   "outputs": [
    {
     "name": "stderr",
     "output_type": "stream",
     "text": [
      "/anaconda3/lib/python3.6/site-packages/ipykernel_launcher.py:6: SettingWithCopyWarning: \n",
      "A value is trying to be set on a copy of a slice from a DataFrame\n",
      "\n",
      "See the caveats in the documentation: http://pandas.pydata.org/pandas-docs/stable/indexing.html#indexing-view-versus-copy\n",
      "  \n"
     ]
    }
   ],
   "source": [
    "# code for finding missing values in the 'Uber Type column and filling them'\n",
    "for i in range(0,len(df_missing_values)):\n",
    "    if df_missing_values['Uber Type'][i] == int(df_missing_values['Unnamed: 0'][i][2])//2:\n",
    "        continue\n",
    "    else:\n",
    "        df_missing_values['Uber Type'][i] = int(df_missing_values['Unnamed: 0'][i][2])//2"
   ]
  },
  {
   "cell_type": "markdown",
   "metadata": {},
   "source": [
    "Now after the above code is run all the missing Uber Type values are filled. Hence filling the missing values of one of the column in the missing values is down we have one more to go to accomplish a complete dataset."
   ]
  },
  {
   "cell_type": "markdown",
   "metadata": {},
   "source": [
    "Now we drop all the rows with missing Fare value and then we write the data to a csv file"
   ]
  },
  {
   "cell_type": "code",
   "execution_count": 32,
   "metadata": {},
   "outputs": [],
   "source": [
    "df_missing_values.dropna().to_csv('29996368_missing_UberType_cleaned.csv')"
   ]
  },
  {
   "cell_type": "markdown",
   "metadata": {},
   "source": [
    "## Case 2: Handling missing values of Fare\\$ column"
   ]
  },
  {
   "cell_type": "markdown",
   "metadata": {},
   "source": [
    "We can see from the data set which is provided that the Fare\\$ column also has missing values and we have to fill in the missing values from these column. This is a little complicated as there is no fixed algorithm to find the fare of an Uber Ride. The Fare of a ride would depend on various factors like time of the day, day of the week, Uber Type and distance of travel for the ride."
   ]
  },
  {
   "cell_type": "markdown",
   "metadata": {},
   "source": [
    "For predecting the fare we use machine learning consepts and linear regression is used for predection of the fare."
   ]
  },
  {
   "cell_type": "markdown",
   "metadata": {},
   "source": [
    "Our first step now would be to add the columns which would help in prediction of the uber fare for each ride. Day of the week is one of the parameter which would help in the predection of an Uber ride. If the day is a weekday then the fare would be slightly less than the fares over weekends. Hence we use a library called 'datetime' which would help in conversion of date to a day value. Then based on the day we create a list and append a 1 or a 0."
   ]
  },
  {
   "cell_type": "code",
   "execution_count": 33,
   "metadata": {},
   "outputs": [],
   "source": [
    "import datetime\n",
    "day =[]\n",
    "for i in df_missing_values.index:\n",
    "    datei = df_missing_values['Departure Date'][i]\n",
    "    dayi = datetime.datetime.strptime(datei, '%Y-%m-%d').weekday()\n",
    "    if dayi<5:\n",
    "        day.append(0)\n",
    "    else:\n",
    "        day.append(1)"
   ]
  },
  {
   "cell_type": "markdown",
   "metadata": {},
   "source": [
    "Now that we have the day_of_week values in a list we can attach it as a row to the dataframe."
   ]
  },
  {
   "cell_type": "code",
   "execution_count": 34,
   "metadata": {},
   "outputs": [],
   "source": [
    "df_missing_values['day_of_week'] = day"
   ]
  },
  {
   "cell_type": "markdown",
   "metadata": {},
   "source": [
    "Similarly time of the day is also one important parameter which would affect the fare of an uber ride. Hence according to the assignment requirements there are three time slots made and then based on the time slots a constant value is appended to the list."
   ]
  },
  {
   "cell_type": "code",
   "execution_count": 35,
   "metadata": {},
   "outputs": [],
   "source": [
    "time_of_day = []\n",
    "for i in df_missing_values.index:\n",
    "    departure_time_split = df_missing_values['Departure Time'][i].split(\":\")\n",
    "    departure_time = int(departure_time_split[0])\n",
    "    if 6<=departure_time<=11:\n",
    "        time_of_day.append(0)\n",
    "    elif 12<=departure_time<=20:\n",
    "        time_of_day.append(1)\n",
    "    else:\n",
    "        time_of_day.append(2)"
   ]
  },
  {
   "cell_type": "markdown",
   "metadata": {},
   "source": [
    "Now that we have the time of the day list we would append this list to the dataframe."
   ]
  },
  {
   "cell_type": "code",
   "execution_count": 36,
   "metadata": {},
   "outputs": [],
   "source": [
    "df_missing_values['time_of_day'] = time_of_day"
   ]
  },
  {
   "cell_type": "code",
   "execution_count": 37,
   "metadata": {},
   "outputs": [
    {
     "data": {
      "text/html": [
       "<div>\n",
       "<style scoped>\n",
       "    .dataframe tbody tr th:only-of-type {\n",
       "        vertical-align: middle;\n",
       "    }\n",
       "\n",
       "    .dataframe tbody tr th {\n",
       "        vertical-align: top;\n",
       "    }\n",
       "\n",
       "    .dataframe thead th {\n",
       "        text-align: right;\n",
       "    }\n",
       "</style>\n",
       "<table border=\"1\" class=\"dataframe\">\n",
       "  <thead>\n",
       "    <tr style=\"text-align: right;\">\n",
       "      <th></th>\n",
       "      <th>Unnamed: 0</th>\n",
       "      <th>Uber Type</th>\n",
       "      <th>Origin Region</th>\n",
       "      <th>Destination Region</th>\n",
       "      <th>Origin Latitude</th>\n",
       "      <th>Origin Longitude</th>\n",
       "      <th>Destination Latitude</th>\n",
       "      <th>Destination Longitude</th>\n",
       "      <th>Journey Distance(m)</th>\n",
       "      <th>Departure Date</th>\n",
       "      <th>Departure Time</th>\n",
       "      <th>Travel Time(s)</th>\n",
       "      <th>Arrival Time</th>\n",
       "      <th>Fare$</th>\n",
       "      <th>day_of_week</th>\n",
       "      <th>time_of_day</th>\n",
       "    </tr>\n",
       "  </thead>\n",
       "  <tbody>\n",
       "    <tr>\n",
       "      <th>0</th>\n",
       "      <td>ID1158214067</td>\n",
       "      <td>0.0</td>\n",
       "      <td>6</td>\n",
       "      <td>1</td>\n",
       "      <td>-37.787442</td>\n",
       "      <td>144.980409</td>\n",
       "      <td>-37.799743</td>\n",
       "      <td>144.972465</td>\n",
       "      <td>1964.0</td>\n",
       "      <td>2018-07-09</td>\n",
       "      <td>19:45:26</td>\n",
       "      <td>495.96</td>\n",
       "      <td>19:53:41</td>\n",
       "      <td>7.05</td>\n",
       "      <td>0</td>\n",
       "      <td>1</td>\n",
       "    </tr>\n",
       "    <tr>\n",
       "      <th>1</th>\n",
       "      <td>ID5743777261</td>\n",
       "      <td>2.0</td>\n",
       "      <td>2</td>\n",
       "      <td>3</td>\n",
       "      <td>-37.823056</td>\n",
       "      <td>144.942479</td>\n",
       "      <td>-37.821467</td>\n",
       "      <td>144.968992</td>\n",
       "      <td>2749.0</td>\n",
       "      <td>2018-04-18</td>\n",
       "      <td>14:28:41</td>\n",
       "      <td>691.38</td>\n",
       "      <td>14:40:12</td>\n",
       "      <td>67.09</td>\n",
       "      <td>0</td>\n",
       "      <td>1</td>\n",
       "    </tr>\n",
       "    <tr>\n",
       "      <th>2</th>\n",
       "      <td>ID3415103695</td>\n",
       "      <td>1.0</td>\n",
       "      <td>7</td>\n",
       "      <td>1</td>\n",
       "      <td>-37.861835</td>\n",
       "      <td>144.905716</td>\n",
       "      <td>-37.809547</td>\n",
       "      <td>144.939497</td>\n",
       "      <td>10738.0</td>\n",
       "      <td>2018-03-08</td>\n",
       "      <td>12:27:38</td>\n",
       "      <td>3475.92</td>\n",
       "      <td>13:25:33</td>\n",
       "      <td>19.51</td>\n",
       "      <td>0</td>\n",
       "      <td>1</td>\n",
       "    </tr>\n",
       "    <tr>\n",
       "      <th>3</th>\n",
       "      <td>ID1580893576</td>\n",
       "      <td>0.0</td>\n",
       "      <td>4</td>\n",
       "      <td>8</td>\n",
       "      <td>-37.803710</td>\n",
       "      <td>145.011618</td>\n",
       "      <td>-37.807202</td>\n",
       "      <td>145.026637</td>\n",
       "      <td>1390.0</td>\n",
       "      <td>2018-01-11</td>\n",
       "      <td>17:06:44</td>\n",
       "      <td>368.88</td>\n",
       "      <td>17:12:52</td>\n",
       "      <td>6.33</td>\n",
       "      <td>0</td>\n",
       "      <td>1</td>\n",
       "    </tr>\n",
       "    <tr>\n",
       "      <th>4</th>\n",
       "      <td>ID1978988746</td>\n",
       "      <td>0.0</td>\n",
       "      <td>9</td>\n",
       "      <td>1</td>\n",
       "      <td>-38.110916</td>\n",
       "      <td>144.654173</td>\n",
       "      <td>-37.808196</td>\n",
       "      <td>144.973306</td>\n",
       "      <td>44547.0</td>\n",
       "      <td>2018-03-22</td>\n",
       "      <td>01:36:27</td>\n",
       "      <td>10764.84</td>\n",
       "      <td>4:35:51</td>\n",
       "      <td>26.50</td>\n",
       "      <td>0</td>\n",
       "      <td>2</td>\n",
       "    </tr>\n",
       "  </tbody>\n",
       "</table>\n",
       "</div>"
      ],
      "text/plain": [
       "     Unnamed: 0  Uber Type  Origin Region  Destination Region  \\\n",
       "0  ID1158214067        0.0              6                   1   \n",
       "1  ID5743777261        2.0              2                   3   \n",
       "2  ID3415103695        1.0              7                   1   \n",
       "3  ID1580893576        0.0              4                   8   \n",
       "4  ID1978988746        0.0              9                   1   \n",
       "\n",
       "   Origin Latitude  Origin Longitude  Destination Latitude  \\\n",
       "0       -37.787442        144.980409            -37.799743   \n",
       "1       -37.823056        144.942479            -37.821467   \n",
       "2       -37.861835        144.905716            -37.809547   \n",
       "3       -37.803710        145.011618            -37.807202   \n",
       "4       -38.110916        144.654173            -37.808196   \n",
       "\n",
       "   Destination Longitude  Journey Distance(m) Departure Date Departure Time  \\\n",
       "0             144.972465               1964.0     2018-07-09       19:45:26   \n",
       "1             144.968992               2749.0     2018-04-18       14:28:41   \n",
       "2             144.939497              10738.0     2018-03-08       12:27:38   \n",
       "3             145.026637               1390.0     2018-01-11       17:06:44   \n",
       "4             144.973306              44547.0     2018-03-22       01:36:27   \n",
       "\n",
       "   Travel Time(s) Arrival Time  Fare$  day_of_week  time_of_day  \n",
       "0          495.96     19:53:41   7.05            0            1  \n",
       "1          691.38     14:40:12  67.09            0            1  \n",
       "2         3475.92     13:25:33  19.51            0            1  \n",
       "3          368.88     17:12:52   6.33            0            1  \n",
       "4        10764.84      4:35:51  26.50            0            2  "
      ]
     },
     "execution_count": 37,
     "metadata": {},
     "output_type": "execute_result"
    }
   ],
   "source": [
    "df_missing_values.head()"
   ]
  },
  {
   "cell_type": "markdown",
   "metadata": {},
   "source": [
    "Now using this model we have to predict the fare for the missing values. Hence the dataframe is now split into a test data as shown below. The test data is basically the data for which the fare value in the dataframe is not a null value."
   ]
  },
  {
   "cell_type": "code",
   "execution_count": 38,
   "metadata": {},
   "outputs": [
    {
     "data": {
      "text/html": [
       "<div>\n",
       "<style scoped>\n",
       "    .dataframe tbody tr th:only-of-type {\n",
       "        vertical-align: middle;\n",
       "    }\n",
       "\n",
       "    .dataframe tbody tr th {\n",
       "        vertical-align: top;\n",
       "    }\n",
       "\n",
       "    .dataframe thead th {\n",
       "        text-align: right;\n",
       "    }\n",
       "</style>\n",
       "<table border=\"1\" class=\"dataframe\">\n",
       "  <thead>\n",
       "    <tr style=\"text-align: right;\">\n",
       "      <th></th>\n",
       "      <th>Unnamed: 0</th>\n",
       "      <th>Uber Type</th>\n",
       "      <th>Origin Region</th>\n",
       "      <th>Destination Region</th>\n",
       "      <th>Origin Latitude</th>\n",
       "      <th>Origin Longitude</th>\n",
       "      <th>Destination Latitude</th>\n",
       "      <th>Destination Longitude</th>\n",
       "      <th>Journey Distance(m)</th>\n",
       "      <th>Departure Date</th>\n",
       "      <th>Departure Time</th>\n",
       "      <th>Travel Time(s)</th>\n",
       "      <th>Arrival Time</th>\n",
       "      <th>Fare$</th>\n",
       "      <th>day_of_week</th>\n",
       "      <th>time_of_day</th>\n",
       "    </tr>\n",
       "  </thead>\n",
       "  <tbody>\n",
       "    <tr>\n",
       "      <th>61</th>\n",
       "      <td>ID5497711606</td>\n",
       "      <td>2.0</td>\n",
       "      <td>6</td>\n",
       "      <td>7</td>\n",
       "      <td>-37.790818</td>\n",
       "      <td>144.985793</td>\n",
       "      <td>-37.861835</td>\n",
       "      <td>144.905716</td>\n",
       "      <td>11712.0</td>\n",
       "      <td>2018-01-14</td>\n",
       "      <td>22:09:28</td>\n",
       "      <td>3717.48</td>\n",
       "      <td>23:11:25</td>\n",
       "      <td>NaN</td>\n",
       "      <td>1</td>\n",
       "      <td>2</td>\n",
       "    </tr>\n",
       "    <tr>\n",
       "      <th>69</th>\n",
       "      <td>ID1332158222</td>\n",
       "      <td>0.0</td>\n",
       "      <td>2</td>\n",
       "      <td>1</td>\n",
       "      <td>-37.813849</td>\n",
       "      <td>144.933020</td>\n",
       "      <td>-37.814079</td>\n",
       "      <td>144.960108</td>\n",
       "      <td>3552.0</td>\n",
       "      <td>2018-02-13</td>\n",
       "      <td>16:46:10</td>\n",
       "      <td>915.00</td>\n",
       "      <td>17:01:25</td>\n",
       "      <td>NaN</td>\n",
       "      <td>0</td>\n",
       "      <td>1</td>\n",
       "    </tr>\n",
       "    <tr>\n",
       "      <th>72</th>\n",
       "      <td>ID5857179305</td>\n",
       "      <td>2.0</td>\n",
       "      <td>7</td>\n",
       "      <td>6</td>\n",
       "      <td>-37.861835</td>\n",
       "      <td>144.905716</td>\n",
       "      <td>-37.773845</td>\n",
       "      <td>144.983689</td>\n",
       "      <td>13169.0</td>\n",
       "      <td>2018-07-19</td>\n",
       "      <td>16:15:21</td>\n",
       "      <td>3863.58</td>\n",
       "      <td>17:19:44</td>\n",
       "      <td>NaN</td>\n",
       "      <td>0</td>\n",
       "      <td>1</td>\n",
       "    </tr>\n",
       "    <tr>\n",
       "      <th>77</th>\n",
       "      <td>ID1903512008</td>\n",
       "      <td>0.0</td>\n",
       "      <td>6</td>\n",
       "      <td>1</td>\n",
       "      <td>-37.787442</td>\n",
       "      <td>144.980409</td>\n",
       "      <td>-37.809187</td>\n",
       "      <td>144.945239</td>\n",
       "      <td>5185.0</td>\n",
       "      <td>2018-04-13</td>\n",
       "      <td>20:09:23</td>\n",
       "      <td>1330.56</td>\n",
       "      <td>20:31:33</td>\n",
       "      <td>NaN</td>\n",
       "      <td>0</td>\n",
       "      <td>1</td>\n",
       "    </tr>\n",
       "    <tr>\n",
       "      <th>79</th>\n",
       "      <td>ID1710088236</td>\n",
       "      <td>0.0</td>\n",
       "      <td>4</td>\n",
       "      <td>2</td>\n",
       "      <td>-37.813735</td>\n",
       "      <td>145.006257</td>\n",
       "      <td>-37.812655</td>\n",
       "      <td>144.925244</td>\n",
       "      <td>7996.0</td>\n",
       "      <td>2018-03-14</td>\n",
       "      <td>03:01:10</td>\n",
       "      <td>2103.66</td>\n",
       "      <td>3:36:13</td>\n",
       "      <td>NaN</td>\n",
       "      <td>0</td>\n",
       "      <td>2</td>\n",
       "    </tr>\n",
       "  </tbody>\n",
       "</table>\n",
       "</div>"
      ],
      "text/plain": [
       "      Unnamed: 0  Uber Type  Origin Region  Destination Region  \\\n",
       "61  ID5497711606        2.0              6                   7   \n",
       "69  ID1332158222        0.0              2                   1   \n",
       "72  ID5857179305        2.0              7                   6   \n",
       "77  ID1903512008        0.0              6                   1   \n",
       "79  ID1710088236        0.0              4                   2   \n",
       "\n",
       "    Origin Latitude  Origin Longitude  Destination Latitude  \\\n",
       "61       -37.790818        144.985793            -37.861835   \n",
       "69       -37.813849        144.933020            -37.814079   \n",
       "72       -37.861835        144.905716            -37.773845   \n",
       "77       -37.787442        144.980409            -37.809187   \n",
       "79       -37.813735        145.006257            -37.812655   \n",
       "\n",
       "    Destination Longitude  Journey Distance(m) Departure Date Departure Time  \\\n",
       "61             144.905716              11712.0     2018-01-14       22:09:28   \n",
       "69             144.960108               3552.0     2018-02-13       16:46:10   \n",
       "72             144.983689              13169.0     2018-07-19       16:15:21   \n",
       "77             144.945239               5185.0     2018-04-13       20:09:23   \n",
       "79             144.925244               7996.0     2018-03-14       03:01:10   \n",
       "\n",
       "    Travel Time(s) Arrival Time  Fare$  day_of_week  time_of_day  \n",
       "61         3717.48     23:11:25    NaN            1            2  \n",
       "69          915.00     17:01:25    NaN            0            1  \n",
       "72         3863.58     17:19:44    NaN            0            1  \n",
       "77         1330.56     20:31:33    NaN            0            1  \n",
       "79         2103.66      3:36:13    NaN            0            2  "
      ]
     },
     "execution_count": 38,
     "metadata": {},
     "output_type": "execute_result"
    }
   ],
   "source": [
    "test_data = df_missing_values[df_missing_values['Fare$'].isnull()]\n",
    "test_data.head()"
   ]
  },
  {
   "cell_type": "markdown",
   "metadata": {},
   "source": [
    "Now we have the test data thus now we have to obtain the training data as well. The train data is the data for which we have null values in the fare column."
   ]
  },
  {
   "cell_type": "code",
   "execution_count": 39,
   "metadata": {},
   "outputs": [
    {
     "data": {
      "text/html": [
       "<div>\n",
       "<style scoped>\n",
       "    .dataframe tbody tr th:only-of-type {\n",
       "        vertical-align: middle;\n",
       "    }\n",
       "\n",
       "    .dataframe tbody tr th {\n",
       "        vertical-align: top;\n",
       "    }\n",
       "\n",
       "    .dataframe thead th {\n",
       "        text-align: right;\n",
       "    }\n",
       "</style>\n",
       "<table border=\"1\" class=\"dataframe\">\n",
       "  <thead>\n",
       "    <tr style=\"text-align: right;\">\n",
       "      <th></th>\n",
       "      <th>Unnamed: 0</th>\n",
       "      <th>Uber Type</th>\n",
       "      <th>Origin Region</th>\n",
       "      <th>Destination Region</th>\n",
       "      <th>Origin Latitude</th>\n",
       "      <th>Origin Longitude</th>\n",
       "      <th>Destination Latitude</th>\n",
       "      <th>Destination Longitude</th>\n",
       "      <th>Journey Distance(m)</th>\n",
       "      <th>Departure Date</th>\n",
       "      <th>Departure Time</th>\n",
       "      <th>Travel Time(s)</th>\n",
       "      <th>Arrival Time</th>\n",
       "      <th>Fare$</th>\n",
       "      <th>day_of_week</th>\n",
       "      <th>time_of_day</th>\n",
       "    </tr>\n",
       "  </thead>\n",
       "  <tbody>\n",
       "    <tr>\n",
       "      <th>0</th>\n",
       "      <td>ID1158214067</td>\n",
       "      <td>0.0</td>\n",
       "      <td>6</td>\n",
       "      <td>1</td>\n",
       "      <td>-37.787442</td>\n",
       "      <td>144.980409</td>\n",
       "      <td>-37.799743</td>\n",
       "      <td>144.972465</td>\n",
       "      <td>1964.0</td>\n",
       "      <td>2018-07-09</td>\n",
       "      <td>19:45:26</td>\n",
       "      <td>495.96</td>\n",
       "      <td>19:53:41</td>\n",
       "      <td>7.05</td>\n",
       "      <td>0</td>\n",
       "      <td>1</td>\n",
       "    </tr>\n",
       "    <tr>\n",
       "      <th>1</th>\n",
       "      <td>ID5743777261</td>\n",
       "      <td>2.0</td>\n",
       "      <td>2</td>\n",
       "      <td>3</td>\n",
       "      <td>-37.823056</td>\n",
       "      <td>144.942479</td>\n",
       "      <td>-37.821467</td>\n",
       "      <td>144.968992</td>\n",
       "      <td>2749.0</td>\n",
       "      <td>2018-04-18</td>\n",
       "      <td>14:28:41</td>\n",
       "      <td>691.38</td>\n",
       "      <td>14:40:12</td>\n",
       "      <td>67.09</td>\n",
       "      <td>0</td>\n",
       "      <td>1</td>\n",
       "    </tr>\n",
       "    <tr>\n",
       "      <th>2</th>\n",
       "      <td>ID3415103695</td>\n",
       "      <td>1.0</td>\n",
       "      <td>7</td>\n",
       "      <td>1</td>\n",
       "      <td>-37.861835</td>\n",
       "      <td>144.905716</td>\n",
       "      <td>-37.809547</td>\n",
       "      <td>144.939497</td>\n",
       "      <td>10738.0</td>\n",
       "      <td>2018-03-08</td>\n",
       "      <td>12:27:38</td>\n",
       "      <td>3475.92</td>\n",
       "      <td>13:25:33</td>\n",
       "      <td>19.51</td>\n",
       "      <td>0</td>\n",
       "      <td>1</td>\n",
       "    </tr>\n",
       "    <tr>\n",
       "      <th>3</th>\n",
       "      <td>ID1580893576</td>\n",
       "      <td>0.0</td>\n",
       "      <td>4</td>\n",
       "      <td>8</td>\n",
       "      <td>-37.803710</td>\n",
       "      <td>145.011618</td>\n",
       "      <td>-37.807202</td>\n",
       "      <td>145.026637</td>\n",
       "      <td>1390.0</td>\n",
       "      <td>2018-01-11</td>\n",
       "      <td>17:06:44</td>\n",
       "      <td>368.88</td>\n",
       "      <td>17:12:52</td>\n",
       "      <td>6.33</td>\n",
       "      <td>0</td>\n",
       "      <td>1</td>\n",
       "    </tr>\n",
       "    <tr>\n",
       "      <th>4</th>\n",
       "      <td>ID1978988746</td>\n",
       "      <td>0.0</td>\n",
       "      <td>9</td>\n",
       "      <td>1</td>\n",
       "      <td>-38.110916</td>\n",
       "      <td>144.654173</td>\n",
       "      <td>-37.808196</td>\n",
       "      <td>144.973306</td>\n",
       "      <td>44547.0</td>\n",
       "      <td>2018-03-22</td>\n",
       "      <td>01:36:27</td>\n",
       "      <td>10764.84</td>\n",
       "      <td>4:35:51</td>\n",
       "      <td>26.50</td>\n",
       "      <td>0</td>\n",
       "      <td>2</td>\n",
       "    </tr>\n",
       "  </tbody>\n",
       "</table>\n",
       "</div>"
      ],
      "text/plain": [
       "     Unnamed: 0  Uber Type  Origin Region  Destination Region  \\\n",
       "0  ID1158214067        0.0              6                   1   \n",
       "1  ID5743777261        2.0              2                   3   \n",
       "2  ID3415103695        1.0              7                   1   \n",
       "3  ID1580893576        0.0              4                   8   \n",
       "4  ID1978988746        0.0              9                   1   \n",
       "\n",
       "   Origin Latitude  Origin Longitude  Destination Latitude  \\\n",
       "0       -37.787442        144.980409            -37.799743   \n",
       "1       -37.823056        144.942479            -37.821467   \n",
       "2       -37.861835        144.905716            -37.809547   \n",
       "3       -37.803710        145.011618            -37.807202   \n",
       "4       -38.110916        144.654173            -37.808196   \n",
       "\n",
       "   Destination Longitude  Journey Distance(m) Departure Date Departure Time  \\\n",
       "0             144.972465               1964.0     2018-07-09       19:45:26   \n",
       "1             144.968992               2749.0     2018-04-18       14:28:41   \n",
       "2             144.939497              10738.0     2018-03-08       12:27:38   \n",
       "3             145.026637               1390.0     2018-01-11       17:06:44   \n",
       "4             144.973306              44547.0     2018-03-22       01:36:27   \n",
       "\n",
       "   Travel Time(s) Arrival Time  Fare$  day_of_week  time_of_day  \n",
       "0          495.96     19:53:41   7.05            0            1  \n",
       "1          691.38     14:40:12  67.09            0            1  \n",
       "2         3475.92     13:25:33  19.51            0            1  \n",
       "3          368.88     17:12:52   6.33            0            1  \n",
       "4        10764.84      4:35:51  26.50            0            2  "
      ]
     },
     "execution_count": 39,
     "metadata": {},
     "output_type": "execute_result"
    }
   ],
   "source": [
    "train_data = df_missing_values.dropna()\n",
    "train_data.head()"
   ]
  },
  {
   "cell_type": "markdown",
   "metadata": {},
   "source": [
    "Now only a few specific columns are required to train the model for linear regression. Hence these specific columns are segregated out."
   ]
  },
  {
   "cell_type": "code",
   "execution_count": 40,
   "metadata": {},
   "outputs": [],
   "source": [
    "train_data = train_data[['Uber Type', 'Journey Distance(m)','Travel Time(s)','day_of_week','time_of_day','Fare$']]"
   ]
  },
  {
   "cell_type": "markdown",
   "metadata": {},
   "source": [
    "Now we import the library for performing linear regression."
   ]
  },
  {
   "cell_type": "code",
   "execution_count": 41,
   "metadata": {},
   "outputs": [],
   "source": [
    "from sklearn.linear_model import LinearRegression"
   ]
  },
  {
   "cell_type": "markdown",
   "metadata": {},
   "source": [
    "Now we do the predections for the fare for the uber type. In this part we would segregate the training data based on the Uber Type of the ride and train the models. Then these models would be used to predict the fares for their respective Uber types. This increases the accuracy of the model and more accurate fares would be predicted for each uber rides."
   ]
  },
  {
   "cell_type": "code",
   "execution_count": 42,
   "metadata": {},
   "outputs": [],
   "source": [
    "from sklearn.model_selection import train_test_split\n",
    "predectionsall = []\n",
    "\n",
    "for i in range(3):\n",
    "    train_data_i = train_data[train_data['Uber Type'] == i]\n",
    "    test_data_i = test_data[test_data['Uber Type'] == i]\n",
    "    X = train_data_i[train_data_i.columns[0:5]]\n",
    "    y = train_data_i['Fare$']\n",
    "    Xtrain = X\n",
    "    ytrain = y\n",
    "    Xtest = test_data_i[['Uber Type','Journey Distance(m)','Travel Time(s)','day_of_week','time_of_day']]\n",
    "    lm_full = LinearRegression()\n",
    "    lm_full.fit(Xtrain,ytrain)\n",
    "    predections = lm_full.predict(Xtest)\n",
    "    predectionsall.append(list(predections))\n",
    "\n"
   ]
  },
  {
   "cell_type": "markdown",
   "metadata": {},
   "source": [
    "Now that we have the predicted fare values in a list we would use it for handling the missing fare values in the dataset."
   ]
  },
  {
   "cell_type": "code",
   "execution_count": 43,
   "metadata": {},
   "outputs": [
    {
     "name": "stderr",
     "output_type": "stream",
     "text": [
      "/anaconda3/lib/python3.6/site-packages/ipykernel_launcher.py:12: SettingWithCopyWarning: \n",
      "A value is trying to be set on a copy of a slice from a DataFrame\n",
      "\n",
      "See the caveats in the documentation: http://pandas.pydata.org/pandas-docs/stable/indexing.html#indexing-view-versus-copy\n",
      "  if sys.path[0] == '':\n",
      "/anaconda3/lib/python3.6/site-packages/ipykernel_launcher.py:6: SettingWithCopyWarning: \n",
      "A value is trying to be set on a copy of a slice from a DataFrame\n",
      "\n",
      "See the caveats in the documentation: http://pandas.pydata.org/pandas-docs/stable/indexing.html#indexing-view-versus-copy\n",
      "  \n",
      "/anaconda3/lib/python3.6/site-packages/ipykernel_launcher.py:9: SettingWithCopyWarning: \n",
      "A value is trying to be set on a copy of a slice from a DataFrame\n",
      "\n",
      "See the caveats in the documentation: http://pandas.pydata.org/pandas-docs/stable/indexing.html#indexing-view-versus-copy\n",
      "  if __name__ == '__main__':\n"
     ]
    }
   ],
   "source": [
    "zero_type = 0\n",
    "one_type = 0\n",
    "two_type = 0\n",
    "for i in df_missing_values[df_missing_values['Fare$'].isnull()].index:\n",
    "    if df_missing_values['Uber Type'][i] == 0:\n",
    "        df_missing_values['Fare$'][i] = predectionsall[0][zero_type]\n",
    "        zero_type+=1\n",
    "    if df_missing_values['Uber Type'][i] == 1:\n",
    "        df_missing_values['Fare$'][i] = predectionsall[1][one_type]\n",
    "        one_type+=1\n",
    "    if df_missing_values['Uber Type'][i] == 2:\n",
    "        df_missing_values['Fare$'][i] = predectionsall[2][two_type]\n",
    "        two_type+=1"
   ]
  },
  {
   "cell_type": "code",
   "execution_count": 44,
   "metadata": {},
   "outputs": [
    {
     "name": "stdout",
     "output_type": "stream",
     "text": [
      "<class 'pandas.core.frame.DataFrame'>\n",
      "RangeIndex: 115 entries, 0 to 114\n",
      "Data columns (total 16 columns):\n",
      "Unnamed: 0               115 non-null object\n",
      "Uber Type                115 non-null float64\n",
      "Origin Region            115 non-null int64\n",
      "Destination Region       115 non-null int64\n",
      "Origin Latitude          115 non-null float64\n",
      "Origin Longitude         115 non-null float64\n",
      "Destination Latitude     115 non-null float64\n",
      "Destination Longitude    115 non-null float64\n",
      "Journey Distance(m)      115 non-null float64\n",
      "Departure Date           115 non-null object\n",
      "Departure Time           115 non-null object\n",
      "Travel Time(s)           115 non-null float64\n",
      "Arrival Time             115 non-null object\n",
      "Fare$                    115 non-null float64\n",
      "day_of_week              115 non-null int64\n",
      "time_of_day              115 non-null int64\n",
      "dtypes: float64(8), int64(4), object(4)\n",
      "memory usage: 14.5+ KB\n"
     ]
    }
   ],
   "source": [
    "df_missing_values.info()"
   ]
  },
  {
   "cell_type": "markdown",
   "metadata": {},
   "source": [
    "Now we have to remove the rows which we have created for predecting thr fares."
   ]
  },
  {
   "cell_type": "code",
   "execution_count": 45,
   "metadata": {},
   "outputs": [],
   "source": [
    "df_missing_values.drop(labels=['day_of_week','time_of_day'],axis=1,inplace=True)"
   ]
  },
  {
   "cell_type": "code",
   "execution_count": 46,
   "metadata": {},
   "outputs": [
    {
     "data": {
      "text/html": [
       "<div>\n",
       "<style scoped>\n",
       "    .dataframe tbody tr th:only-of-type {\n",
       "        vertical-align: middle;\n",
       "    }\n",
       "\n",
       "    .dataframe tbody tr th {\n",
       "        vertical-align: top;\n",
       "    }\n",
       "\n",
       "    .dataframe thead th {\n",
       "        text-align: right;\n",
       "    }\n",
       "</style>\n",
       "<table border=\"1\" class=\"dataframe\">\n",
       "  <thead>\n",
       "    <tr style=\"text-align: right;\">\n",
       "      <th></th>\n",
       "      <th>Unnamed: 0</th>\n",
       "      <th>Uber Type</th>\n",
       "      <th>Origin Region</th>\n",
       "      <th>Destination Region</th>\n",
       "      <th>Origin Latitude</th>\n",
       "      <th>Origin Longitude</th>\n",
       "      <th>Destination Latitude</th>\n",
       "      <th>Destination Longitude</th>\n",
       "      <th>Journey Distance(m)</th>\n",
       "      <th>Departure Date</th>\n",
       "      <th>Departure Time</th>\n",
       "      <th>Travel Time(s)</th>\n",
       "      <th>Arrival Time</th>\n",
       "      <th>Fare$</th>\n",
       "    </tr>\n",
       "  </thead>\n",
       "  <tbody>\n",
       "    <tr>\n",
       "      <th>0</th>\n",
       "      <td>ID1158214067</td>\n",
       "      <td>0.0</td>\n",
       "      <td>6</td>\n",
       "      <td>1</td>\n",
       "      <td>-37.787442</td>\n",
       "      <td>144.980409</td>\n",
       "      <td>-37.799743</td>\n",
       "      <td>144.972465</td>\n",
       "      <td>1964.0</td>\n",
       "      <td>2018-07-09</td>\n",
       "      <td>19:45:26</td>\n",
       "      <td>495.96</td>\n",
       "      <td>19:53:41</td>\n",
       "      <td>7.05</td>\n",
       "    </tr>\n",
       "    <tr>\n",
       "      <th>1</th>\n",
       "      <td>ID5743777261</td>\n",
       "      <td>2.0</td>\n",
       "      <td>2</td>\n",
       "      <td>3</td>\n",
       "      <td>-37.823056</td>\n",
       "      <td>144.942479</td>\n",
       "      <td>-37.821467</td>\n",
       "      <td>144.968992</td>\n",
       "      <td>2749.0</td>\n",
       "      <td>2018-04-18</td>\n",
       "      <td>14:28:41</td>\n",
       "      <td>691.38</td>\n",
       "      <td>14:40:12</td>\n",
       "      <td>67.09</td>\n",
       "    </tr>\n",
       "    <tr>\n",
       "      <th>2</th>\n",
       "      <td>ID3415103695</td>\n",
       "      <td>1.0</td>\n",
       "      <td>7</td>\n",
       "      <td>1</td>\n",
       "      <td>-37.861835</td>\n",
       "      <td>144.905716</td>\n",
       "      <td>-37.809547</td>\n",
       "      <td>144.939497</td>\n",
       "      <td>10738.0</td>\n",
       "      <td>2018-03-08</td>\n",
       "      <td>12:27:38</td>\n",
       "      <td>3475.92</td>\n",
       "      <td>13:25:33</td>\n",
       "      <td>19.51</td>\n",
       "    </tr>\n",
       "    <tr>\n",
       "      <th>3</th>\n",
       "      <td>ID1580893576</td>\n",
       "      <td>0.0</td>\n",
       "      <td>4</td>\n",
       "      <td>8</td>\n",
       "      <td>-37.803710</td>\n",
       "      <td>145.011618</td>\n",
       "      <td>-37.807202</td>\n",
       "      <td>145.026637</td>\n",
       "      <td>1390.0</td>\n",
       "      <td>2018-01-11</td>\n",
       "      <td>17:06:44</td>\n",
       "      <td>368.88</td>\n",
       "      <td>17:12:52</td>\n",
       "      <td>6.33</td>\n",
       "    </tr>\n",
       "    <tr>\n",
       "      <th>4</th>\n",
       "      <td>ID1978988746</td>\n",
       "      <td>0.0</td>\n",
       "      <td>9</td>\n",
       "      <td>1</td>\n",
       "      <td>-38.110916</td>\n",
       "      <td>144.654173</td>\n",
       "      <td>-37.808196</td>\n",
       "      <td>144.973306</td>\n",
       "      <td>44547.0</td>\n",
       "      <td>2018-03-22</td>\n",
       "      <td>01:36:27</td>\n",
       "      <td>10764.84</td>\n",
       "      <td>4:35:51</td>\n",
       "      <td>26.50</td>\n",
       "    </tr>\n",
       "  </tbody>\n",
       "</table>\n",
       "</div>"
      ],
      "text/plain": [
       "     Unnamed: 0  Uber Type  Origin Region  Destination Region  \\\n",
       "0  ID1158214067        0.0              6                   1   \n",
       "1  ID5743777261        2.0              2                   3   \n",
       "2  ID3415103695        1.0              7                   1   \n",
       "3  ID1580893576        0.0              4                   8   \n",
       "4  ID1978988746        0.0              9                   1   \n",
       "\n",
       "   Origin Latitude  Origin Longitude  Destination Latitude  \\\n",
       "0       -37.787442        144.980409            -37.799743   \n",
       "1       -37.823056        144.942479            -37.821467   \n",
       "2       -37.861835        144.905716            -37.809547   \n",
       "3       -37.803710        145.011618            -37.807202   \n",
       "4       -38.110916        144.654173            -37.808196   \n",
       "\n",
       "   Destination Longitude  Journey Distance(m) Departure Date Departure Time  \\\n",
       "0             144.972465               1964.0     2018-07-09       19:45:26   \n",
       "1             144.968992               2749.0     2018-04-18       14:28:41   \n",
       "2             144.939497              10738.0     2018-03-08       12:27:38   \n",
       "3             145.026637               1390.0     2018-01-11       17:06:44   \n",
       "4             144.973306              44547.0     2018-03-22       01:36:27   \n",
       "\n",
       "   Travel Time(s) Arrival Time  Fare$  \n",
       "0          495.96     19:53:41   7.05  \n",
       "1          691.38     14:40:12  67.09  \n",
       "2         3475.92     13:25:33  19.51  \n",
       "3          368.88     17:12:52   6.33  \n",
       "4        10764.84      4:35:51  26.50  "
      ]
     },
     "execution_count": 46,
     "metadata": {},
     "output_type": "execute_result"
    }
   ],
   "source": [
    "df_missing_values.head()"
   ]
  },
  {
   "cell_type": "markdown",
   "metadata": {},
   "source": [
    "Now from the above information of the dataset we can see that we dont have any null values on the dataset. Hence all the null values are handeled in the best possible manner."
   ]
  },
  {
   "cell_type": "code",
   "execution_count": 47,
   "metadata": {},
   "outputs": [],
   "source": [
    "df_missing_values.to_csv('29996368.missing_value_solution.csv')"
   ]
  },
  {
   "cell_type": "markdown",
   "metadata": {},
   "source": [
    "# Task 3: Finding Outliers and removing them\n"
   ]
  },
  {
   "cell_type": "markdown",
   "metadata": {},
   "source": [
    "In this task we have to remove the outliers from the data which is present in the outliers file. "
   ]
  },
  {
   "cell_type": "markdown",
   "metadata": {},
   "source": [
    "For removing the outliers from the data we would use linear regression for predecting the fares of the data. Then we would use the files which are created from the task 1 and task 2 of this assignment and then use this to train the linear regression model. Then we predict the fares on the training data and find the difference in the fares between the predicted fares and the actual fares which is there in the data. After this we find the mean and standard deviation values for each uber types and using this we find the outliers"
   ]
  },
  {
   "cell_type": "markdown",
   "metadata": {},
   "source": [
    "Our first step in this task is to import all the required libraries for this task."
   ]
  },
  {
   "cell_type": "code",
   "execution_count": 48,
   "metadata": {},
   "outputs": [],
   "source": [
    "import pandas as pd\n",
    "import numpy as np\n",
    "import seaborn as snb\n",
    "import re"
   ]
  },
  {
   "cell_type": "markdown",
   "metadata": {},
   "source": [
    "Now the next step which we do is to load all the data data which is the solution of the dirty_data and the missing values with corrected uber type values only."
   ]
  },
  {
   "cell_type": "code",
   "execution_count": 49,
   "metadata": {},
   "outputs": [],
   "source": [
    "df_missing_cleaned = pd.read_csv('29996368_missing_UberType_cleaned.csv')\n",
    "df_dirty_cleaned = pd.read_csv('29996368_dirty_data_solution.csv')"
   ]
  },
  {
   "cell_type": "markdown",
   "metadata": {},
   "source": [
    "Now our third step would be to import the outliers file which is given for the assignment"
   ]
  },
  {
   "cell_type": "code",
   "execution_count": 50,
   "metadata": {},
   "outputs": [],
   "source": [
    "df_outliers = pd.read_csv('29996368_outliers.csv')"
   ]
  },
  {
   "cell_type": "code",
   "execution_count": 51,
   "metadata": {},
   "outputs": [],
   "source": [
    "df_dirty_missing = pd.concat([df_dirty_cleaned.reset_index(drop = True),df_missing_cleaned])"
   ]
  },
  {
   "cell_type": "markdown",
   "metadata": {},
   "source": [
    "## Training a Linear Regression model"
   ]
  },
  {
   "cell_type": "markdown",
   "metadata": {},
   "source": [
    "Now we use the new created dataframe for training a linear regression model"
   ]
  },
  {
   "cell_type": "markdown",
   "metadata": {},
   "source": [
    "### Finding Fare Residuals for the data which is obtained from previous tasks"
   ]
  },
  {
   "cell_type": "markdown",
   "metadata": {},
   "source": [
    "Now we have to find wether each uber ride is happening during the weekday or during a weekend. This can be found out from the departure date"
   ]
  },
  {
   "cell_type": "code",
   "execution_count": 52,
   "metadata": {},
   "outputs": [
    {
     "data": {
      "text/html": [
       "<div>\n",
       "<style scoped>\n",
       "    .dataframe tbody tr th:only-of-type {\n",
       "        vertical-align: middle;\n",
       "    }\n",
       "\n",
       "    .dataframe tbody tr th {\n",
       "        vertical-align: top;\n",
       "    }\n",
       "\n",
       "    .dataframe thead th {\n",
       "        text-align: right;\n",
       "    }\n",
       "</style>\n",
       "<table border=\"1\" class=\"dataframe\">\n",
       "  <thead>\n",
       "    <tr style=\"text-align: right;\">\n",
       "      <th></th>\n",
       "      <th>Unnamed: 0</th>\n",
       "      <th>Unnamed: 0.1</th>\n",
       "      <th>Uber Type</th>\n",
       "      <th>Origin Region</th>\n",
       "      <th>Destination Region</th>\n",
       "      <th>Origin Latitude</th>\n",
       "      <th>Origin Longitude</th>\n",
       "      <th>Destination Latitude</th>\n",
       "      <th>Destination Longitude</th>\n",
       "      <th>Journey Distance(m)</th>\n",
       "      <th>Departure Date</th>\n",
       "      <th>Departure Time</th>\n",
       "      <th>Travel Time(s)</th>\n",
       "      <th>Arrival Time</th>\n",
       "      <th>Fare$</th>\n",
       "    </tr>\n",
       "  </thead>\n",
       "  <tbody>\n",
       "    <tr>\n",
       "      <th>0</th>\n",
       "      <td>0</td>\n",
       "      <td>ID3926512548</td>\n",
       "      <td>1.0</td>\n",
       "      <td>7</td>\n",
       "      <td>2</td>\n",
       "      <td>-37.861835</td>\n",
       "      <td>144.905716</td>\n",
       "      <td>-37.824373</td>\n",
       "      <td>144.952511</td>\n",
       "      <td>8304.0</td>\n",
       "      <td>2018-02-03</td>\n",
       "      <td>17:12:43</td>\n",
       "      <td>2929.02</td>\n",
       "      <td>18:1:33</td>\n",
       "      <td>27.66</td>\n",
       "    </tr>\n",
       "    <tr>\n",
       "      <th>1</th>\n",
       "      <td>1</td>\n",
       "      <td>ID5632779567</td>\n",
       "      <td>2.0</td>\n",
       "      <td>2</td>\n",
       "      <td>1</td>\n",
       "      <td>-37.823915</td>\n",
       "      <td>144.929916</td>\n",
       "      <td>-37.813703</td>\n",
       "      <td>144.953459</td>\n",
       "      <td>3408.0</td>\n",
       "      <td>2018-01-04</td>\n",
       "      <td>19:12:05</td>\n",
       "      <td>881.64</td>\n",
       "      <td>19:26:47</td>\n",
       "      <td>106.43</td>\n",
       "    </tr>\n",
       "    <tr>\n",
       "      <th>2</th>\n",
       "      <td>2</td>\n",
       "      <td>ID1815008795</td>\n",
       "      <td>0.0</td>\n",
       "      <td>1</td>\n",
       "      <td>9</td>\n",
       "      <td>-37.812248</td>\n",
       "      <td>144.957594</td>\n",
       "      <td>-38.110916</td>\n",
       "      <td>144.654173</td>\n",
       "      <td>43128.0</td>\n",
       "      <td>2018-06-24</td>\n",
       "      <td>12:22:20</td>\n",
       "      <td>10438.14</td>\n",
       "      <td>15:16:19</td>\n",
       "      <td>19.93</td>\n",
       "    </tr>\n",
       "    <tr>\n",
       "      <th>3</th>\n",
       "      <td>3</td>\n",
       "      <td>ID5666968193</td>\n",
       "      <td>2.0</td>\n",
       "      <td>5</td>\n",
       "      <td>9</td>\n",
       "      <td>-37.804927</td>\n",
       "      <td>144.939491</td>\n",
       "      <td>-38.110916</td>\n",
       "      <td>144.654173</td>\n",
       "      <td>43455.0</td>\n",
       "      <td>2018-01-20</td>\n",
       "      <td>17:27:50</td>\n",
       "      <td>10437.48</td>\n",
       "      <td>20:21:48</td>\n",
       "      <td>1031.39</td>\n",
       "    </tr>\n",
       "    <tr>\n",
       "      <th>4</th>\n",
       "      <td>4</td>\n",
       "      <td>ID3141351739</td>\n",
       "      <td>1.0</td>\n",
       "      <td>2</td>\n",
       "      <td>7</td>\n",
       "      <td>-37.812067</td>\n",
       "      <td>144.938196</td>\n",
       "      <td>-37.861835</td>\n",
       "      <td>144.905716</td>\n",
       "      <td>10817.0</td>\n",
       "      <td>2018-01-16</td>\n",
       "      <td>17:22:34</td>\n",
       "      <td>3501.60</td>\n",
       "      <td>18:20:56</td>\n",
       "      <td>24.35</td>\n",
       "    </tr>\n",
       "  </tbody>\n",
       "</table>\n",
       "</div>"
      ],
      "text/plain": [
       "   Unnamed: 0  Unnamed: 0.1  Uber Type  Origin Region  Destination Region  \\\n",
       "0           0  ID3926512548        1.0              7                   2   \n",
       "1           1  ID5632779567        2.0              2                   1   \n",
       "2           2  ID1815008795        0.0              1                   9   \n",
       "3           3  ID5666968193        2.0              5                   9   \n",
       "4           4  ID3141351739        1.0              2                   7   \n",
       "\n",
       "   Origin Latitude  Origin Longitude  Destination Latitude  \\\n",
       "0       -37.861835        144.905716            -37.824373   \n",
       "1       -37.823915        144.929916            -37.813703   \n",
       "2       -37.812248        144.957594            -38.110916   \n",
       "3       -37.804927        144.939491            -38.110916   \n",
       "4       -37.812067        144.938196            -37.861835   \n",
       "\n",
       "   Destination Longitude  Journey Distance(m) Departure Date Departure Time  \\\n",
       "0             144.952511               8304.0     2018-02-03       17:12:43   \n",
       "1             144.953459               3408.0     2018-01-04       19:12:05   \n",
       "2             144.654173              43128.0     2018-06-24       12:22:20   \n",
       "3             144.654173              43455.0     2018-01-20       17:27:50   \n",
       "4             144.905716              10817.0     2018-01-16       17:22:34   \n",
       "\n",
       "   Travel Time(s) Arrival Time    Fare$  \n",
       "0         2929.02      18:1:33    27.66  \n",
       "1          881.64     19:26:47   106.43  \n",
       "2        10438.14     15:16:19    19.93  \n",
       "3        10437.48     20:21:48  1031.39  \n",
       "4         3501.60     18:20:56    24.35  "
      ]
     },
     "execution_count": 52,
     "metadata": {},
     "output_type": "execute_result"
    }
   ],
   "source": [
    "df_dirty_missing.head()"
   ]
  },
  {
   "cell_type": "code",
   "execution_count": 53,
   "metadata": {},
   "outputs": [],
   "source": [
    "df_dirty_missing.reset_index(inplace=True)"
   ]
  },
  {
   "cell_type": "code",
   "execution_count": 54,
   "metadata": {},
   "outputs": [],
   "source": [
    "import datetime\n",
    "day =[]\n",
    "for i in df_dirty_missing.index:\n",
    "    datei = df_dirty_missing['Departure Date'][i]\n",
    "    dayi = datetime.datetime.strptime(datei, '%Y-%m-%d').weekday()\n",
    "    if dayi<5:\n",
    "        day.append(0)\n",
    "    else:\n",
    "        day.append(1)"
   ]
  },
  {
   "cell_type": "code",
   "execution_count": 55,
   "metadata": {},
   "outputs": [],
   "source": [
    "df_dirty_missing['day_of_week'] = day"
   ]
  },
  {
   "cell_type": "markdown",
   "metadata": {},
   "source": [
    "Now similarly for each uber ride we find the time of the ride and then classify it accordingly into morning, evening and night rides. These parameters would help in training a model for linear regression"
   ]
  },
  {
   "cell_type": "code",
   "execution_count": 56,
   "metadata": {},
   "outputs": [],
   "source": [
    "time_of_day = []\n",
    "for i in df_dirty_missing.index:\n",
    "    departure_time_split = df_dirty_missing['Departure Time'][i].split(\":\")\n",
    "    departure_time = int(departure_time_split[0])\n",
    "    if 6<=departure_time<=11:\n",
    "        time_of_day.append(0)\n",
    "    elif 12<=departure_time<=20:\n",
    "        time_of_day.append(1)\n",
    "    else:\n",
    "        time_of_day.append(2)"
   ]
  },
  {
   "cell_type": "code",
   "execution_count": 57,
   "metadata": {},
   "outputs": [],
   "source": [
    "df_dirty_missing['time_of_day'] = time_of_day"
   ]
  },
  {
   "cell_type": "code",
   "execution_count": 58,
   "metadata": {},
   "outputs": [
    {
     "data": {
      "text/html": [
       "<div>\n",
       "<style scoped>\n",
       "    .dataframe tbody tr th:only-of-type {\n",
       "        vertical-align: middle;\n",
       "    }\n",
       "\n",
       "    .dataframe tbody tr th {\n",
       "        vertical-align: top;\n",
       "    }\n",
       "\n",
       "    .dataframe thead th {\n",
       "        text-align: right;\n",
       "    }\n",
       "</style>\n",
       "<table border=\"1\" class=\"dataframe\">\n",
       "  <thead>\n",
       "    <tr style=\"text-align: right;\">\n",
       "      <th></th>\n",
       "      <th>index</th>\n",
       "      <th>Unnamed: 0</th>\n",
       "      <th>Unnamed: 0.1</th>\n",
       "      <th>Uber Type</th>\n",
       "      <th>Origin Region</th>\n",
       "      <th>Destination Region</th>\n",
       "      <th>Origin Latitude</th>\n",
       "      <th>Origin Longitude</th>\n",
       "      <th>Destination Latitude</th>\n",
       "      <th>Destination Longitude</th>\n",
       "      <th>Journey Distance(m)</th>\n",
       "      <th>Departure Date</th>\n",
       "      <th>Departure Time</th>\n",
       "      <th>Travel Time(s)</th>\n",
       "      <th>Arrival Time</th>\n",
       "      <th>Fare$</th>\n",
       "      <th>day_of_week</th>\n",
       "      <th>time_of_day</th>\n",
       "    </tr>\n",
       "  </thead>\n",
       "  <tbody>\n",
       "    <tr>\n",
       "      <th>0</th>\n",
       "      <td>0</td>\n",
       "      <td>0</td>\n",
       "      <td>ID3926512548</td>\n",
       "      <td>1.0</td>\n",
       "      <td>7</td>\n",
       "      <td>2</td>\n",
       "      <td>-37.861835</td>\n",
       "      <td>144.905716</td>\n",
       "      <td>-37.824373</td>\n",
       "      <td>144.952511</td>\n",
       "      <td>8304.0</td>\n",
       "      <td>2018-02-03</td>\n",
       "      <td>17:12:43</td>\n",
       "      <td>2929.02</td>\n",
       "      <td>18:1:33</td>\n",
       "      <td>27.66</td>\n",
       "      <td>1</td>\n",
       "      <td>1</td>\n",
       "    </tr>\n",
       "    <tr>\n",
       "      <th>1</th>\n",
       "      <td>1</td>\n",
       "      <td>1</td>\n",
       "      <td>ID5632779567</td>\n",
       "      <td>2.0</td>\n",
       "      <td>2</td>\n",
       "      <td>1</td>\n",
       "      <td>-37.823915</td>\n",
       "      <td>144.929916</td>\n",
       "      <td>-37.813703</td>\n",
       "      <td>144.953459</td>\n",
       "      <td>3408.0</td>\n",
       "      <td>2018-01-04</td>\n",
       "      <td>19:12:05</td>\n",
       "      <td>881.64</td>\n",
       "      <td>19:26:47</td>\n",
       "      <td>106.43</td>\n",
       "      <td>0</td>\n",
       "      <td>1</td>\n",
       "    </tr>\n",
       "    <tr>\n",
       "      <th>2</th>\n",
       "      <td>2</td>\n",
       "      <td>2</td>\n",
       "      <td>ID1815008795</td>\n",
       "      <td>0.0</td>\n",
       "      <td>1</td>\n",
       "      <td>9</td>\n",
       "      <td>-37.812248</td>\n",
       "      <td>144.957594</td>\n",
       "      <td>-38.110916</td>\n",
       "      <td>144.654173</td>\n",
       "      <td>43128.0</td>\n",
       "      <td>2018-06-24</td>\n",
       "      <td>12:22:20</td>\n",
       "      <td>10438.14</td>\n",
       "      <td>15:16:19</td>\n",
       "      <td>19.93</td>\n",
       "      <td>1</td>\n",
       "      <td>1</td>\n",
       "    </tr>\n",
       "    <tr>\n",
       "      <th>3</th>\n",
       "      <td>3</td>\n",
       "      <td>3</td>\n",
       "      <td>ID5666968193</td>\n",
       "      <td>2.0</td>\n",
       "      <td>5</td>\n",
       "      <td>9</td>\n",
       "      <td>-37.804927</td>\n",
       "      <td>144.939491</td>\n",
       "      <td>-38.110916</td>\n",
       "      <td>144.654173</td>\n",
       "      <td>43455.0</td>\n",
       "      <td>2018-01-20</td>\n",
       "      <td>17:27:50</td>\n",
       "      <td>10437.48</td>\n",
       "      <td>20:21:48</td>\n",
       "      <td>1031.39</td>\n",
       "      <td>1</td>\n",
       "      <td>1</td>\n",
       "    </tr>\n",
       "    <tr>\n",
       "      <th>4</th>\n",
       "      <td>4</td>\n",
       "      <td>4</td>\n",
       "      <td>ID3141351739</td>\n",
       "      <td>1.0</td>\n",
       "      <td>2</td>\n",
       "      <td>7</td>\n",
       "      <td>-37.812067</td>\n",
       "      <td>144.938196</td>\n",
       "      <td>-37.861835</td>\n",
       "      <td>144.905716</td>\n",
       "      <td>10817.0</td>\n",
       "      <td>2018-01-16</td>\n",
       "      <td>17:22:34</td>\n",
       "      <td>3501.60</td>\n",
       "      <td>18:20:56</td>\n",
       "      <td>24.35</td>\n",
       "      <td>0</td>\n",
       "      <td>1</td>\n",
       "    </tr>\n",
       "  </tbody>\n",
       "</table>\n",
       "</div>"
      ],
      "text/plain": [
       "   index  Unnamed: 0  Unnamed: 0.1  Uber Type  Origin Region  \\\n",
       "0      0           0  ID3926512548        1.0              7   \n",
       "1      1           1  ID5632779567        2.0              2   \n",
       "2      2           2  ID1815008795        0.0              1   \n",
       "3      3           3  ID5666968193        2.0              5   \n",
       "4      4           4  ID3141351739        1.0              2   \n",
       "\n",
       "   Destination Region  Origin Latitude  Origin Longitude  \\\n",
       "0                   2       -37.861835        144.905716   \n",
       "1                   1       -37.823915        144.929916   \n",
       "2                   9       -37.812248        144.957594   \n",
       "3                   9       -37.804927        144.939491   \n",
       "4                   7       -37.812067        144.938196   \n",
       "\n",
       "   Destination Latitude  Destination Longitude  Journey Distance(m)  \\\n",
       "0            -37.824373             144.952511               8304.0   \n",
       "1            -37.813703             144.953459               3408.0   \n",
       "2            -38.110916             144.654173              43128.0   \n",
       "3            -38.110916             144.654173              43455.0   \n",
       "4            -37.861835             144.905716              10817.0   \n",
       "\n",
       "  Departure Date Departure Time  Travel Time(s) Arrival Time    Fare$  \\\n",
       "0     2018-02-03       17:12:43         2929.02      18:1:33    27.66   \n",
       "1     2018-01-04       19:12:05          881.64     19:26:47   106.43   \n",
       "2     2018-06-24       12:22:20        10438.14     15:16:19    19.93   \n",
       "3     2018-01-20       17:27:50        10437.48     20:21:48  1031.39   \n",
       "4     2018-01-16       17:22:34         3501.60     18:20:56    24.35   \n",
       "\n",
       "   day_of_week  time_of_day  \n",
       "0            1            1  \n",
       "1            0            1  \n",
       "2            1            1  \n",
       "3            1            1  \n",
       "4            0            1  "
      ]
     },
     "execution_count": 58,
     "metadata": {},
     "output_type": "execute_result"
    }
   ],
   "source": [
    "df_dirty_missing.head()"
   ]
  },
  {
   "cell_type": "markdown",
   "metadata": {},
   "source": [
    "Now we have to predict the fares for the data which is taken after wrangling the dirty_data and missing_data files."
   ]
  },
  {
   "cell_type": "code",
   "execution_count": 59,
   "metadata": {},
   "outputs": [],
   "source": [
    "df_dirty_missing['Fare_Predicted'] = np.nan"
   ]
  },
  {
   "cell_type": "code",
   "execution_count": 60,
   "metadata": {},
   "outputs": [],
   "source": [
    "train_data = df_dirty_missing"
   ]
  },
  {
   "cell_type": "code",
   "execution_count": 61,
   "metadata": {},
   "outputs": [],
   "source": [
    "train_data = train_data[['Uber Type', 'Journey Distance(m)','Travel Time(s)','day_of_week','time_of_day','Fare$']]"
   ]
  },
  {
   "cell_type": "code",
   "execution_count": 62,
   "metadata": {},
   "outputs": [],
   "source": [
    "from sklearn.linear_model import LinearRegression"
   ]
  },
  {
   "cell_type": "code",
   "execution_count": 63,
   "metadata": {},
   "outputs": [],
   "source": [
    "test_data = df_dirty_missing"
   ]
  },
  {
   "cell_type": "markdown",
   "metadata": {},
   "source": [
    "Now we train a model and then predict the fare values for the data."
   ]
  },
  {
   "cell_type": "code",
   "execution_count": 64,
   "metadata": {},
   "outputs": [],
   "source": [
    "from sklearn.model_selection import train_test_split\n",
    "predectionsall = []\n",
    "\n",
    "for i in range(3):\n",
    "    train_data_i = train_data[train_data['Uber Type'] == i]\n",
    "    test_data_i = test_data[test_data['Uber Type'] == i]\n",
    "    X = train_data_i[train_data_i.columns[0:5]]\n",
    "    y = train_data_i['Fare$']\n",
    "    Xtrain = X\n",
    "    ytrain = y\n",
    "    Xtest = test_data_i[['Uber Type','Journey Distance(m)','Travel Time(s)','day_of_week','time_of_day']]\n",
    "    lm_full = LinearRegression()\n",
    "    lm_full.fit(Xtrain,ytrain)\n",
    "    predections = lm_full.predict(Xtest)\n",
    "    predectionsall.append(list(predections))\n",
    "\n"
   ]
  },
  {
   "cell_type": "code",
   "execution_count": 65,
   "metadata": {},
   "outputs": [
    {
     "name": "stderr",
     "output_type": "stream",
     "text": [
      "/anaconda3/lib/python3.6/site-packages/ipykernel_launcher.py:9: SettingWithCopyWarning: \n",
      "A value is trying to be set on a copy of a slice from a DataFrame\n",
      "\n",
      "See the caveats in the documentation: http://pandas.pydata.org/pandas-docs/stable/indexing.html#indexing-view-versus-copy\n",
      "  if __name__ == '__main__':\n",
      "/anaconda3/lib/python3.6/site-packages/ipykernel_launcher.py:12: SettingWithCopyWarning: \n",
      "A value is trying to be set on a copy of a slice from a DataFrame\n",
      "\n",
      "See the caveats in the documentation: http://pandas.pydata.org/pandas-docs/stable/indexing.html#indexing-view-versus-copy\n",
      "  if sys.path[0] == '':\n",
      "/anaconda3/lib/python3.6/site-packages/ipykernel_launcher.py:6: SettingWithCopyWarning: \n",
      "A value is trying to be set on a copy of a slice from a DataFrame\n",
      "\n",
      "See the caveats in the documentation: http://pandas.pydata.org/pandas-docs/stable/indexing.html#indexing-view-versus-copy\n",
      "  \n"
     ]
    }
   ],
   "source": [
    "zero_type = 0\n",
    "one_type = 0\n",
    "two_type = 0\n",
    "for i in df_dirty_missing.index:\n",
    "    if df_dirty_missing['Uber Type'][i] == 0:\n",
    "        df_dirty_missing['Fare_Predicted'][i] = predectionsall[0][zero_type]\n",
    "        zero_type+=1\n",
    "    if df_dirty_missing['Uber Type'][i] == 1:\n",
    "        df_dirty_missing['Fare_Predicted'][i] = predectionsall[1][one_type]\n",
    "        one_type+=1\n",
    "    if df_dirty_missing['Uber Type'][i] == 2:\n",
    "        df_dirty_missing['Fare_Predicted'][i] = predectionsall[2][two_type]\n",
    "        two_type+=1"
   ]
  },
  {
   "cell_type": "markdown",
   "metadata": {},
   "source": [
    "Now we find the difference between the predicted fare and the actual fare and then take the absolute value of this. This is the fare residual value."
   ]
  },
  {
   "cell_type": "code",
   "execution_count": 66,
   "metadata": {},
   "outputs": [],
   "source": [
    "df_dirty_missing['Fare_Difference'] = np.nan"
   ]
  },
  {
   "cell_type": "code",
   "execution_count": 67,
   "metadata": {},
   "outputs": [
    {
     "name": "stderr",
     "output_type": "stream",
     "text": [
      "/anaconda3/lib/python3.6/site-packages/ipykernel_launcher.py:2: SettingWithCopyWarning: \n",
      "A value is trying to be set on a copy of a slice from a DataFrame\n",
      "\n",
      "See the caveats in the documentation: http://pandas.pydata.org/pandas-docs/stable/indexing.html#indexing-view-versus-copy\n",
      "  \n"
     ]
    }
   ],
   "source": [
    "for i in df_dirty_missing.index:\n",
    "    df_dirty_missing['Fare_Difference'][i] = abs(df_dirty_missing['Fare_Predicted'][i]-df_dirty_missing['Fare$'][i])"
   ]
  },
  {
   "cell_type": "code",
   "execution_count": 68,
   "metadata": {},
   "outputs": [
    {
     "data": {
      "text/html": [
       "<div>\n",
       "<style scoped>\n",
       "    .dataframe tbody tr th:only-of-type {\n",
       "        vertical-align: middle;\n",
       "    }\n",
       "\n",
       "    .dataframe tbody tr th {\n",
       "        vertical-align: top;\n",
       "    }\n",
       "\n",
       "    .dataframe thead th {\n",
       "        text-align: right;\n",
       "    }\n",
       "</style>\n",
       "<table border=\"1\" class=\"dataframe\">\n",
       "  <thead>\n",
       "    <tr style=\"text-align: right;\">\n",
       "      <th></th>\n",
       "      <th>index</th>\n",
       "      <th>Unnamed: 0</th>\n",
       "      <th>Unnamed: 0.1</th>\n",
       "      <th>Uber Type</th>\n",
       "      <th>Origin Region</th>\n",
       "      <th>Destination Region</th>\n",
       "      <th>Origin Latitude</th>\n",
       "      <th>Origin Longitude</th>\n",
       "      <th>Destination Latitude</th>\n",
       "      <th>Destination Longitude</th>\n",
       "      <th>Journey Distance(m)</th>\n",
       "      <th>Departure Date</th>\n",
       "      <th>Departure Time</th>\n",
       "      <th>Travel Time(s)</th>\n",
       "      <th>Arrival Time</th>\n",
       "      <th>Fare$</th>\n",
       "      <th>day_of_week</th>\n",
       "      <th>time_of_day</th>\n",
       "      <th>Fare_Predicted</th>\n",
       "      <th>Fare_Difference</th>\n",
       "    </tr>\n",
       "  </thead>\n",
       "  <tbody>\n",
       "    <tr>\n",
       "      <th>0</th>\n",
       "      <td>0</td>\n",
       "      <td>0</td>\n",
       "      <td>ID3926512548</td>\n",
       "      <td>1.0</td>\n",
       "      <td>7</td>\n",
       "      <td>2</td>\n",
       "      <td>-37.861835</td>\n",
       "      <td>144.905716</td>\n",
       "      <td>-37.824373</td>\n",
       "      <td>144.952511</td>\n",
       "      <td>8304.0</td>\n",
       "      <td>2018-02-03</td>\n",
       "      <td>17:12:43</td>\n",
       "      <td>2929.02</td>\n",
       "      <td>18:1:33</td>\n",
       "      <td>27.66</td>\n",
       "      <td>1</td>\n",
       "      <td>1</td>\n",
       "      <td>25.724972</td>\n",
       "      <td>1.935028</td>\n",
       "    </tr>\n",
       "    <tr>\n",
       "      <th>1</th>\n",
       "      <td>1</td>\n",
       "      <td>1</td>\n",
       "      <td>ID5632779567</td>\n",
       "      <td>2.0</td>\n",
       "      <td>2</td>\n",
       "      <td>1</td>\n",
       "      <td>-37.823915</td>\n",
       "      <td>144.929916</td>\n",
       "      <td>-37.813703</td>\n",
       "      <td>144.953459</td>\n",
       "      <td>3408.0</td>\n",
       "      <td>2018-01-04</td>\n",
       "      <td>19:12:05</td>\n",
       "      <td>881.64</td>\n",
       "      <td>19:26:47</td>\n",
       "      <td>106.43</td>\n",
       "      <td>0</td>\n",
       "      <td>1</td>\n",
       "      <td>126.811311</td>\n",
       "      <td>20.381311</td>\n",
       "    </tr>\n",
       "    <tr>\n",
       "      <th>2</th>\n",
       "      <td>2</td>\n",
       "      <td>2</td>\n",
       "      <td>ID1815008795</td>\n",
       "      <td>0.0</td>\n",
       "      <td>1</td>\n",
       "      <td>9</td>\n",
       "      <td>-37.812248</td>\n",
       "      <td>144.957594</td>\n",
       "      <td>-38.110916</td>\n",
       "      <td>144.654173</td>\n",
       "      <td>43128.0</td>\n",
       "      <td>2018-06-24</td>\n",
       "      <td>12:22:20</td>\n",
       "      <td>10438.14</td>\n",
       "      <td>15:16:19</td>\n",
       "      <td>19.93</td>\n",
       "      <td>1</td>\n",
       "      <td>1</td>\n",
       "      <td>22.473279</td>\n",
       "      <td>2.543279</td>\n",
       "    </tr>\n",
       "    <tr>\n",
       "      <th>3</th>\n",
       "      <td>3</td>\n",
       "      <td>3</td>\n",
       "      <td>ID5666968193</td>\n",
       "      <td>2.0</td>\n",
       "      <td>5</td>\n",
       "      <td>9</td>\n",
       "      <td>-37.804927</td>\n",
       "      <td>144.939491</td>\n",
       "      <td>-38.110916</td>\n",
       "      <td>144.654173</td>\n",
       "      <td>43455.0</td>\n",
       "      <td>2018-01-20</td>\n",
       "      <td>17:27:50</td>\n",
       "      <td>10437.48</td>\n",
       "      <td>20:21:48</td>\n",
       "      <td>1031.39</td>\n",
       "      <td>1</td>\n",
       "      <td>1</td>\n",
       "      <td>959.122240</td>\n",
       "      <td>72.267760</td>\n",
       "    </tr>\n",
       "    <tr>\n",
       "      <th>4</th>\n",
       "      <td>4</td>\n",
       "      <td>4</td>\n",
       "      <td>ID3141351739</td>\n",
       "      <td>1.0</td>\n",
       "      <td>2</td>\n",
       "      <td>7</td>\n",
       "      <td>-37.812067</td>\n",
       "      <td>144.938196</td>\n",
       "      <td>-37.861835</td>\n",
       "      <td>144.905716</td>\n",
       "      <td>10817.0</td>\n",
       "      <td>2018-01-16</td>\n",
       "      <td>17:22:34</td>\n",
       "      <td>3501.60</td>\n",
       "      <td>18:20:56</td>\n",
       "      <td>24.35</td>\n",
       "      <td>0</td>\n",
       "      <td>1</td>\n",
       "      <td>24.114952</td>\n",
       "      <td>0.235048</td>\n",
       "    </tr>\n",
       "  </tbody>\n",
       "</table>\n",
       "</div>"
      ],
      "text/plain": [
       "   index  Unnamed: 0  Unnamed: 0.1  Uber Type  Origin Region  \\\n",
       "0      0           0  ID3926512548        1.0              7   \n",
       "1      1           1  ID5632779567        2.0              2   \n",
       "2      2           2  ID1815008795        0.0              1   \n",
       "3      3           3  ID5666968193        2.0              5   \n",
       "4      4           4  ID3141351739        1.0              2   \n",
       "\n",
       "   Destination Region  Origin Latitude  Origin Longitude  \\\n",
       "0                   2       -37.861835        144.905716   \n",
       "1                   1       -37.823915        144.929916   \n",
       "2                   9       -37.812248        144.957594   \n",
       "3                   9       -37.804927        144.939491   \n",
       "4                   7       -37.812067        144.938196   \n",
       "\n",
       "   Destination Latitude  Destination Longitude  Journey Distance(m)  \\\n",
       "0            -37.824373             144.952511               8304.0   \n",
       "1            -37.813703             144.953459               3408.0   \n",
       "2            -38.110916             144.654173              43128.0   \n",
       "3            -38.110916             144.654173              43455.0   \n",
       "4            -37.861835             144.905716              10817.0   \n",
       "\n",
       "  Departure Date Departure Time  Travel Time(s) Arrival Time    Fare$  \\\n",
       "0     2018-02-03       17:12:43         2929.02      18:1:33    27.66   \n",
       "1     2018-01-04       19:12:05          881.64     19:26:47   106.43   \n",
       "2     2018-06-24       12:22:20        10438.14     15:16:19    19.93   \n",
       "3     2018-01-20       17:27:50        10437.48     20:21:48  1031.39   \n",
       "4     2018-01-16       17:22:34         3501.60     18:20:56    24.35   \n",
       "\n",
       "   day_of_week  time_of_day  Fare_Predicted  Fare_Difference  \n",
       "0            1            1       25.724972         1.935028  \n",
       "1            0            1      126.811311        20.381311  \n",
       "2            1            1       22.473279         2.543279  \n",
       "3            1            1      959.122240        72.267760  \n",
       "4            0            1       24.114952         0.235048  "
      ]
     },
     "execution_count": 68,
     "metadata": {},
     "output_type": "execute_result"
    }
   ],
   "source": [
    "df_dirty_missing.head()"
   ]
  },
  {
   "cell_type": "markdown",
   "metadata": {},
   "source": [
    "## Finding the threshold values which would help us in finding the outliers"
   ]
  },
  {
   "cell_type": "markdown",
   "metadata": {},
   "source": [
    "Now we find the mean and standard deviation of the fare residual values based on the uber type."
   ]
  },
  {
   "cell_type": "code",
   "execution_count": 69,
   "metadata": {},
   "outputs": [],
   "source": [
    "mean_0= np.mean(df_dirty_missing[df_dirty_missing['Uber Type']==0]['Fare_Difference'])\n",
    "mean_1= np.mean(df_dirty_missing[df_dirty_missing['Uber Type']==1]['Fare_Difference'])\n",
    "mean_2= np.mean(df_dirty_missing[df_dirty_missing['Uber Type']==2]['Fare_Difference'])\n",
    "sd_0=   np.std(df_dirty_missing[df_dirty_missing['Uber Type']==0]['Fare_Difference'])\n",
    "sd_1=   np.std(df_dirty_missing[df_dirty_missing['Uber Type']==1]['Fare_Difference'])\n",
    "sd_2=   np.std(df_dirty_missing[df_dirty_missing['Uber Type']==2]['Fare_Difference'])"
   ]
  },
  {
   "cell_type": "markdown",
   "metadata": {},
   "source": [
    "Now that we have the mean and standard deviation of the fare residuals based on the Uber type, we can tell that is a fare is within the 3 standard deviations then it could be a possibly correct value. However if it is not in this range then we can consider as an outlier. "
   ]
  },
  {
   "cell_type": "markdown",
   "metadata": {},
   "source": [
    "Hence we find the lower and upper limit threshold of the fare for each uber type. Now if a predicted fare is within this range then it can be considered as a possibly correct value and if it is out of this range then it could be a incorrect value."
   ]
  },
  {
   "cell_type": "code",
   "execution_count": 70,
   "metadata": {},
   "outputs": [],
   "source": [
    "lower_0 = mean_0 - (3 * sd_0)\n",
    "upper_0 = mean_0 + (3 * sd_0)\n",
    "lower_1 = mean_1 - (3 * sd_1)\n",
    "upper_1 = mean_1 + (3 * sd_1)\n",
    "lower_2 = mean_2 - (3 * sd_2)\n",
    "upper_2 = mean_2 + (3 * sd_2)"
   ]
  },
  {
   "cell_type": "markdown",
   "metadata": {},
   "source": [
    "## Finding the Fare residuals for the outliers dataset"
   ]
  },
  {
   "cell_type": "markdown",
   "metadata": {},
   "source": [
    "Now we have to predict the fares and find the residual for the outliers dataset whic we have. This dataset is the outliers file which is given for task 3 of the assignment"
   ]
  },
  {
   "cell_type": "markdown",
   "metadata": {},
   "source": [
    "In a similar way we have done for the previous dataset we perform the same steps to get the time_of_day, day_of_week, predicted fare and the fare_difference values."
   ]
  },
  {
   "cell_type": "markdown",
   "metadata": {},
   "source": [
    "This part of the code is to find the day of the week for the values in outliers dataset. This finds wether the ride was taken on a weekday or weekend."
   ]
  },
  {
   "cell_type": "code",
   "execution_count": 71,
   "metadata": {},
   "outputs": [],
   "source": [
    "import datetime\n",
    "day =[]\n",
    "for i in df_outliers.index:\n",
    "    datei = df_outliers['Departure Date'][i]\n",
    "    dayi = datetime.datetime.strptime(datei, '%Y-%m-%d').weekday()\n",
    "    if dayi<5:\n",
    "        day.append(0)\n",
    "    else:\n",
    "        day.append(1)"
   ]
  },
  {
   "cell_type": "code",
   "execution_count": 72,
   "metadata": {},
   "outputs": [],
   "source": [
    "df_outliers['day_of_week'] = day"
   ]
  },
  {
   "cell_type": "markdown",
   "metadata": {},
   "source": [
    "Now similarly we find out what time of the day the ride was taken in and accordingly segregate the rows."
   ]
  },
  {
   "cell_type": "code",
   "execution_count": 73,
   "metadata": {},
   "outputs": [],
   "source": [
    "time_of_day = []\n",
    "for i in df_outliers.index:\n",
    "    departure_time_split = df_outliers['Departure Time'][i].split(\":\")\n",
    "    departure_time = int(departure_time_split[0])\n",
    "    if 6<=departure_time<=11:\n",
    "        time_of_day.append(0)\n",
    "    elif 12<=departure_time<=20:\n",
    "        time_of_day.append(1)\n",
    "    else:\n",
    "        time_of_day.append(2)"
   ]
  },
  {
   "cell_type": "code",
   "execution_count": 74,
   "metadata": {},
   "outputs": [],
   "source": [
    "df_outliers['time_of_day'] = time_of_day"
   ]
  },
  {
   "cell_type": "code",
   "execution_count": 75,
   "metadata": {},
   "outputs": [
    {
     "data": {
      "text/html": [
       "<div>\n",
       "<style scoped>\n",
       "    .dataframe tbody tr th:only-of-type {\n",
       "        vertical-align: middle;\n",
       "    }\n",
       "\n",
       "    .dataframe tbody tr th {\n",
       "        vertical-align: top;\n",
       "    }\n",
       "\n",
       "    .dataframe thead th {\n",
       "        text-align: right;\n",
       "    }\n",
       "</style>\n",
       "<table border=\"1\" class=\"dataframe\">\n",
       "  <thead>\n",
       "    <tr style=\"text-align: right;\">\n",
       "      <th></th>\n",
       "      <th>Unnamed: 0</th>\n",
       "      <th>Unnamed: 0.1</th>\n",
       "      <th>Uber Type</th>\n",
       "      <th>Origin Region</th>\n",
       "      <th>Destination Region</th>\n",
       "      <th>Origin Latitude</th>\n",
       "      <th>Origin Longitude</th>\n",
       "      <th>Destination Latitude</th>\n",
       "      <th>Destination Longitude</th>\n",
       "      <th>Journey Distance(m)</th>\n",
       "      <th>Departure Date</th>\n",
       "      <th>Departure Time</th>\n",
       "      <th>Travel Time(s)</th>\n",
       "      <th>Arrival Time</th>\n",
       "      <th>Fare$</th>\n",
       "      <th>day_of_week</th>\n",
       "      <th>time_of_day</th>\n",
       "    </tr>\n",
       "  </thead>\n",
       "  <tbody>\n",
       "    <tr>\n",
       "      <th>0</th>\n",
       "      <td>0</td>\n",
       "      <td>ID1530894700</td>\n",
       "      <td>0</td>\n",
       "      <td>2</td>\n",
       "      <td>1</td>\n",
       "      <td>-37.818009</td>\n",
       "      <td>144.948597</td>\n",
       "      <td>-37.805406</td>\n",
       "      <td>144.974466</td>\n",
       "      <td>3102.0</td>\n",
       "      <td>2018-04-03</td>\n",
       "      <td>06:38:46</td>\n",
       "      <td>736.32</td>\n",
       "      <td>6:51:02</td>\n",
       "      <td>4.48</td>\n",
       "      <td>0</td>\n",
       "      <td>0</td>\n",
       "    </tr>\n",
       "    <tr>\n",
       "      <th>1</th>\n",
       "      <td>1</td>\n",
       "      <td>ID1778027030</td>\n",
       "      <td>0</td>\n",
       "      <td>5</td>\n",
       "      <td>6</td>\n",
       "      <td>-37.810039</td>\n",
       "      <td>144.904753</td>\n",
       "      <td>-37.787433</td>\n",
       "      <td>144.980377</td>\n",
       "      <td>8639.0</td>\n",
       "      <td>2018-05-13</td>\n",
       "      <td>14:15:10</td>\n",
       "      <td>2352.90</td>\n",
       "      <td>14:54:22</td>\n",
       "      <td>15.68</td>\n",
       "      <td>1</td>\n",
       "      <td>1</td>\n",
       "    </tr>\n",
       "    <tr>\n",
       "      <th>2</th>\n",
       "      <td>2</td>\n",
       "      <td>ID1599873860</td>\n",
       "      <td>0</td>\n",
       "      <td>9</td>\n",
       "      <td>3</td>\n",
       "      <td>-38.110916</td>\n",
       "      <td>144.654173</td>\n",
       "      <td>-37.811763</td>\n",
       "      <td>144.985371</td>\n",
       "      <td>45570.0</td>\n",
       "      <td>2018-06-11</td>\n",
       "      <td>12:48:54</td>\n",
       "      <td>10891.32</td>\n",
       "      <td>15:50:25</td>\n",
       "      <td>19.12</td>\n",
       "      <td>0</td>\n",
       "      <td>1</td>\n",
       "    </tr>\n",
       "    <tr>\n",
       "      <th>3</th>\n",
       "      <td>3</td>\n",
       "      <td>ID3723667905</td>\n",
       "      <td>1</td>\n",
       "      <td>8</td>\n",
       "      <td>4</td>\n",
       "      <td>-37.807202</td>\n",
       "      <td>145.026637</td>\n",
       "      <td>-37.805037</td>\n",
       "      <td>144.992731</td>\n",
       "      <td>3202.0</td>\n",
       "      <td>2018-03-01</td>\n",
       "      <td>02:09:08</td>\n",
       "      <td>824.64</td>\n",
       "      <td>2:22:52</td>\n",
       "      <td>9.11</td>\n",
       "      <td>0</td>\n",
       "      <td>2</td>\n",
       "    </tr>\n",
       "    <tr>\n",
       "      <th>4</th>\n",
       "      <td>4</td>\n",
       "      <td>ID5797495055</td>\n",
       "      <td>2</td>\n",
       "      <td>2</td>\n",
       "      <td>3</td>\n",
       "      <td>-37.818128</td>\n",
       "      <td>144.929477</td>\n",
       "      <td>-37.823244</td>\n",
       "      <td>144.968767</td>\n",
       "      <td>4338.0</td>\n",
       "      <td>2018-07-23</td>\n",
       "      <td>00:42:44</td>\n",
       "      <td>1063.86</td>\n",
       "      <td>1:00:27</td>\n",
       "      <td>112.48</td>\n",
       "      <td>0</td>\n",
       "      <td>2</td>\n",
       "    </tr>\n",
       "  </tbody>\n",
       "</table>\n",
       "</div>"
      ],
      "text/plain": [
       "   Unnamed: 0  Unnamed: 0.1  Uber Type  Origin Region  Destination Region  \\\n",
       "0           0  ID1530894700          0              2                   1   \n",
       "1           1  ID1778027030          0              5                   6   \n",
       "2           2  ID1599873860          0              9                   3   \n",
       "3           3  ID3723667905          1              8                   4   \n",
       "4           4  ID5797495055          2              2                   3   \n",
       "\n",
       "   Origin Latitude  Origin Longitude  Destination Latitude  \\\n",
       "0       -37.818009        144.948597            -37.805406   \n",
       "1       -37.810039        144.904753            -37.787433   \n",
       "2       -38.110916        144.654173            -37.811763   \n",
       "3       -37.807202        145.026637            -37.805037   \n",
       "4       -37.818128        144.929477            -37.823244   \n",
       "\n",
       "   Destination Longitude  Journey Distance(m) Departure Date Departure Time  \\\n",
       "0             144.974466               3102.0     2018-04-03       06:38:46   \n",
       "1             144.980377               8639.0     2018-05-13       14:15:10   \n",
       "2             144.985371              45570.0     2018-06-11       12:48:54   \n",
       "3             144.992731               3202.0     2018-03-01       02:09:08   \n",
       "4             144.968767               4338.0     2018-07-23       00:42:44   \n",
       "\n",
       "   Travel Time(s) Arrival Time   Fare$  day_of_week  time_of_day  \n",
       "0          736.32      6:51:02    4.48            0            0  \n",
       "1         2352.90     14:54:22   15.68            1            1  \n",
       "2        10891.32     15:50:25   19.12            0            1  \n",
       "3          824.64      2:22:52    9.11            0            2  \n",
       "4         1063.86      1:00:27  112.48            0            2  "
      ]
     },
     "execution_count": 75,
     "metadata": {},
     "output_type": "execute_result"
    }
   ],
   "source": [
    "df_outliers.head()"
   ]
  },
  {
   "cell_type": "markdown",
   "metadata": {},
   "source": [
    "the test data now is the outliers file which is given to us."
   ]
  },
  {
   "cell_type": "code",
   "execution_count": 76,
   "metadata": {},
   "outputs": [],
   "source": [
    "test_data = df_outliers"
   ]
  },
  {
   "cell_type": "code",
   "execution_count": 77,
   "metadata": {},
   "outputs": [
    {
     "data": {
      "text/html": [
       "<div>\n",
       "<style scoped>\n",
       "    .dataframe tbody tr th:only-of-type {\n",
       "        vertical-align: middle;\n",
       "    }\n",
       "\n",
       "    .dataframe tbody tr th {\n",
       "        vertical-align: top;\n",
       "    }\n",
       "\n",
       "    .dataframe thead th {\n",
       "        text-align: right;\n",
       "    }\n",
       "</style>\n",
       "<table border=\"1\" class=\"dataframe\">\n",
       "  <thead>\n",
       "    <tr style=\"text-align: right;\">\n",
       "      <th></th>\n",
       "      <th>Uber Type</th>\n",
       "      <th>Journey Distance(m)</th>\n",
       "      <th>Travel Time(s)</th>\n",
       "      <th>day_of_week</th>\n",
       "      <th>time_of_day</th>\n",
       "      <th>Fare$</th>\n",
       "    </tr>\n",
       "  </thead>\n",
       "  <tbody>\n",
       "    <tr>\n",
       "      <th>0</th>\n",
       "      <td>1.0</td>\n",
       "      <td>8304.0</td>\n",
       "      <td>2929.02</td>\n",
       "      <td>1</td>\n",
       "      <td>1</td>\n",
       "      <td>27.66</td>\n",
       "    </tr>\n",
       "    <tr>\n",
       "      <th>1</th>\n",
       "      <td>2.0</td>\n",
       "      <td>3408.0</td>\n",
       "      <td>881.64</td>\n",
       "      <td>0</td>\n",
       "      <td>1</td>\n",
       "      <td>106.43</td>\n",
       "    </tr>\n",
       "    <tr>\n",
       "      <th>2</th>\n",
       "      <td>0.0</td>\n",
       "      <td>43128.0</td>\n",
       "      <td>10438.14</td>\n",
       "      <td>1</td>\n",
       "      <td>1</td>\n",
       "      <td>19.93</td>\n",
       "    </tr>\n",
       "    <tr>\n",
       "      <th>3</th>\n",
       "      <td>2.0</td>\n",
       "      <td>43455.0</td>\n",
       "      <td>10437.48</td>\n",
       "      <td>1</td>\n",
       "      <td>1</td>\n",
       "      <td>1031.39</td>\n",
       "    </tr>\n",
       "    <tr>\n",
       "      <th>4</th>\n",
       "      <td>1.0</td>\n",
       "      <td>10817.0</td>\n",
       "      <td>3501.60</td>\n",
       "      <td>0</td>\n",
       "      <td>1</td>\n",
       "      <td>24.35</td>\n",
       "    </tr>\n",
       "  </tbody>\n",
       "</table>\n",
       "</div>"
      ],
      "text/plain": [
       "   Uber Type  Journey Distance(m)  Travel Time(s)  day_of_week  time_of_day  \\\n",
       "0        1.0               8304.0         2929.02            1            1   \n",
       "1        2.0               3408.0          881.64            0            1   \n",
       "2        0.0              43128.0        10438.14            1            1   \n",
       "3        2.0              43455.0        10437.48            1            1   \n",
       "4        1.0              10817.0         3501.60            0            1   \n",
       "\n",
       "     Fare$  \n",
       "0    27.66  \n",
       "1   106.43  \n",
       "2    19.93  \n",
       "3  1031.39  \n",
       "4    24.35  "
      ]
     },
     "execution_count": 77,
     "metadata": {},
     "output_type": "execute_result"
    }
   ],
   "source": [
    "train_data.head()"
   ]
  },
  {
   "cell_type": "markdown",
   "metadata": {},
   "source": [
    "Now in a similar manner we would predict the fare values for the outliers dataset."
   ]
  },
  {
   "cell_type": "code",
   "execution_count": 78,
   "metadata": {},
   "outputs": [],
   "source": [
    "from sklearn.model_selection import train_test_split\n",
    "predectionsall = []\n",
    "\n",
    "for i in range(3):\n",
    "    train_data_i = train_data[train_data['Uber Type'] == i]\n",
    "    test_data_i = test_data[test_data['Uber Type'] == i]\n",
    "    X = train_data_i[train_data_i.columns[0:5]]\n",
    "    y = train_data_i['Fare$']\n",
    "    Xtrain = X\n",
    "    ytrain = y\n",
    "    Xtest = test_data_i[['Uber Type','Journey Distance(m)','Travel Time(s)','day_of_week','time_of_day']]\n",
    "    lm_full = LinearRegression()\n",
    "    lm_full.fit(Xtrain,ytrain)\n",
    "    predections = lm_full.predict(Xtest)\n",
    "    predectionsall.append(list(predections))\n",
    "\n"
   ]
  },
  {
   "cell_type": "markdown",
   "metadata": {},
   "source": [
    "Now we would create a column named Fare_Predicted in the outliers dataset and fill in the predicted values accordingly."
   ]
  },
  {
   "cell_type": "code",
   "execution_count": 79,
   "metadata": {},
   "outputs": [],
   "source": [
    "df_outliers['Fare_Predicted'] = np.nan"
   ]
  },
  {
   "cell_type": "code",
   "execution_count": 80,
   "metadata": {},
   "outputs": [
    {
     "name": "stderr",
     "output_type": "stream",
     "text": [
      "/anaconda3/lib/python3.6/site-packages/ipykernel_launcher.py:6: SettingWithCopyWarning: \n",
      "A value is trying to be set on a copy of a slice from a DataFrame\n",
      "\n",
      "See the caveats in the documentation: http://pandas.pydata.org/pandas-docs/stable/indexing.html#indexing-view-versus-copy\n",
      "  \n",
      "/anaconda3/lib/python3.6/site-packages/ipykernel_launcher.py:9: SettingWithCopyWarning: \n",
      "A value is trying to be set on a copy of a slice from a DataFrame\n",
      "\n",
      "See the caveats in the documentation: http://pandas.pydata.org/pandas-docs/stable/indexing.html#indexing-view-versus-copy\n",
      "  if __name__ == '__main__':\n",
      "/anaconda3/lib/python3.6/site-packages/ipykernel_launcher.py:12: SettingWithCopyWarning: \n",
      "A value is trying to be set on a copy of a slice from a DataFrame\n",
      "\n",
      "See the caveats in the documentation: http://pandas.pydata.org/pandas-docs/stable/indexing.html#indexing-view-versus-copy\n",
      "  if sys.path[0] == '':\n"
     ]
    }
   ],
   "source": [
    "zero_type = 0\n",
    "one_type = 0\n",
    "two_type = 0\n",
    "for i in df_outliers.index:\n",
    "    if df_outliers['Uber Type'][i] == 0:\n",
    "        df_outliers['Fare_Predicted'][i] = predectionsall[0][zero_type]\n",
    "        zero_type+=1\n",
    "    if df_outliers['Uber Type'][i] == 1:\n",
    "        df_outliers['Fare_Predicted'][i] = predectionsall[1][one_type]\n",
    "        one_type+=1\n",
    "    if df_outliers['Uber Type'][i] == 2:\n",
    "        df_outliers['Fare_Predicted'][i] = predectionsall[2][two_type]\n",
    "        two_type+=1"
   ]
  },
  {
   "cell_type": "code",
   "execution_count": 81,
   "metadata": {},
   "outputs": [
    {
     "data": {
      "text/html": [
       "<div>\n",
       "<style scoped>\n",
       "    .dataframe tbody tr th:only-of-type {\n",
       "        vertical-align: middle;\n",
       "    }\n",
       "\n",
       "    .dataframe tbody tr th {\n",
       "        vertical-align: top;\n",
       "    }\n",
       "\n",
       "    .dataframe thead th {\n",
       "        text-align: right;\n",
       "    }\n",
       "</style>\n",
       "<table border=\"1\" class=\"dataframe\">\n",
       "  <thead>\n",
       "    <tr style=\"text-align: right;\">\n",
       "      <th></th>\n",
       "      <th>Unnamed: 0</th>\n",
       "      <th>Unnamed: 0.1</th>\n",
       "      <th>Uber Type</th>\n",
       "      <th>Origin Region</th>\n",
       "      <th>Destination Region</th>\n",
       "      <th>Origin Latitude</th>\n",
       "      <th>Origin Longitude</th>\n",
       "      <th>Destination Latitude</th>\n",
       "      <th>Destination Longitude</th>\n",
       "      <th>Journey Distance(m)</th>\n",
       "      <th>Departure Date</th>\n",
       "      <th>Departure Time</th>\n",
       "      <th>Travel Time(s)</th>\n",
       "      <th>Arrival Time</th>\n",
       "      <th>Fare$</th>\n",
       "      <th>day_of_week</th>\n",
       "      <th>time_of_day</th>\n",
       "      <th>Fare_Predicted</th>\n",
       "    </tr>\n",
       "  </thead>\n",
       "  <tbody>\n",
       "    <tr>\n",
       "      <th>0</th>\n",
       "      <td>0</td>\n",
       "      <td>ID1530894700</td>\n",
       "      <td>0</td>\n",
       "      <td>2</td>\n",
       "      <td>1</td>\n",
       "      <td>-37.818009</td>\n",
       "      <td>144.948597</td>\n",
       "      <td>-37.805406</td>\n",
       "      <td>144.974466</td>\n",
       "      <td>3102.0</td>\n",
       "      <td>2018-04-03</td>\n",
       "      <td>06:38:46</td>\n",
       "      <td>736.32</td>\n",
       "      <td>6:51:02</td>\n",
       "      <td>4.48</td>\n",
       "      <td>0</td>\n",
       "      <td>0</td>\n",
       "      <td>4.874291</td>\n",
       "    </tr>\n",
       "    <tr>\n",
       "      <th>1</th>\n",
       "      <td>1</td>\n",
       "      <td>ID1778027030</td>\n",
       "      <td>0</td>\n",
       "      <td>5</td>\n",
       "      <td>6</td>\n",
       "      <td>-37.810039</td>\n",
       "      <td>144.904753</td>\n",
       "      <td>-37.787433</td>\n",
       "      <td>144.980377</td>\n",
       "      <td>8639.0</td>\n",
       "      <td>2018-05-13</td>\n",
       "      <td>14:15:10</td>\n",
       "      <td>2352.90</td>\n",
       "      <td>14:54:22</td>\n",
       "      <td>15.68</td>\n",
       "      <td>1</td>\n",
       "      <td>1</td>\n",
       "      <td>14.466714</td>\n",
       "    </tr>\n",
       "    <tr>\n",
       "      <th>2</th>\n",
       "      <td>2</td>\n",
       "      <td>ID1599873860</td>\n",
       "      <td>0</td>\n",
       "      <td>9</td>\n",
       "      <td>3</td>\n",
       "      <td>-38.110916</td>\n",
       "      <td>144.654173</td>\n",
       "      <td>-37.811763</td>\n",
       "      <td>144.985371</td>\n",
       "      <td>45570.0</td>\n",
       "      <td>2018-06-11</td>\n",
       "      <td>12:48:54</td>\n",
       "      <td>10891.32</td>\n",
       "      <td>15:50:25</td>\n",
       "      <td>19.12</td>\n",
       "      <td>0</td>\n",
       "      <td>1</td>\n",
       "      <td>18.451411</td>\n",
       "    </tr>\n",
       "    <tr>\n",
       "      <th>3</th>\n",
       "      <td>3</td>\n",
       "      <td>ID3723667905</td>\n",
       "      <td>1</td>\n",
       "      <td>8</td>\n",
       "      <td>4</td>\n",
       "      <td>-37.807202</td>\n",
       "      <td>145.026637</td>\n",
       "      <td>-37.805037</td>\n",
       "      <td>144.992731</td>\n",
       "      <td>3202.0</td>\n",
       "      <td>2018-03-01</td>\n",
       "      <td>02:09:08</td>\n",
       "      <td>824.64</td>\n",
       "      <td>2:22:52</td>\n",
       "      <td>9.11</td>\n",
       "      <td>0</td>\n",
       "      <td>2</td>\n",
       "      <td>17.450457</td>\n",
       "    </tr>\n",
       "    <tr>\n",
       "      <th>4</th>\n",
       "      <td>4</td>\n",
       "      <td>ID5797495055</td>\n",
       "      <td>2</td>\n",
       "      <td>2</td>\n",
       "      <td>3</td>\n",
       "      <td>-37.818128</td>\n",
       "      <td>144.929477</td>\n",
       "      <td>-37.823244</td>\n",
       "      <td>144.968767</td>\n",
       "      <td>4338.0</td>\n",
       "      <td>2018-07-23</td>\n",
       "      <td>00:42:44</td>\n",
       "      <td>1063.86</td>\n",
       "      <td>1:00:27</td>\n",
       "      <td>112.48</td>\n",
       "      <td>0</td>\n",
       "      <td>2</td>\n",
       "      <td>146.045833</td>\n",
       "    </tr>\n",
       "  </tbody>\n",
       "</table>\n",
       "</div>"
      ],
      "text/plain": [
       "   Unnamed: 0  Unnamed: 0.1  Uber Type  Origin Region  Destination Region  \\\n",
       "0           0  ID1530894700          0              2                   1   \n",
       "1           1  ID1778027030          0              5                   6   \n",
       "2           2  ID1599873860          0              9                   3   \n",
       "3           3  ID3723667905          1              8                   4   \n",
       "4           4  ID5797495055          2              2                   3   \n",
       "\n",
       "   Origin Latitude  Origin Longitude  Destination Latitude  \\\n",
       "0       -37.818009        144.948597            -37.805406   \n",
       "1       -37.810039        144.904753            -37.787433   \n",
       "2       -38.110916        144.654173            -37.811763   \n",
       "3       -37.807202        145.026637            -37.805037   \n",
       "4       -37.818128        144.929477            -37.823244   \n",
       "\n",
       "   Destination Longitude  Journey Distance(m) Departure Date Departure Time  \\\n",
       "0             144.974466               3102.0     2018-04-03       06:38:46   \n",
       "1             144.980377               8639.0     2018-05-13       14:15:10   \n",
       "2             144.985371              45570.0     2018-06-11       12:48:54   \n",
       "3             144.992731               3202.0     2018-03-01       02:09:08   \n",
       "4             144.968767               4338.0     2018-07-23       00:42:44   \n",
       "\n",
       "   Travel Time(s) Arrival Time   Fare$  day_of_week  time_of_day  \\\n",
       "0          736.32      6:51:02    4.48            0            0   \n",
       "1         2352.90     14:54:22   15.68            1            1   \n",
       "2        10891.32     15:50:25   19.12            0            1   \n",
       "3          824.64      2:22:52    9.11            0            2   \n",
       "4         1063.86      1:00:27  112.48            0            2   \n",
       "\n",
       "   Fare_Predicted  \n",
       "0        4.874291  \n",
       "1       14.466714  \n",
       "2       18.451411  \n",
       "3       17.450457  \n",
       "4      146.045833  "
      ]
     },
     "execution_count": 81,
     "metadata": {},
     "output_type": "execute_result"
    }
   ],
   "source": [
    "df_outliers.head()"
   ]
  },
  {
   "cell_type": "markdown",
   "metadata": {},
   "source": [
    "Now we would find the fare residuals for the outliers dataset. This is done by taking the difference between the predicted fares and the given fares in the outliers dataset"
   ]
  },
  {
   "cell_type": "code",
   "execution_count": 82,
   "metadata": {},
   "outputs": [],
   "source": [
    "df_outliers['Fare_Difference'] = np.nan"
   ]
  },
  {
   "cell_type": "code",
   "execution_count": 83,
   "metadata": {},
   "outputs": [
    {
     "name": "stderr",
     "output_type": "stream",
     "text": [
      "/anaconda3/lib/python3.6/site-packages/ipykernel_launcher.py:2: SettingWithCopyWarning: \n",
      "A value is trying to be set on a copy of a slice from a DataFrame\n",
      "\n",
      "See the caveats in the documentation: http://pandas.pydata.org/pandas-docs/stable/indexing.html#indexing-view-versus-copy\n",
      "  \n"
     ]
    }
   ],
   "source": [
    "for i in df_outliers.index:\n",
    "    df_outliers['Fare_Difference'][i] = abs(df_outliers['Fare_Predicted'][i]-df_outliers['Fare$'][i])"
   ]
  },
  {
   "cell_type": "code",
   "execution_count": 84,
   "metadata": {},
   "outputs": [
    {
     "data": {
      "text/html": [
       "<div>\n",
       "<style scoped>\n",
       "    .dataframe tbody tr th:only-of-type {\n",
       "        vertical-align: middle;\n",
       "    }\n",
       "\n",
       "    .dataframe tbody tr th {\n",
       "        vertical-align: top;\n",
       "    }\n",
       "\n",
       "    .dataframe thead th {\n",
       "        text-align: right;\n",
       "    }\n",
       "</style>\n",
       "<table border=\"1\" class=\"dataframe\">\n",
       "  <thead>\n",
       "    <tr style=\"text-align: right;\">\n",
       "      <th></th>\n",
       "      <th>Unnamed: 0</th>\n",
       "      <th>Unnamed: 0.1</th>\n",
       "      <th>Uber Type</th>\n",
       "      <th>Origin Region</th>\n",
       "      <th>Destination Region</th>\n",
       "      <th>Origin Latitude</th>\n",
       "      <th>Origin Longitude</th>\n",
       "      <th>Destination Latitude</th>\n",
       "      <th>Destination Longitude</th>\n",
       "      <th>Journey Distance(m)</th>\n",
       "      <th>Departure Date</th>\n",
       "      <th>Departure Time</th>\n",
       "      <th>Travel Time(s)</th>\n",
       "      <th>Arrival Time</th>\n",
       "      <th>Fare$</th>\n",
       "      <th>day_of_week</th>\n",
       "      <th>time_of_day</th>\n",
       "      <th>Fare_Predicted</th>\n",
       "      <th>Fare_Difference</th>\n",
       "    </tr>\n",
       "  </thead>\n",
       "  <tbody>\n",
       "    <tr>\n",
       "      <th>0</th>\n",
       "      <td>0</td>\n",
       "      <td>ID1530894700</td>\n",
       "      <td>0</td>\n",
       "      <td>2</td>\n",
       "      <td>1</td>\n",
       "      <td>-37.818009</td>\n",
       "      <td>144.948597</td>\n",
       "      <td>-37.805406</td>\n",
       "      <td>144.974466</td>\n",
       "      <td>3102.0</td>\n",
       "      <td>2018-04-03</td>\n",
       "      <td>06:38:46</td>\n",
       "      <td>736.32</td>\n",
       "      <td>6:51:02</td>\n",
       "      <td>4.48</td>\n",
       "      <td>0</td>\n",
       "      <td>0</td>\n",
       "      <td>4.874291</td>\n",
       "      <td>0.394291</td>\n",
       "    </tr>\n",
       "    <tr>\n",
       "      <th>1</th>\n",
       "      <td>1</td>\n",
       "      <td>ID1778027030</td>\n",
       "      <td>0</td>\n",
       "      <td>5</td>\n",
       "      <td>6</td>\n",
       "      <td>-37.810039</td>\n",
       "      <td>144.904753</td>\n",
       "      <td>-37.787433</td>\n",
       "      <td>144.980377</td>\n",
       "      <td>8639.0</td>\n",
       "      <td>2018-05-13</td>\n",
       "      <td>14:15:10</td>\n",
       "      <td>2352.90</td>\n",
       "      <td>14:54:22</td>\n",
       "      <td>15.68</td>\n",
       "      <td>1</td>\n",
       "      <td>1</td>\n",
       "      <td>14.466714</td>\n",
       "      <td>1.213286</td>\n",
       "    </tr>\n",
       "    <tr>\n",
       "      <th>2</th>\n",
       "      <td>2</td>\n",
       "      <td>ID1599873860</td>\n",
       "      <td>0</td>\n",
       "      <td>9</td>\n",
       "      <td>3</td>\n",
       "      <td>-38.110916</td>\n",
       "      <td>144.654173</td>\n",
       "      <td>-37.811763</td>\n",
       "      <td>144.985371</td>\n",
       "      <td>45570.0</td>\n",
       "      <td>2018-06-11</td>\n",
       "      <td>12:48:54</td>\n",
       "      <td>10891.32</td>\n",
       "      <td>15:50:25</td>\n",
       "      <td>19.12</td>\n",
       "      <td>0</td>\n",
       "      <td>1</td>\n",
       "      <td>18.451411</td>\n",
       "      <td>0.668589</td>\n",
       "    </tr>\n",
       "    <tr>\n",
       "      <th>3</th>\n",
       "      <td>3</td>\n",
       "      <td>ID3723667905</td>\n",
       "      <td>1</td>\n",
       "      <td>8</td>\n",
       "      <td>4</td>\n",
       "      <td>-37.807202</td>\n",
       "      <td>145.026637</td>\n",
       "      <td>-37.805037</td>\n",
       "      <td>144.992731</td>\n",
       "      <td>3202.0</td>\n",
       "      <td>2018-03-01</td>\n",
       "      <td>02:09:08</td>\n",
       "      <td>824.64</td>\n",
       "      <td>2:22:52</td>\n",
       "      <td>9.11</td>\n",
       "      <td>0</td>\n",
       "      <td>2</td>\n",
       "      <td>17.450457</td>\n",
       "      <td>8.340457</td>\n",
       "    </tr>\n",
       "    <tr>\n",
       "      <th>4</th>\n",
       "      <td>4</td>\n",
       "      <td>ID5797495055</td>\n",
       "      <td>2</td>\n",
       "      <td>2</td>\n",
       "      <td>3</td>\n",
       "      <td>-37.818128</td>\n",
       "      <td>144.929477</td>\n",
       "      <td>-37.823244</td>\n",
       "      <td>144.968767</td>\n",
       "      <td>4338.0</td>\n",
       "      <td>2018-07-23</td>\n",
       "      <td>00:42:44</td>\n",
       "      <td>1063.86</td>\n",
       "      <td>1:00:27</td>\n",
       "      <td>112.48</td>\n",
       "      <td>0</td>\n",
       "      <td>2</td>\n",
       "      <td>146.045833</td>\n",
       "      <td>33.565833</td>\n",
       "    </tr>\n",
       "  </tbody>\n",
       "</table>\n",
       "</div>"
      ],
      "text/plain": [
       "   Unnamed: 0  Unnamed: 0.1  Uber Type  Origin Region  Destination Region  \\\n",
       "0           0  ID1530894700          0              2                   1   \n",
       "1           1  ID1778027030          0              5                   6   \n",
       "2           2  ID1599873860          0              9                   3   \n",
       "3           3  ID3723667905          1              8                   4   \n",
       "4           4  ID5797495055          2              2                   3   \n",
       "\n",
       "   Origin Latitude  Origin Longitude  Destination Latitude  \\\n",
       "0       -37.818009        144.948597            -37.805406   \n",
       "1       -37.810039        144.904753            -37.787433   \n",
       "2       -38.110916        144.654173            -37.811763   \n",
       "3       -37.807202        145.026637            -37.805037   \n",
       "4       -37.818128        144.929477            -37.823244   \n",
       "\n",
       "   Destination Longitude  Journey Distance(m) Departure Date Departure Time  \\\n",
       "0             144.974466               3102.0     2018-04-03       06:38:46   \n",
       "1             144.980377               8639.0     2018-05-13       14:15:10   \n",
       "2             144.985371              45570.0     2018-06-11       12:48:54   \n",
       "3             144.992731               3202.0     2018-03-01       02:09:08   \n",
       "4             144.968767               4338.0     2018-07-23       00:42:44   \n",
       "\n",
       "   Travel Time(s) Arrival Time   Fare$  day_of_week  time_of_day  \\\n",
       "0          736.32      6:51:02    4.48            0            0   \n",
       "1         2352.90     14:54:22   15.68            1            1   \n",
       "2        10891.32     15:50:25   19.12            0            1   \n",
       "3          824.64      2:22:52    9.11            0            2   \n",
       "4         1063.86      1:00:27  112.48            0            2   \n",
       "\n",
       "   Fare_Predicted  Fare_Difference  \n",
       "0        4.874291         0.394291  \n",
       "1       14.466714         1.213286  \n",
       "2       18.451411         0.668589  \n",
       "3       17.450457         8.340457  \n",
       "4      146.045833        33.565833  "
      ]
     },
     "execution_count": 84,
     "metadata": {},
     "output_type": "execute_result"
    }
   ],
   "source": [
    "df_outliers.head()"
   ]
  },
  {
   "cell_type": "markdown",
   "metadata": {},
   "source": [
    "## Dropping the outliers based on the threshold"
   ]
  },
  {
   "cell_type": "code",
   "execution_count": 85,
   "metadata": {},
   "outputs": [],
   "source": [
    "for i in df_outliers[df_outliers['Uber Type'] == 0].index:\n",
    "    if df_outliers['Fare_Difference'][i] < lower_0 or df_outliers['Fare_Difference'][i] > upper_0:\n",
    "        df_outliers.drop(df_outliers[df_outliers['Fare_Difference']==df_outliers['Fare_Difference'][i]].index, inplace=True)"
   ]
  },
  {
   "cell_type": "code",
   "execution_count": 86,
   "metadata": {},
   "outputs": [],
   "source": [
    "for i in df_outliers[df_outliers['Uber Type'] == 1].index:\n",
    "    if df_outliers['Fare_Difference'][i] < lower_1 or df_outliers['Fare_Difference'][i] > upper_1:\n",
    "        df_outliers.drop(df_outliers[df_outliers['Fare_Difference']==df_outliers['Fare_Difference'][i]].index, inplace=True)"
   ]
  },
  {
   "cell_type": "code",
   "execution_count": 87,
   "metadata": {},
   "outputs": [],
   "source": [
    "for i in df_outliers[df_outliers['Uber Type'] == 2].index:\n",
    "    if df_outliers['Fare_Difference'][i] < lower_2 or df_outliers['Fare_Difference'][i] > upper_2:\n",
    "        df_outliers.drop(df_outliers[df_outliers['Fare_Difference']==df_outliers['Fare_Difference'][i]].index, inplace=True)"
   ]
  },
  {
   "cell_type": "code",
   "execution_count": 88,
   "metadata": {},
   "outputs": [
    {
     "data": {
      "text/html": [
       "<div>\n",
       "<style scoped>\n",
       "    .dataframe tbody tr th:only-of-type {\n",
       "        vertical-align: middle;\n",
       "    }\n",
       "\n",
       "    .dataframe tbody tr th {\n",
       "        vertical-align: top;\n",
       "    }\n",
       "\n",
       "    .dataframe thead th {\n",
       "        text-align: right;\n",
       "    }\n",
       "</style>\n",
       "<table border=\"1\" class=\"dataframe\">\n",
       "  <thead>\n",
       "    <tr style=\"text-align: right;\">\n",
       "      <th></th>\n",
       "      <th>Unnamed: 0</th>\n",
       "      <th>Unnamed: 0.1</th>\n",
       "      <th>Uber Type</th>\n",
       "      <th>Origin Region</th>\n",
       "      <th>Destination Region</th>\n",
       "      <th>Origin Latitude</th>\n",
       "      <th>Origin Longitude</th>\n",
       "      <th>Destination Latitude</th>\n",
       "      <th>Destination Longitude</th>\n",
       "      <th>Journey Distance(m)</th>\n",
       "      <th>Departure Date</th>\n",
       "      <th>Departure Time</th>\n",
       "      <th>Travel Time(s)</th>\n",
       "      <th>Arrival Time</th>\n",
       "      <th>Fare$</th>\n",
       "      <th>day_of_week</th>\n",
       "      <th>time_of_day</th>\n",
       "      <th>Fare_Predicted</th>\n",
       "      <th>Fare_Difference</th>\n",
       "    </tr>\n",
       "  </thead>\n",
       "  <tbody>\n",
       "    <tr>\n",
       "      <th>0</th>\n",
       "      <td>0</td>\n",
       "      <td>ID1530894700</td>\n",
       "      <td>0</td>\n",
       "      <td>2</td>\n",
       "      <td>1</td>\n",
       "      <td>-37.818009</td>\n",
       "      <td>144.948597</td>\n",
       "      <td>-37.805406</td>\n",
       "      <td>144.974466</td>\n",
       "      <td>3102.0</td>\n",
       "      <td>2018-04-03</td>\n",
       "      <td>06:38:46</td>\n",
       "      <td>736.32</td>\n",
       "      <td>6:51:02</td>\n",
       "      <td>4.48</td>\n",
       "      <td>0</td>\n",
       "      <td>0</td>\n",
       "      <td>4.874291</td>\n",
       "      <td>0.394291</td>\n",
       "    </tr>\n",
       "    <tr>\n",
       "      <th>1</th>\n",
       "      <td>1</td>\n",
       "      <td>ID1778027030</td>\n",
       "      <td>0</td>\n",
       "      <td>5</td>\n",
       "      <td>6</td>\n",
       "      <td>-37.810039</td>\n",
       "      <td>144.904753</td>\n",
       "      <td>-37.787433</td>\n",
       "      <td>144.980377</td>\n",
       "      <td>8639.0</td>\n",
       "      <td>2018-05-13</td>\n",
       "      <td>14:15:10</td>\n",
       "      <td>2352.90</td>\n",
       "      <td>14:54:22</td>\n",
       "      <td>15.68</td>\n",
       "      <td>1</td>\n",
       "      <td>1</td>\n",
       "      <td>14.466714</td>\n",
       "      <td>1.213286</td>\n",
       "    </tr>\n",
       "    <tr>\n",
       "      <th>2</th>\n",
       "      <td>2</td>\n",
       "      <td>ID1599873860</td>\n",
       "      <td>0</td>\n",
       "      <td>9</td>\n",
       "      <td>3</td>\n",
       "      <td>-38.110916</td>\n",
       "      <td>144.654173</td>\n",
       "      <td>-37.811763</td>\n",
       "      <td>144.985371</td>\n",
       "      <td>45570.0</td>\n",
       "      <td>2018-06-11</td>\n",
       "      <td>12:48:54</td>\n",
       "      <td>10891.32</td>\n",
       "      <td>15:50:25</td>\n",
       "      <td>19.12</td>\n",
       "      <td>0</td>\n",
       "      <td>1</td>\n",
       "      <td>18.451411</td>\n",
       "      <td>0.668589</td>\n",
       "    </tr>\n",
       "    <tr>\n",
       "      <th>3</th>\n",
       "      <td>3</td>\n",
       "      <td>ID3723667905</td>\n",
       "      <td>1</td>\n",
       "      <td>8</td>\n",
       "      <td>4</td>\n",
       "      <td>-37.807202</td>\n",
       "      <td>145.026637</td>\n",
       "      <td>-37.805037</td>\n",
       "      <td>144.992731</td>\n",
       "      <td>3202.0</td>\n",
       "      <td>2018-03-01</td>\n",
       "      <td>02:09:08</td>\n",
       "      <td>824.64</td>\n",
       "      <td>2:22:52</td>\n",
       "      <td>9.11</td>\n",
       "      <td>0</td>\n",
       "      <td>2</td>\n",
       "      <td>17.450457</td>\n",
       "      <td>8.340457</td>\n",
       "    </tr>\n",
       "    <tr>\n",
       "      <th>4</th>\n",
       "      <td>4</td>\n",
       "      <td>ID5797495055</td>\n",
       "      <td>2</td>\n",
       "      <td>2</td>\n",
       "      <td>3</td>\n",
       "      <td>-37.818128</td>\n",
       "      <td>144.929477</td>\n",
       "      <td>-37.823244</td>\n",
       "      <td>144.968767</td>\n",
       "      <td>4338.0</td>\n",
       "      <td>2018-07-23</td>\n",
       "      <td>00:42:44</td>\n",
       "      <td>1063.86</td>\n",
       "      <td>1:00:27</td>\n",
       "      <td>112.48</td>\n",
       "      <td>0</td>\n",
       "      <td>2</td>\n",
       "      <td>146.045833</td>\n",
       "      <td>33.565833</td>\n",
       "    </tr>\n",
       "  </tbody>\n",
       "</table>\n",
       "</div>"
      ],
      "text/plain": [
       "   Unnamed: 0  Unnamed: 0.1  Uber Type  Origin Region  Destination Region  \\\n",
       "0           0  ID1530894700          0              2                   1   \n",
       "1           1  ID1778027030          0              5                   6   \n",
       "2           2  ID1599873860          0              9                   3   \n",
       "3           3  ID3723667905          1              8                   4   \n",
       "4           4  ID5797495055          2              2                   3   \n",
       "\n",
       "   Origin Latitude  Origin Longitude  Destination Latitude  \\\n",
       "0       -37.818009        144.948597            -37.805406   \n",
       "1       -37.810039        144.904753            -37.787433   \n",
       "2       -38.110916        144.654173            -37.811763   \n",
       "3       -37.807202        145.026637            -37.805037   \n",
       "4       -37.818128        144.929477            -37.823244   \n",
       "\n",
       "   Destination Longitude  Journey Distance(m) Departure Date Departure Time  \\\n",
       "0             144.974466               3102.0     2018-04-03       06:38:46   \n",
       "1             144.980377               8639.0     2018-05-13       14:15:10   \n",
       "2             144.985371              45570.0     2018-06-11       12:48:54   \n",
       "3             144.992731               3202.0     2018-03-01       02:09:08   \n",
       "4             144.968767               4338.0     2018-07-23       00:42:44   \n",
       "\n",
       "   Travel Time(s) Arrival Time   Fare$  day_of_week  time_of_day  \\\n",
       "0          736.32      6:51:02    4.48            0            0   \n",
       "1         2352.90     14:54:22   15.68            1            1   \n",
       "2        10891.32     15:50:25   19.12            0            1   \n",
       "3          824.64      2:22:52    9.11            0            2   \n",
       "4         1063.86      1:00:27  112.48            0            2   \n",
       "\n",
       "   Fare_Predicted  Fare_Difference  \n",
       "0        4.874291         0.394291  \n",
       "1       14.466714         1.213286  \n",
       "2       18.451411         0.668589  \n",
       "3       17.450457         8.340457  \n",
       "4      146.045833        33.565833  "
      ]
     },
     "execution_count": 88,
     "metadata": {},
     "output_type": "execute_result"
    }
   ],
   "source": [
    "df_outliers.head()"
   ]
  },
  {
   "cell_type": "markdown",
   "metadata": {},
   "source": [
    "Now in the next step we would drop the columns which we have created for dropping the outliers in the outliers dataset."
   ]
  },
  {
   "cell_type": "code",
   "execution_count": 89,
   "metadata": {},
   "outputs": [],
   "source": [
    "df_outliers.drop(labels=['time_of_day','day_of_week','Fare_Predicted','Fare_Difference','Unnamed: 0'],axis=1,inplace=True)"
   ]
  },
  {
   "cell_type": "code",
   "execution_count": 90,
   "metadata": {},
   "outputs": [
    {
     "data": {
      "text/html": [
       "<div>\n",
       "<style scoped>\n",
       "    .dataframe tbody tr th:only-of-type {\n",
       "        vertical-align: middle;\n",
       "    }\n",
       "\n",
       "    .dataframe tbody tr th {\n",
       "        vertical-align: top;\n",
       "    }\n",
       "\n",
       "    .dataframe thead th {\n",
       "        text-align: right;\n",
       "    }\n",
       "</style>\n",
       "<table border=\"1\" class=\"dataframe\">\n",
       "  <thead>\n",
       "    <tr style=\"text-align: right;\">\n",
       "      <th></th>\n",
       "      <th>Unnamed: 0.1</th>\n",
       "      <th>Uber Type</th>\n",
       "      <th>Origin Region</th>\n",
       "      <th>Destination Region</th>\n",
       "      <th>Origin Latitude</th>\n",
       "      <th>Origin Longitude</th>\n",
       "      <th>Destination Latitude</th>\n",
       "      <th>Destination Longitude</th>\n",
       "      <th>Journey Distance(m)</th>\n",
       "      <th>Departure Date</th>\n",
       "      <th>Departure Time</th>\n",
       "      <th>Travel Time(s)</th>\n",
       "      <th>Arrival Time</th>\n",
       "      <th>Fare$</th>\n",
       "    </tr>\n",
       "  </thead>\n",
       "  <tbody>\n",
       "    <tr>\n",
       "      <th>0</th>\n",
       "      <td>ID1530894700</td>\n",
       "      <td>0</td>\n",
       "      <td>2</td>\n",
       "      <td>1</td>\n",
       "      <td>-37.818009</td>\n",
       "      <td>144.948597</td>\n",
       "      <td>-37.805406</td>\n",
       "      <td>144.974466</td>\n",
       "      <td>3102.0</td>\n",
       "      <td>2018-04-03</td>\n",
       "      <td>06:38:46</td>\n",
       "      <td>736.32</td>\n",
       "      <td>6:51:02</td>\n",
       "      <td>4.48</td>\n",
       "    </tr>\n",
       "    <tr>\n",
       "      <th>1</th>\n",
       "      <td>ID1778027030</td>\n",
       "      <td>0</td>\n",
       "      <td>5</td>\n",
       "      <td>6</td>\n",
       "      <td>-37.810039</td>\n",
       "      <td>144.904753</td>\n",
       "      <td>-37.787433</td>\n",
       "      <td>144.980377</td>\n",
       "      <td>8639.0</td>\n",
       "      <td>2018-05-13</td>\n",
       "      <td>14:15:10</td>\n",
       "      <td>2352.90</td>\n",
       "      <td>14:54:22</td>\n",
       "      <td>15.68</td>\n",
       "    </tr>\n",
       "    <tr>\n",
       "      <th>2</th>\n",
       "      <td>ID1599873860</td>\n",
       "      <td>0</td>\n",
       "      <td>9</td>\n",
       "      <td>3</td>\n",
       "      <td>-38.110916</td>\n",
       "      <td>144.654173</td>\n",
       "      <td>-37.811763</td>\n",
       "      <td>144.985371</td>\n",
       "      <td>45570.0</td>\n",
       "      <td>2018-06-11</td>\n",
       "      <td>12:48:54</td>\n",
       "      <td>10891.32</td>\n",
       "      <td>15:50:25</td>\n",
       "      <td>19.12</td>\n",
       "    </tr>\n",
       "    <tr>\n",
       "      <th>3</th>\n",
       "      <td>ID3723667905</td>\n",
       "      <td>1</td>\n",
       "      <td>8</td>\n",
       "      <td>4</td>\n",
       "      <td>-37.807202</td>\n",
       "      <td>145.026637</td>\n",
       "      <td>-37.805037</td>\n",
       "      <td>144.992731</td>\n",
       "      <td>3202.0</td>\n",
       "      <td>2018-03-01</td>\n",
       "      <td>02:09:08</td>\n",
       "      <td>824.64</td>\n",
       "      <td>2:22:52</td>\n",
       "      <td>9.11</td>\n",
       "    </tr>\n",
       "    <tr>\n",
       "      <th>4</th>\n",
       "      <td>ID5797495055</td>\n",
       "      <td>2</td>\n",
       "      <td>2</td>\n",
       "      <td>3</td>\n",
       "      <td>-37.818128</td>\n",
       "      <td>144.929477</td>\n",
       "      <td>-37.823244</td>\n",
       "      <td>144.968767</td>\n",
       "      <td>4338.0</td>\n",
       "      <td>2018-07-23</td>\n",
       "      <td>00:42:44</td>\n",
       "      <td>1063.86</td>\n",
       "      <td>1:00:27</td>\n",
       "      <td>112.48</td>\n",
       "    </tr>\n",
       "  </tbody>\n",
       "</table>\n",
       "</div>"
      ],
      "text/plain": [
       "   Unnamed: 0.1  Uber Type  Origin Region  Destination Region  \\\n",
       "0  ID1530894700          0              2                   1   \n",
       "1  ID1778027030          0              5                   6   \n",
       "2  ID1599873860          0              9                   3   \n",
       "3  ID3723667905          1              8                   4   \n",
       "4  ID5797495055          2              2                   3   \n",
       "\n",
       "   Origin Latitude  Origin Longitude  Destination Latitude  \\\n",
       "0       -37.818009        144.948597            -37.805406   \n",
       "1       -37.810039        144.904753            -37.787433   \n",
       "2       -38.110916        144.654173            -37.811763   \n",
       "3       -37.807202        145.026637            -37.805037   \n",
       "4       -37.818128        144.929477            -37.823244   \n",
       "\n",
       "   Destination Longitude  Journey Distance(m) Departure Date Departure Time  \\\n",
       "0             144.974466               3102.0     2018-04-03       06:38:46   \n",
       "1             144.980377               8639.0     2018-05-13       14:15:10   \n",
       "2             144.985371              45570.0     2018-06-11       12:48:54   \n",
       "3             144.992731               3202.0     2018-03-01       02:09:08   \n",
       "4             144.968767               4338.0     2018-07-23       00:42:44   \n",
       "\n",
       "   Travel Time(s) Arrival Time   Fare$  \n",
       "0          736.32      6:51:02    4.48  \n",
       "1         2352.90     14:54:22   15.68  \n",
       "2        10891.32     15:50:25   19.12  \n",
       "3          824.64      2:22:52    9.11  \n",
       "4         1063.86      1:00:27  112.48  "
      ]
     },
     "execution_count": 90,
     "metadata": {},
     "output_type": "execute_result"
    }
   ],
   "source": [
    "df_outliers.head()"
   ]
  },
  {
   "cell_type": "markdown",
   "metadata": {},
   "source": [
    "Now All the outliers from the file have been dropped thus we can write the dataframe to a new csv file."
   ]
  },
  {
   "cell_type": "code",
   "execution_count": 91,
   "metadata": {},
   "outputs": [],
   "source": [
    "df_outliers.to_csv('29996368_outliers_solution.csv')"
   ]
  }
 ],
 "metadata": {
  "kernelspec": {
   "display_name": "Python 3",
   "language": "python",
   "name": "python3"
  },
  "language_info": {
   "codemirror_mode": {
    "name": "ipython",
    "version": 3
   },
   "file_extension": ".py",
   "mimetype": "text/x-python",
   "name": "python",
   "nbconvert_exporter": "python",
   "pygments_lexer": "ipython3",
   "version": "3.7.3"
  }
 },
 "nbformat": 4,
 "nbformat_minor": 2
}
